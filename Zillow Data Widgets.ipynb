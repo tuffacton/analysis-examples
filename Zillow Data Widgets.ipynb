{
 "cells": [
  {
   "cell_type": "markdown",
   "metadata": {},
   "source": [
    "# Building Interactive Data Tools with Zillow Data"
   ]
  },
  {
   "cell_type": "markdown",
   "metadata": {},
   "source": [
    "This notebook can be used as an effective start to build out interactive python tools to be used with Zillow Datasets!"
   ]
  },
  {
   "cell_type": "markdown",
   "metadata": {},
   "source": [
    "We start by importing all necessary libraries and jupyter magics."
   ]
  },
  {
   "cell_type": "code",
   "execution_count": 1,
   "metadata": {},
   "outputs": [],
   "source": [
    "# This notebook is assuming you are running a Python 3 kernel!\n",
    "%matplotlib inline\n",
    "from IPython.display import display\n",
    "from ipywidgets import interactive, fixed, interact_manual\n",
    "import matplotlib.pyplot as plt\n",
    "import numpy as np\n",
    "import pandas as pd\n",
    "import operator\n",
    "import sys\n",
    "import os\n",
    "sys.path.insert(0,'../')\n",
    "%load_ext autoreload\n",
    "%autoreload 2"
   ]
  },
  {
   "cell_type": "markdown",
   "metadata": {},
   "source": [
    "We then provide a path to the necessary files. In this instance we are pointing to data that is [publicly available from Zillow](https://www.zillow.com/research/data/)."
   ]
  },
  {
   "cell_type": "code",
   "execution_count": 2,
   "metadata": {
    "collapsed": true
   },
   "outputs": [],
   "source": [
    "metro_median_all = 'data/Metro_MedianListingPrice_AllHomes.csv'\n",
    "metro_median_sqft = 'data/Metro_MedianListingPricePerSqft_AllHomes.csv'\n",
    "metro_zhvi = 'data/Metro_Zhvi_AllHomes.csv'"
   ]
  },
  {
   "cell_type": "markdown",
   "metadata": {},
   "source": [
    "As the data stands currently, some of it's columns are not particularly useful and the format it is presented in will be harder to work with. We use the following to set the Region Name as the index, drop the SizeRank column (which isn't useful) and transform it make the transaction month the new independent variable for graphing purposes."
   ]
  },
  {
   "cell_type": "code",
   "execution_count": 3,
   "metadata": {
    "collapsed": true
   },
   "outputs": [],
   "source": [
    "df_median_all = pd.read_csv(metro_median_all).set_index('RegionName').drop('SizeRank', 1).T"
   ]
  },
  {
   "cell_type": "code",
   "execution_count": 4,
   "metadata": {},
   "outputs": [
    {
     "data": {
      "text/html": [
       "<div>\n",
       "<style>\n",
       "    .dataframe thead tr:only-child th {\n",
       "        text-align: right;\n",
       "    }\n",
       "\n",
       "    .dataframe thead th {\n",
       "        text-align: left;\n",
       "    }\n",
       "\n",
       "    .dataframe tbody tr th {\n",
       "        vertical-align: top;\n",
       "    }\n",
       "</style>\n",
       "<table border=\"1\" class=\"dataframe\">\n",
       "  <thead>\n",
       "    <tr style=\"text-align: right;\">\n",
       "      <th>RegionName</th>\n",
       "      <th>United States</th>\n",
       "      <th>New York, NY</th>\n",
       "      <th>Los Angeles, CA</th>\n",
       "      <th>Chicago, IL</th>\n",
       "      <th>Dallas, TX</th>\n",
       "      <th>Philadelphia, PA</th>\n",
       "      <th>Houston, TX</th>\n",
       "      <th>Washington, DC</th>\n",
       "      <th>Miami, FL</th>\n",
       "      <th>Atlanta, GA</th>\n",
       "      <th>...</th>\n",
       "      <th>Snyder, TX</th>\n",
       "      <th>Fairfield, IA</th>\n",
       "      <th>Spencer, IA</th>\n",
       "      <th>Milford, IA</th>\n",
       "      <th>Edgartown, MA</th>\n",
       "      <th>Winnemucca, NV</th>\n",
       "      <th>Sweetwater, TX</th>\n",
       "      <th>Andrews, TX</th>\n",
       "      <th>Lamesa, TX</th>\n",
       "      <th>Craig, CO</th>\n",
       "    </tr>\n",
       "  </thead>\n",
       "  <tbody>\n",
       "    <tr>\n",
       "      <th>2010-01</th>\n",
       "      <td>NaN</td>\n",
       "      <td>NaN</td>\n",
       "      <td>NaN</td>\n",
       "      <td>NaN</td>\n",
       "      <td>164900.0</td>\n",
       "      <td>NaN</td>\n",
       "      <td>159000.0</td>\n",
       "      <td>279900.0</td>\n",
       "      <td>NaN</td>\n",
       "      <td>NaN</td>\n",
       "      <td>...</td>\n",
       "      <td>NaN</td>\n",
       "      <td>NaN</td>\n",
       "      <td>NaN</td>\n",
       "      <td>NaN</td>\n",
       "      <td>NaN</td>\n",
       "      <td>NaN</td>\n",
       "      <td>NaN</td>\n",
       "      <td>NaN</td>\n",
       "      <td>NaN</td>\n",
       "      <td>NaN</td>\n",
       "    </tr>\n",
       "    <tr>\n",
       "      <th>2010-02</th>\n",
       "      <td>NaN</td>\n",
       "      <td>NaN</td>\n",
       "      <td>NaN</td>\n",
       "      <td>NaN</td>\n",
       "      <td>164900.0</td>\n",
       "      <td>NaN</td>\n",
       "      <td>159900.0</td>\n",
       "      <td>284900.0</td>\n",
       "      <td>NaN</td>\n",
       "      <td>NaN</td>\n",
       "      <td>...</td>\n",
       "      <td>NaN</td>\n",
       "      <td>NaN</td>\n",
       "      <td>NaN</td>\n",
       "      <td>NaN</td>\n",
       "      <td>NaN</td>\n",
       "      <td>NaN</td>\n",
       "      <td>NaN</td>\n",
       "      <td>NaN</td>\n",
       "      <td>NaN</td>\n",
       "      <td>NaN</td>\n",
       "    </tr>\n",
       "    <tr>\n",
       "      <th>2010-03</th>\n",
       "      <td>NaN</td>\n",
       "      <td>NaN</td>\n",
       "      <td>NaN</td>\n",
       "      <td>NaN</td>\n",
       "      <td>165000.0</td>\n",
       "      <td>NaN</td>\n",
       "      <td>160000.0</td>\n",
       "      <td>289900.0</td>\n",
       "      <td>NaN</td>\n",
       "      <td>NaN</td>\n",
       "      <td>...</td>\n",
       "      <td>NaN</td>\n",
       "      <td>NaN</td>\n",
       "      <td>NaN</td>\n",
       "      <td>NaN</td>\n",
       "      <td>NaN</td>\n",
       "      <td>NaN</td>\n",
       "      <td>NaN</td>\n",
       "      <td>NaN</td>\n",
       "      <td>NaN</td>\n",
       "      <td>NaN</td>\n",
       "    </tr>\n",
       "    <tr>\n",
       "      <th>2010-04</th>\n",
       "      <td>NaN</td>\n",
       "      <td>NaN</td>\n",
       "      <td>NaN</td>\n",
       "      <td>NaN</td>\n",
       "      <td>166000.0</td>\n",
       "      <td>NaN</td>\n",
       "      <td>160000.0</td>\n",
       "      <td>299000.0</td>\n",
       "      <td>NaN</td>\n",
       "      <td>NaN</td>\n",
       "      <td>...</td>\n",
       "      <td>NaN</td>\n",
       "      <td>NaN</td>\n",
       "      <td>NaN</td>\n",
       "      <td>NaN</td>\n",
       "      <td>NaN</td>\n",
       "      <td>NaN</td>\n",
       "      <td>NaN</td>\n",
       "      <td>NaN</td>\n",
       "      <td>NaN</td>\n",
       "      <td>NaN</td>\n",
       "    </tr>\n",
       "    <tr>\n",
       "      <th>2010-05</th>\n",
       "      <td>NaN</td>\n",
       "      <td>NaN</td>\n",
       "      <td>NaN</td>\n",
       "      <td>NaN</td>\n",
       "      <td>165000.0</td>\n",
       "      <td>NaN</td>\n",
       "      <td>159900.0</td>\n",
       "      <td>289995.0</td>\n",
       "      <td>NaN</td>\n",
       "      <td>NaN</td>\n",
       "      <td>...</td>\n",
       "      <td>NaN</td>\n",
       "      <td>NaN</td>\n",
       "      <td>NaN</td>\n",
       "      <td>NaN</td>\n",
       "      <td>NaN</td>\n",
       "      <td>NaN</td>\n",
       "      <td>NaN</td>\n",
       "      <td>NaN</td>\n",
       "      <td>NaN</td>\n",
       "      <td>NaN</td>\n",
       "    </tr>\n",
       "  </tbody>\n",
       "</table>\n",
       "<p>5 rows × 875 columns</p>\n",
       "</div>"
      ],
      "text/plain": [
       "RegionName  United States  New York, NY  Los Angeles, CA  Chicago, IL  \\\n",
       "2010-01               NaN           NaN              NaN          NaN   \n",
       "2010-02               NaN           NaN              NaN          NaN   \n",
       "2010-03               NaN           NaN              NaN          NaN   \n",
       "2010-04               NaN           NaN              NaN          NaN   \n",
       "2010-05               NaN           NaN              NaN          NaN   \n",
       "\n",
       "RegionName  Dallas, TX  Philadelphia, PA  Houston, TX  Washington, DC  \\\n",
       "2010-01       164900.0               NaN     159000.0        279900.0   \n",
       "2010-02       164900.0               NaN     159900.0        284900.0   \n",
       "2010-03       165000.0               NaN     160000.0        289900.0   \n",
       "2010-04       166000.0               NaN     160000.0        299000.0   \n",
       "2010-05       165000.0               NaN     159900.0        289995.0   \n",
       "\n",
       "RegionName  Miami, FL  Atlanta, GA    ...      Snyder, TX  Fairfield, IA  \\\n",
       "2010-01           NaN          NaN    ...             NaN            NaN   \n",
       "2010-02           NaN          NaN    ...             NaN            NaN   \n",
       "2010-03           NaN          NaN    ...             NaN            NaN   \n",
       "2010-04           NaN          NaN    ...             NaN            NaN   \n",
       "2010-05           NaN          NaN    ...             NaN            NaN   \n",
       "\n",
       "RegionName  Spencer, IA  Milford, IA  Edgartown, MA  Winnemucca, NV  \\\n",
       "2010-01             NaN          NaN            NaN             NaN   \n",
       "2010-02             NaN          NaN            NaN             NaN   \n",
       "2010-03             NaN          NaN            NaN             NaN   \n",
       "2010-04             NaN          NaN            NaN             NaN   \n",
       "2010-05             NaN          NaN            NaN             NaN   \n",
       "\n",
       "RegionName  Sweetwater, TX  Andrews, TX  Lamesa, TX  Craig, CO  \n",
       "2010-01                NaN          NaN         NaN        NaN  \n",
       "2010-02                NaN          NaN         NaN        NaN  \n",
       "2010-03                NaN          NaN         NaN        NaN  \n",
       "2010-04                NaN          NaN         NaN        NaN  \n",
       "2010-05                NaN          NaN         NaN        NaN  \n",
       "\n",
       "[5 rows x 875 columns]"
      ]
     },
     "execution_count": 4,
     "metadata": {},
     "output_type": "execute_result"
    }
   ],
   "source": [
    "df_median_all.head()"
   ]
  },
  {
   "cell_type": "markdown",
   "metadata": {},
   "source": [
    "Here we start building out what our plotting function will look like:"
   ]
  },
  {
   "cell_type": "code",
   "execution_count": 5,
   "metadata": {
    "collapsed": true
   },
   "outputs": [],
   "source": [
    "# Create a function that plots from a median data-set.\n",
    "def median_plot(i):\n",
    "    plot = df_median_all[i].plot()\n",
    "    plt.show()"
   ]
  },
  {
   "cell_type": "code",
   "execution_count": 6,
   "metadata": {
    "collapsed": true
   },
   "outputs": [],
   "source": [
    "# Create a list of columns, this will act as the selected variable for plotting.\n",
    "columns = []\n",
    "for i in df_median_all.columns:\n",
    "    columns.append(i)\n",
    "columns.sort()"
   ]
  },
  {
   "cell_type": "code",
   "execution_count": 7,
   "metadata": {},
   "outputs": [
    {
     "data": {
      "image/png": "[encoded data removed]",
      "text/plain": [
       "<matplotlib.figure.Figure at 0x10865ca90>"
      ]
     },
     "metadata": {},
     "output_type": "display_data"
    }
   ],
   "source": [
    "median_plot('Washington, DC');"
   ]
  },
  {
   "cell_type": "markdown",
   "metadata": {},
   "source": [
    "We can now combine all of this together to create our interactive widget! Notice how when you run the whole notebook you can specify which major metropolitan center in the United states you're analyzing."
   ]
  },
  {
   "cell_type": "code",
   "execution_count": 9,
   "metadata": {},
   "outputs": [
    {
     "data": {
      "application/vnd.jupyter.widget-view+json": {
       "model_id": "bf9cfb7ca81f42aba5b109f0fee77c51",
       "version_major": 2,
       "version_minor": 0
      },
      "text/plain": [
       "A Jupyter Widget"
      ]
     },
     "metadata": {},
     "output_type": "display_data"
    }
   ],
   "source": [
    "interactive_plot = interact_manual(median_plot, i=columns)"
   ]
  },
  {
   "cell_type": "code",
   "execution_count": null,
   "metadata": {
    "collapsed": true
   },
   "outputs": [],
   "source": []
  }
 ],
 "metadata": {
  "kernelspec": {
   "display_name": "Python 3",
   "language": "python",
   "name": "python3"
  },
  "language_info": {
   "codemirror_mode": {
    "name": "ipython",
    "version": 3
   },
   "file_extension": ".py",
   "mimetype": "text/x-python",
   "name": "python",
   "nbconvert_exporter": "python",
   "pygments_lexer": "ipython3",
   "version": "3.6.3"
  },
  "widgets": {
   "application/vnd.jupyter.widget-state+json": {
    "state": {
     "002b3460d9304f8d8fd40678b98e79f9": {
      "model_module": "@jupyter-widgets/controls",
      "model_module_version": "1.0.0",
      "model_name": "IntSliderModel",
      "state": {
       "layout": "IPY_MODEL_d981f819f1334620a71243eaf0daa139",
       "style": "IPY_MODEL_3d48a324f2194d33af9f656a1aa662b1",
       "value": 50
      }
     },
     "0052269006fd49d087430b2f026759a9": {
      "model_module": "@jupyter-widgets/base",
      "model_module_version": "1.0.0",
      "model_name": "LayoutModel",
      "state": {}
     },
     "0056c39f63ca4f42b519e60464e4d0ce": {
      "model_module": "@jupyter-widgets/controls",
      "model_module_version": "1.0.0",
      "model_name": "ButtonModel",
      "state": {
       "description": "Run Interact",
       "layout": "IPY_MODEL_7d530d7279c14374bb77a1c9be689cbe",
       "style": "IPY_MODEL_78411002fe5741b88293013918314849"
      }
     },
     "006ff36cb89d4e00bdcb401a045d1c51": {
      "model_module": "@jupyter-widgets/base",
      "model_module_version": "1.0.0",
      "model_name": "LayoutModel",
      "state": {}
     },
     "01175b7a6e7d42448c8a02c7bf901629": {
      "model_module": "@jupyter-widgets/base",
      "model_module_version": "1.0.0",
      "model_name": "LayoutModel",
      "state": {}
     },
     "015cef7265354045b002d017873481f3": {
      "model_module": "@jupyter-widgets/controls",
      "model_module_version": "1.0.0",
      "model_name": "VBoxModel",
      "state": {
       "_dom_classes": [
        "widget-interact"
       ],
       "children": [
        "IPY_MODEL_2f27fbd458b340d6bf6bc1747ef7238b",
        "IPY_MODEL_15aaae408ac344c79a3339d1bd159780"
       ],
       "layout": "IPY_MODEL_491a42e07a6c43a28b16ced8b975456c"
      }
     },
     "016347f1b5a041928b91194ca4b56653": {
      "model_module": "@jupyter-widgets/output",
      "model_module_version": "1.0.0",
      "model_name": "OutputModel",
      "state": {
       "layout": "IPY_MODEL_86a44db6959340b1a13956080c2230c7",
       "outputs": [
        {
         "name": "stdout",
         "output_type": "stream",
         "text": "100000 [0, 1, 2, 3, 11, 22, 101, 111, 121, 202, 212, 1001, 1111, 2002, 10001, 10101, 10201, 11011, 11111, 11211, 20002, 20102]\n"
        }
       ]
      }
     },
     "01936f9731ab4608b08f54ef8eed996d": {
      "model_module": "@jupyter-widgets/controls",
      "model_module_version": "1.0.0",
      "model_name": "FloatSliderModel",
      "state": {
       "description": "x",
       "layout": "IPY_MODEL_e113ce6d8a384561a449fbc0cf63e8b2",
       "max": 10,
       "step": 0.1,
       "style": "IPY_MODEL_799a3c7fa16c40e5b0a86f1a47da3960",
       "value": 5
      }
     },
     "0221dda3e8bb46d2bb8cda792eb338fa": {
      "model_module": "@jupyter-widgets/controls",
      "model_module_version": "1.0.0",
      "model_name": "DescriptionStyleModel",
      "state": {
       "description_width": ""
      }
     },
     "029cd25a861946a7a440fbec8915cbb8": {
      "model_module": "@jupyter-widgets/controls",
      "model_module_version": "1.0.0",
      "model_name": "CheckboxModel",
      "state": {
       "description": "x",
       "disabled": false,
       "layout": "IPY_MODEL_cd7c701821fa41b9b9bac0e1d9290811",
       "style": "IPY_MODEL_f27377303d5f47e6acf1e3168fc0f1e5",
       "value": true
      }
     },
     "02ac056f20694a918d3ea8578cc7e2c8": {
      "model_module": "@jupyter-widgets/controls",
      "model_module_version": "1.0.0",
      "model_name": "VBoxModel",
      "state": {
       "_dom_classes": [
        "widget-interact"
       ],
       "children": [
        "IPY_MODEL_c57f2a7def294f7688a8674cbef8f796",
        "IPY_MODEL_8dc819cc50ce4681a0a789d61e4425f3"
       ],
       "layout": "IPY_MODEL_08d436f76b5b452eacd78196588edbc3"
      }
     },
     "0369944dc07d4750a6a4d72d08690b9b": {
      "model_module": "@jupyter-widgets/base",
      "model_module_version": "1.0.0",
      "model_name": "LayoutModel",
      "state": {}
     },
     "0390f369f620479db6090feb0629f56b": {
      "model_module": "@jupyter-widgets/output",
      "model_module_version": "1.0.0",
      "model_name": "OutputModel",
      "state": {
       "layout": "IPY_MODEL_ad89ed95dce54e228be165b748605e2a",
       "outputs": [
        {
         "data": {
          "text/plain": "61"
         },
         "metadata": {},
         "output_type": "display_data"
        }
       ]
      }
     },
     "039fbd43e39b4511a8b2d024b2aff805": {
      "model_module": "@jupyter-widgets/controls",
      "model_module_version": "1.0.0",
      "model_name": "FloatSliderModel",
      "state": {
       "description": "i",
       "layout": "IPY_MODEL_6b849f05c45f43ee8e944da12cc2dde6",
       "max": 10000000,
       "min": 100000,
       "step": 100000,
       "style": "IPY_MODEL_58c1b01a6e2c4672bdc25f2d3dc07444",
       "value": 8200000
      }
     },
     "0409bd00571140c792e91ddaa22617ec": {
      "model_module": "@jupyter-widgets/base",
      "model_module_version": "1.0.0",
      "model_name": "LayoutModel",
      "state": {}
     },
     "04b3b66d85a74dea9e7665d423300718": {
      "model_module": "@jupyter-widgets/output",
      "model_module_version": "1.0.0",
      "model_name": "OutputModel",
      "state": {
       "layout": "IPY_MODEL_2188156293d846ddb08b357ea051f540",
       "outputs": [
        {
         "data": {
          "image/png": "iVBORw0KGgoAAAANSUhEUgAAAY0AAAD8CAYAAACLrvgBAAAABHNCSVQICAgIfAhkiAAAAAlwSFlz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\n",
          "text/plain": "<matplotlib.figure.Figure at 0x118b3a048>"
         },
         "metadata": {},
         "output_type": "display_data"
        }
       ]
      }
     },
     "052050c74e1c4368adbe4bcb803db788": {
      "model_module": "@jupyter-widgets/base",
      "model_module_version": "1.0.0",
      "model_name": "LayoutModel",
      "state": {}
     },
     "05601d1ef6b445f883b1a2ed1eadb107": {
      "model_module": "@jupyter-widgets/base",
      "model_module_version": "1.0.0",
      "model_name": "LayoutModel",
      "state": {}
     },
     "05eaa53b71bf40129e6e866269859b32": {
      "model_module": "@jupyter-widgets/base",
      "model_module_version": "1.0.0",
      "model_name": "LayoutModel",
      "state": {}
     },
     "063e4accae0c4d28b5656dc520d3fb37": {
      "model_module": "@jupyter-widgets/output",
      "model_module_version": "1.0.0",
      "model_name": "OutputModel",
      "state": {
       "layout": "IPY_MODEL_2eb3282f64024c5aaa6ef7802d45a952",
       "outputs": [
        {
         "name": "stdout",
         "output_type": "stream",
         "text": "0.0 5.0\n"
        }
       ]
      }
     },
     "0654e93b015e44f8b7e59619fc1670d4": {
      "model_module": "@jupyter-widgets/base",
      "model_module_version": "1.0.0",
      "model_name": "LayoutModel",
      "state": {}
     },
     "0735a2003b084c23a30602777154b1ea": {
      "model_module": "@jupyter-widgets/base",
      "model_module_version": "1.0.0",
      "model_name": "LayoutModel",
      "state": {}
     },
     "0735f7b9eb9a42c4aa3c05cbb7f1e1e4": {
      "model_module": "@jupyter-widgets/controls",
      "model_module_version": "1.0.0",
      "model_name": "FloatSliderModel",
      "state": {
       "description": "x",
       "layout": "IPY_MODEL_d183536a72d9496bb0d2f22004ef381b",
       "max": 10,
       "step": 0.01,
       "style": "IPY_MODEL_d34e23dca8eb44c3b1465be2e7a9d821",
       "value": 5
      }
     },
     "075b0ce326e245808482369e64e2bb10": {
      "model_module": "@jupyter-widgets/controls",
      "model_module_version": "1.0.0",
      "model_name": "VBoxModel",
      "state": {
       "_dom_classes": [
        "widget-interact"
       ],
       "children": [
        "IPY_MODEL_befbd1c01eac4b6bb5a3f7f859ba5492",
        "IPY_MODEL_58cbbce003014ae1a196b708d46d54a2"
       ],
       "layout": "IPY_MODEL_ff084244e3f14153af41dc18227d2650"
      }
     },
     "07955143122a43e2ae9e6e12783d6f61": {
      "model_module": "@jupyter-widgets/controls",
      "model_module_version": "1.0.0",
      "model_name": "VBoxModel",
      "state": {
       "_dom_classes": [
        "widget-interact"
       ],
       "children": [
        "IPY_MODEL_7ddf610198d04e65a0f716e623a52bc4",
        "IPY_MODEL_87ef3847a50a45f5b55bc47ff9e372a5"
       ],
       "layout": "IPY_MODEL_c174612bb32d44ad92b45eadfbd22594"
      }
     },
     "08a4025a236c43dc97f29fe2f2b9312f": {
      "model_module": "@jupyter-widgets/controls",
      "model_module_version": "1.0.0",
      "model_name": "DescriptionStyleModel",
      "state": {
       "description_width": ""
      }
     },
     "08bbe58d62cf487db032695244a8ebf2": {
      "model_module": "@jupyter-widgets/base",
      "model_module_version": "1.0.0",
      "model_name": "LayoutModel",
      "state": {}
     },
     "08d436f76b5b452eacd78196588edbc3": {
      "model_module": "@jupyter-widgets/base",
      "model_module_version": "1.0.0",
      "model_name": "LayoutModel",
      "state": {}
     },
     "0972f903826348deab89a078dd52b628": {
      "model_module": "@jupyter-widgets/base",
      "model_module_version": "1.0.0",
      "model_name": "LayoutModel",
      "state": {}
     },
     "09d97759693b475888e71622d60565d3": {
      "model_module": "@jupyter-widgets/base",
      "model_module_version": "1.0.0",
      "model_name": "LayoutModel",
      "state": {}
     },
     "0a164832cca14c66bdb9eadf47918ba4": {
      "model_module": "@jupyter-widgets/base",
      "model_module_version": "1.0.0",
      "model_name": "LayoutModel",
      "state": {}
     },
     "0b6031e4e9d74439a9861b4be607bb64": {
      "model_module": "@jupyter-widgets/base",
      "model_module_version": "1.0.0",
      "model_name": "LayoutModel",
      "state": {}
     },
     "0c5a267ba5bb43c89c5704b7ec8f76f1": {
      "model_module": "@jupyter-widgets/output",
      "model_module_version": "1.0.0",
      "model_name": "OutputModel",
      "state": {
       "layout": "IPY_MODEL_d48d0133eaab41bd86c94446a65dae7f",
       "outputs": [
        {
         "data": {
          "text/plain": "4"
         },
         "metadata": {},
         "output_type": "display_data"
        }
       ]
      }
     },
     "0d24c526306b4985a22becc495f6c056": {
      "model_module": "@jupyter-widgets/controls",
      "model_module_version": "1.0.0",
      "model_name": "FloatSliderModel",
      "state": {
       "description": "x",
       "layout": "IPY_MODEL_d95a267193864be3b4f698fb38c1540e",
       "max": 20,
       "step": 0.5,
       "style": "IPY_MODEL_33d67d7ff16e4cc7adb1e8c81d90eed7",
       "value": 10.5
      }
     },
     "0d7434a3a6bc48f0802b33669d275b90": {
      "model_module": "@jupyter-widgets/base",
      "model_module_version": "1.0.0",
      "model_name": "LayoutModel",
      "state": {}
     },
     "0d8377ddd3734294afae6b8a7d5f3d8a": {
      "model_module": "@jupyter-widgets/controls",
      "model_module_version": "1.0.0",
      "model_name": "FloatSliderModel",
      "state": {
       "description": "i",
       "layout": "IPY_MODEL_d6bff62d146a4935a621db7e7bb31e01",
       "max": 10000000,
       "min": 100000,
       "step": 100000,
       "style": "IPY_MODEL_5b7c36ed2116403da8246ab90fd32f01",
       "value": 100000
      }
     },
     "0da61cc18bd94a74a0ec80217af970e5": {
      "model_module": "@jupyter-widgets/controls",
      "model_module_version": "1.0.0",
      "model_name": "ButtonModel",
      "state": {
       "description": "Run Interact",
       "layout": "IPY_MODEL_2d2229cb30444928996ade3bc00b7176",
       "style": "IPY_MODEL_acd4df5c6971429e844da39c41340699"
      }
     },
     "0dae0de3a4f04977ae3e6573db4f5039": {
      "model_module": "@jupyter-widgets/output",
      "model_module_version": "1.0.0",
      "model_name": "OutputModel",
      "state": {
       "layout": "IPY_MODEL_5ba9d26ecd9a4731b45a3364c18c763a",
       "outputs": [
        {
         "data": {
          "text/plain": "10"
         },
         "metadata": {},
         "output_type": "display_data"
        }
       ]
      }
     },
     "0db9c65a66514eeca7c61a4be15d52c6": {
      "model_module": "@jupyter-widgets/base",
      "model_module_version": "1.0.0",
      "model_name": "LayoutModel",
      "state": {}
     },
     "0f51c12226d34ee5915b4160ede8d168": {
      "model_module": "@jupyter-widgets/base",
      "model_module_version": "1.0.0",
      "model_name": "LayoutModel",
      "state": {}
     },
     "0fc5d3c1aaa64554904f24b6b13f21bb": {
      "model_module": "@jupyter-widgets/base",
      "model_module_version": "1.0.0",
      "model_name": "LayoutModel",
      "state": {}
     },
     "104d5af710c64c59af898e91f8cbf71b": {
      "model_module": "@jupyter-widgets/base",
      "model_module_version": "1.0.0",
      "model_name": "LayoutModel",
      "state": {}
     },
     "10b621e218954532a44ff5025268c4c7": {
      "model_module": "@jupyter-widgets/output",
      "model_module_version": "1.0.0",
      "model_name": "OutputModel",
      "state": {
       "layout": "IPY_MODEL_db34eee3dd74447eb0b17f7d4a32a676",
       "outputs": [
        {
         "data": {
          "image/png": "iVBORw0KGgoAAAANSUhEUgAAAXYAAAD8CAYAAABjAo9vAAAABHNCSVQICAgIfAhkiAAAAAlwSFlz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\nDMEOADlDsANAzhDsAJAz/w+2rSNz9ATUtwAAAABJRU5ErkJggg==\n",
          "text/plain": "<matplotlib.figure.Figure at 0x11605c2b0>"
         },
         "metadata": {},
         "output_type": "display_data"
        }
       ]
      }
     },
     "10c35a0c19af4e90870f7196061c5e28": {
      "model_module": "@jupyter-widgets/controls",
      "model_module_version": "1.0.0",
      "model_name": "VBoxModel",
      "state": {
       "_dom_classes": [
        "widget-interact"
       ],
       "children": [
        "IPY_MODEL_91eefad2dc934faca9fe49bf3165ddc7",
        "IPY_MODEL_c34f7ff076de41b68c172964951b5f8c"
       ],
       "layout": "IPY_MODEL_36b27d01cccb49e985759e1019fbee46"
      }
     },
     "10dffd37e6174bf782219ba39821928a": {
      "model_module": "@jupyter-widgets/output",
      "model_module_version": "1.0.0",
      "model_name": "OutputModel",
      "state": {
       "layout": "IPY_MODEL_9329c39a4b6847aa93cf4a1af5d57140",
       "outputs": [
        {
         "data": {
          "text/plain": "17"
         },
         "metadata": {},
         "output_type": "display_data"
        }
       ]
      }
     },
     "110c26bd1b754e99a068adffb54e5c26": {
      "model_module": "@jupyter-widgets/controls",
      "model_module_version": "1.0.0",
      "model_name": "FloatSliderModel",
      "state": {
       "description": "m",
       "layout": "IPY_MODEL_f174dd6bb3e942c696227d2eb2a1064e",
       "max": 2,
       "min": -2,
       "step": 0.1,
       "style": "IPY_MODEL_fe6a2ddd7a8a42c18b014b1285ff206c",
       "value": 1.1
      }
     },
     "1181b628c91345b38b80706192c35b4c": {
      "model_module": "@jupyter-widgets/base",
      "model_module_version": "1.0.0",
      "model_name": "LayoutModel",
      "state": {}
     },
     "11a8981829384e8eabdf8388ed7165ef": {
      "model_module": "@jupyter-widgets/base",
      "model_module_version": "1.0.0",
      "model_name": "LayoutModel",
      "state": {}
     },
     "11c1f656f9e9485380a9687cea05f37b": {
      "model_module": "@jupyter-widgets/controls",
      "model_module_version": "1.0.0",
      "model_name": "VBoxModel",
      "state": {
       "_dom_classes": [
        "widget-interact"
       ],
       "children": [
        "IPY_MODEL_a26899f969aa4d358b93bb8c2e0dd6bd",
        "IPY_MODEL_e581f18d5ac444aea5fc1129366514a0"
       ],
       "layout": "IPY_MODEL_42d10dbc6e594287a4b7a7f7bb32a677"
      }
     },
     "11c498cf99c3408ba5a08b3eb06a3fed": {
      "model_module": "@jupyter-widgets/base",
      "model_module_version": "1.0.0",
      "model_name": "LayoutModel",
      "state": {}
     },
     "12148904e46546958bb01a5937cffe8b": {
      "model_module": "@jupyter-widgets/output",
      "model_module_version": "1.0.0",
      "model_name": "OutputModel",
      "state": {
       "layout": "IPY_MODEL_c6a677605f9b476d8b4af583eabf2f08",
       "outputs": [
        {
         "name": "stdout",
         "output_type": "stream",
         "text": "0.0 5.0\n"
        }
       ]
      }
     },
     "1265209c2ff04ef0ae5c5000c1b0f39f": {
      "model_module": "@jupyter-widgets/controls",
      "model_module_version": "1.0.0",
      "model_name": "VBoxModel",
      "state": {
       "_dom_classes": [
        "widget-interact"
       ],
       "children": [
        "IPY_MODEL_cc39d8e0bc37467a85bb81f6e47b92d0",
        "IPY_MODEL_68d67439732b4d4fb0e3abe8d3d675e9"
       ],
       "layout": "IPY_MODEL_8c4000b990bd4aee98931548910537bd"
      }
     },
     "130b81dd74c24a40b9243766928b3f04": {
      "model_module": "@jupyter-widgets/base",
      "model_module_version": "1.0.0",
      "model_name": "LayoutModel",
      "state": {}
     },
     "13b422d66dbe4de5b69dcca87cc54eae": {
      "model_module": "@jupyter-widgets/base",
      "model_module_version": "1.0.0",
      "model_name": "LayoutModel",
      "state": {}
     },
     "1423d9fe774240658751cb7fdd2a0e56": {
      "model_module": "@jupyter-widgets/controls",
      "model_module_version": "1.0.0",
      "model_name": "SliderStyleModel",
      "state": {
       "description_width": ""
      }
     },
     "15aaae408ac344c79a3339d1bd159780": {
      "model_module": "@jupyter-widgets/output",
      "model_module_version": "1.0.0",
      "model_name": "OutputModel",
      "state": {
       "layout": "IPY_MODEL_eb141efcc7b04b4e8733e872924013c1",
       "outputs": [
        {
         "data": {
          "text/plain": "10"
         },
         "metadata": {},
         "output_type": "display_data"
        }
       ]
      }
     },
     "15beab60857d4f5eba5c7a7886abbea5": {
      "model_module": "@jupyter-widgets/controls",
      "model_module_version": "1.0.0",
      "model_name": "VBoxModel",
      "state": {
       "_dom_classes": [
        "widget-interact"
       ],
       "children": [
        "IPY_MODEL_6fa26c277fc24820851d2a368bbd93af",
        "IPY_MODEL_36c06bb568094738a3951ebc60f546ba",
        "IPY_MODEL_79397b3921d347ddb5912b93a5f2b490"
       ],
       "layout": "IPY_MODEL_8f57cc55362d4992b2c12d4863c70fb8"
      }
     },
     "15f90d55220246078154288ff9eb61ff": {
      "model_module": "@jupyter-widgets/controls",
      "model_module_version": "1.0.0",
      "model_name": "IntSliderModel",
      "state": {
       "layout": "IPY_MODEL_0972f903826348deab89a078dd52b628",
       "style": "IPY_MODEL_225de753a5a04a6ea4415ddea74541c3",
       "value": 57
      }
     },
     "16196ee570dd4dafa975841f7d5b930c": {
      "model_module": "@jupyter-widgets/base",
      "model_module_version": "1.0.0",
      "model_name": "LayoutModel",
      "state": {}
     },
     "16d02e141e0040968e294b6bdabc41e1": {
      "model_module": "@jupyter-widgets/output",
      "model_module_version": "1.0.0",
      "model_name": "OutputModel",
      "state": {
       "layout": "IPY_MODEL_a806432d223b4b14969b584bebadb319",
       "outputs": [
        {
         "data": {
          "text/plain": "True"
         },
         "metadata": {},
         "output_type": "display_data"
        }
       ]
      }
     },
     "16f77fd633a44538b0788e68564f0584": {
      "model_module": "@jupyter-widgets/base",
      "model_module_version": "1.0.0",
      "model_name": "LayoutModel",
      "state": {}
     },
     "173c3611603047a4bc598dbf3d397fee": {
      "model_module": "@jupyter-widgets/controls",
      "model_module_version": "1.0.0",
      "model_name": "SliderStyleModel",
      "state": {
       "description_width": ""
      }
     },
     "1742455411de43618836c6c4428630af": {
      "model_module": "@jupyter-widgets/output",
      "model_module_version": "1.0.0",
      "model_name": "OutputModel",
      "state": {
       "layout": "IPY_MODEL_76a9bc8522ba485f848d78f40c2a7f32",
       "outputs": [
        {
         "data": {
          "text/plain": "5.0"
         },
         "metadata": {},
         "output_type": "display_data"
        }
       ]
      }
     },
     "17683840fc9d4d1bbb742ce2ce48830b": {
      "model_module": "@jupyter-widgets/controls",
      "model_module_version": "1.0.0",
      "model_name": "SliderStyleModel",
      "state": {
       "description_width": ""
      }
     },
     "183d17f4bf96417989899f0b34b1086e": {
      "model_module": "@jupyter-widgets/base",
      "model_module_version": "1.0.0",
      "model_name": "LayoutModel",
      "state": {}
     },
     "1855c1722c274ea297d4c79aa3baa918": {
      "model_module": "@jupyter-widgets/controls",
      "model_module_version": "1.0.0",
      "model_name": "DescriptionStyleModel",
      "state": {
       "description_width": ""
      }
     },
     "188c943a42824ab197c3379b28f03a7c": {
      "model_module": "@jupyter-widgets/base",
      "model_module_version": "1.0.0",
      "model_name": "LayoutModel",
      "state": {}
     },
     "1a200f83a5424614a9afcff8079149c0": {
      "model_module": "@jupyter-widgets/base",
      "model_module_version": "1.0.0",
      "model_name": "LayoutModel",
      "state": {}
     },
     "1a5a3ec78cce4dffa7ab97241945abbe": {
      "model_module": "@jupyter-widgets/base",
      "model_module_version": "1.0.0",
      "model_name": "LayoutModel",
      "state": {}
     },
     "1aa6e860d0114ca284a466d720f9d04e": {
      "model_module": "@jupyter-widgets/controls",
      "model_module_version": "1.0.0",
      "model_name": "VBoxModel",
      "state": {
       "_dom_classes": [
        "widget-interact"
       ],
       "children": [
        "IPY_MODEL_b4f2b31df0d44728b90de5ce3e5a8a68",
        "IPY_MODEL_edc878b6e41e4471961454872a12e0e9",
        "IPY_MODEL_e23135ea6d8b44a4920c640907c6f69d"
       ],
       "layout": "IPY_MODEL_0fc5d3c1aaa64554904f24b6b13f21bb"
      }
     },
     "1ab3d6bafe0e4c43b99a3c797397042c": {
      "model_module": "@jupyter-widgets/controls",
      "model_module_version": "1.0.0",
      "model_name": "VBoxModel",
      "state": {
       "_dom_classes": [
        "widget-interact"
       ],
       "children": [
        "IPY_MODEL_cf4385d447d54bd5a95a4e1ced250ff1",
        "IPY_MODEL_f9b599b82268402b816a80f26457ee14",
        "IPY_MODEL_73da551376474074a19a318a194e0bdc"
       ],
       "layout": "IPY_MODEL_fe8754c3eee54577b416e17502c8083c"
      }
     },
     "1b145d36c2da4a6b95c252571dab5cc1": {
      "model_module": "@jupyter-widgets/base",
      "model_module_version": "1.0.0",
      "model_name": "LayoutModel",
      "state": {}
     },
     "1b6ecaf218244fe68c57fc2edf7d4584": {
      "model_module": "@jupyter-widgets/base",
      "model_module_version": "1.0.0",
      "model_name": "LayoutModel",
      "state": {}
     },
     "1ba6ee7b8c6e42ef9a01e882d9caef6d": {
      "model_module": "@jupyter-widgets/base",
      "model_module_version": "1.0.0",
      "model_name": "LayoutModel",
      "state": {}
     },
     "1bdada2e1b9346f2904d8eda26aa3530": {
      "model_module": "@jupyter-widgets/base",
      "model_module_version": "1.0.0",
      "model_name": "LayoutModel",
      "state": {}
     },
     "1c23d05998f043ec9ee10a9194d29adb": {
      "model_module": "@jupyter-widgets/controls",
      "model_module_version": "1.0.0",
      "model_name": "SliderStyleModel",
      "state": {
       "description_width": ""
      }
     },
     "1c50fd7f11f94758a2d19f64cd332be2": {
      "model_module": "@jupyter-widgets/base",
      "model_module_version": "1.0.0",
      "model_name": "LayoutModel",
      "state": {}
     },
     "1cebb83f9efc4a69991b5222c0dcfd46": {
      "model_module": "@jupyter-widgets/base",
      "model_module_version": "1.0.0",
      "model_name": "LayoutModel",
      "state": {}
     },
     "1d0a097f08374c8bbb06b9edcd19529b": {
      "model_module": "@jupyter-widgets/controls",
      "model_module_version": "1.0.0",
      "model_name": "VBoxModel",
      "state": {
       "_dom_classes": [
        "widget-interact"
       ],
       "children": [
        "IPY_MODEL_01936f9731ab4608b08f54ef8eed996d",
        "IPY_MODEL_b9c3853878634503b6a8db1e79f8da42"
       ],
       "layout": "IPY_MODEL_7c555fb9ce9c4768a519d3d37ede430b"
      }
     },
     "1d5370924a014490b1c2eca7eb192c1e": {
      "model_module": "@jupyter-widgets/controls",
      "model_module_version": "1.0.0",
      "model_name": "SliderStyleModel",
      "state": {
       "description_width": ""
      }
     },
     "1dc935c218ab438aadff256deea2b965": {
      "model_module": "@jupyter-widgets/base",
      "model_module_version": "1.0.0",
      "model_name": "LayoutModel",
      "state": {}
     },
     "1df849ad08aa4460ab45b704dc3bcc94": {
      "model_module": "@jupyter-widgets/base",
      "model_module_version": "1.0.0",
      "model_name": "LayoutModel",
      "state": {}
     },
     "1e26c745084d4ff5ac693bcff4f9da2e": {
      "model_module": "@jupyter-widgets/controls",
      "model_module_version": "1.0.0",
      "model_name": "VBoxModel",
      "state": {
       "_dom_classes": [
        "widget-interact"
       ],
       "children": [
        "IPY_MODEL_eb80dad8315d4ce7ac0158da45366330",
        "IPY_MODEL_63a907b33d4e4055895719588e9a5b84"
       ],
       "layout": "IPY_MODEL_8a74f9d1265b42dda5fad72a8ed4c40b"
      }
     },
     "1e5e89d511ca4d66a461fce649b76f4d": {
      "model_module": "@jupyter-widgets/base",
      "model_module_version": "1.0.0",
      "model_name": "LayoutModel",
      "state": {}
     },
     "1f1b001f089f4db891b79f6aa015da86": {
      "model_module": "@jupyter-widgets/base",
      "model_module_version": "1.0.0",
      "model_name": "LayoutModel",
      "state": {}
     },
     "1f5382f01dca4140a3268c06ce8dfc51": {
      "model_module": "@jupyter-widgets/controls",
      "model_module_version": "1.0.0",
      "model_name": "SliderStyleModel",
      "state": {
       "description_width": ""
      }
     },
     "1f61b260e83840d6a33a33f713843563": {
      "model_module": "@jupyter-widgets/base",
      "model_module_version": "1.0.0",
      "model_name": "LayoutModel",
      "state": {}
     },
     "1f6d277f304e40c4aa699fb4a9528e19": {
      "model_module": "@jupyter-widgets/controls",
      "model_module_version": "1.0.0",
      "model_name": "DescriptionStyleModel",
      "state": {
       "description_width": ""
      }
     },
     "205ad357431540f7aea31d193bb719e1": {
      "model_module": "@jupyter-widgets/base",
      "model_module_version": "1.0.0",
      "model_name": "LayoutModel",
      "state": {
       "height": "350px"
      }
     },
     "20b58dc71d7843d598621f0632a1230e": {
      "model_module": "@jupyter-widgets/controls",
      "model_module_version": "1.0.0",
      "model_name": "FloatSliderModel",
      "state": {
       "description": "x",
       "layout": "IPY_MODEL_717c611e9ec547279db1d86f3f6995b6",
       "max": 20,
       "step": 0.5,
       "style": "IPY_MODEL_ee3555baad124cc79ce96d9c80a49d59",
       "value": 5.5
      }
     },
     "20cd724722104255b4cc5d4a9eba0e7a": {
      "model_module": "@jupyter-widgets/base",
      "model_module_version": "1.0.0",
      "model_name": "LayoutModel",
      "state": {}
     },
     "21695591e90941e6bd091959e2db05bb": {
      "model_module": "@jupyter-widgets/base",
      "model_module_version": "1.0.0",
      "model_name": "LayoutModel",
      "state": {}
     },
     "2188156293d846ddb08b357ea051f540": {
      "model_module": "@jupyter-widgets/base",
      "model_module_version": "1.0.0",
      "model_name": "LayoutModel",
      "state": {}
     },
     "222fef732b2c4b68821bc751f0ce1a72": {
      "model_module": "@jupyter-widgets/output",
      "model_module_version": "1.0.0",
      "model_name": "OutputModel",
      "state": {
       "layout": "IPY_MODEL_4a462f28cf7342858fb05c3afa177926",
       "outputs": [
        {
         "data": {
          "text/plain": "10"
         },
         "metadata": {},
         "output_type": "display_data"
        }
       ]
      }
     },
     "225de753a5a04a6ea4415ddea74541c3": {
      "model_module": "@jupyter-widgets/controls",
      "model_module_version": "1.0.0",
      "model_name": "SliderStyleModel",
      "state": {
       "description_width": ""
      }
     },
     "22c74ec174714a14991312a4b75800fe": {
      "model_module": "@jupyter-widgets/controls",
      "model_module_version": "1.0.0",
      "model_name": "VBoxModel",
      "state": {
       "_dom_classes": [
        "widget-interact"
       ],
       "children": [
        "IPY_MODEL_ff58ce8a0d93452eb9d1fc38edec1241",
        "IPY_MODEL_3f4087427e074b3082bea066725f9624",
        "IPY_MODEL_12148904e46546958bb01a5937cffe8b"
       ],
       "layout": "IPY_MODEL_16f77fd633a44538b0788e68564f0584"
      }
     },
     "231c6e1e1057422fa21cde5e80f04684": {
      "model_module": "@jupyter-widgets/controls",
      "model_module_version": "1.0.0",
      "model_name": "CheckboxModel",
      "state": {
       "description": "x",
       "disabled": false,
       "layout": "IPY_MODEL_2e1e8da7349f488ab1511f4d13704f7d",
       "style": "IPY_MODEL_54e8fd89de8945d385c36958d51c6468",
       "value": true
      }
     },
     "23449241886e4f6d8631679a8c6956cd": {
      "model_module": "@jupyter-widgets/controls",
      "model_module_version": "1.0.0",
      "model_name": "VBoxModel",
      "state": {
       "_dom_classes": [
        "widget-interact"
       ],
       "children": [
        "IPY_MODEL_fa3097d874304831b2525e93d62846fb",
        "IPY_MODEL_0056c39f63ca4f42b519e60464e4d0ce",
        "IPY_MODEL_5beca1647b68403c9f38b2a50a0549e1"
       ],
       "layout": "IPY_MODEL_7ffbeefc9f1a4e25b6d34c5f3ceb001e"
      }
     },
     "23c482387d764083a4fbb57453a054a2": {
      "model_module": "@jupyter-widgets/output",
      "model_module_version": "1.0.0",
      "model_name": "OutputModel",
      "state": {
       "layout": "IPY_MODEL_8ebf664845c541feb2b51e8fd1392393",
       "outputs": [
        {
         "data": {
          "text/plain": "10"
         },
         "metadata": {},
         "output_type": "display_data"
        }
       ]
      }
     },
     "24a00ce1e9fd465081cc7ef3ffef435a": {
      "model_module": "@jupyter-widgets/base",
      "model_module_version": "1.0.0",
      "model_name": "LayoutModel",
      "state": {}
     },
     "256aaea07cdf458b80e922a5c78a82a0": {
      "model_module": "@jupyter-widgets/base",
      "model_module_version": "1.0.0",
      "model_name": "LayoutModel",
      "state": {}
     },
     "266489df2bba4361b9aa8dcc0829584c": {
      "model_module": "@jupyter-widgets/base",
      "model_module_version": "1.0.0",
      "model_name": "LayoutModel",
      "state": {}
     },
     "26e8c6dd1d004061b590a53a2e32f03d": {
      "model_module": "@jupyter-widgets/base",
      "model_module_version": "1.0.0",
      "model_name": "LayoutModel",
      "state": {}
     },
     "272594faf8eb4263ac13da78c24c9681": {
      "model_module": "@jupyter-widgets/base",
      "model_module_version": "1.0.0",
      "model_name": "LayoutModel",
      "state": {}
     },
     "273dbbebcf8d48f38ba9cb4652ef1272": {
      "model_module": "@jupyter-widgets/base",
      "model_module_version": "1.0.0",
      "model_name": "LayoutModel",
      "state": {}
     },
     "27db5405eee64f8f9f3c805e645c1a54": {
      "model_module": "@jupyter-widgets/controls",
      "model_module_version": "1.0.0",
      "model_name": "VBoxModel",
      "state": {
       "_dom_classes": [
        "widget-interact"
       ],
       "children": [
        "IPY_MODEL_a765cbee89614cc48eb994c8b90eb953",
        "IPY_MODEL_714ffde4d4d44bb791036ff3089696e9",
        "IPY_MODEL_2ac7ca49c6634cda8dd68ebae5e16f55"
       ],
       "layout": "IPY_MODEL_91d3484741bf45eb9c63b02976d53fa9"
      }
     },
     "285cba817e2848adb2e6e438a3049da2": {
      "model_module": "@jupyter-widgets/base",
      "model_module_version": "1.0.0",
      "model_name": "LayoutModel",
      "state": {}
     },
     "28af92d07c7f41138bafe4ab07cc63e9": {
      "model_module": "@jupyter-widgets/controls",
      "model_module_version": "1.0.0",
      "model_name": "SliderStyleModel",
      "state": {
       "description_width": ""
      }
     },
     "28ccd67ad5ec4eb398e7f5d9c334d5e2": {
      "model_module": "@jupyter-widgets/base",
      "model_module_version": "1.0.0",
      "model_name": "LayoutModel",
      "state": {}
     },
     "2915a5c4c83e4dfb8356b3126328a49a": {
      "model_module": "@jupyter-widgets/controls",
      "model_module_version": "1.0.0",
      "model_name": "FloatSliderModel",
      "state": {
       "description": "y",
       "layout": "IPY_MODEL_b94e23ae1f9148809c4724f845c0c30e",
       "max": 10,
       "min": 0.5,
       "step": 0.05,
       "style": "IPY_MODEL_61007ad18a43415aa4450a190131a542",
       "value": 5
      }
     },
     "292ad8331d7e47d1bfefc1a0db9c2aea": {
      "model_module": "@jupyter-widgets/base",
      "model_module_version": "1.0.0",
      "model_name": "LayoutModel",
      "state": {}
     },
     "2ac7ca49c6634cda8dd68ebae5e16f55": {
      "model_module": "@jupyter-widgets/output",
      "model_module_version": "1.0.0",
      "model_name": "OutputModel",
      "state": {
       "layout": "IPY_MODEL_acf974b026ac4aa38a3baeba4668a78e",
       "outputs": [
        {
         "data": {
          "text/plain": "30"
         },
         "metadata": {},
         "output_type": "display_data"
        }
       ]
      }
     },
     "2bacc8f57bd445bb893c5fb3e6f6bd8b": {
      "model_module": "@jupyter-widgets/controls",
      "model_module_version": "1.0.0",
      "model_name": "VBoxModel",
      "state": {
       "_dom_classes": [
        "widget-interact"
       ],
       "layout": "IPY_MODEL_24a00ce1e9fd465081cc7ef3ffef435a"
      }
     },
     "2bfe4839688949dd84dc549e9eebebf4": {
      "model_module": "@jupyter-widgets/base",
      "model_module_version": "1.0.0",
      "model_name": "LayoutModel",
      "state": {}
     },
     "2c2a76bd55fb473f80e0efd51a3ade77": {
      "model_module": "@jupyter-widgets/controls",
      "model_module_version": "1.0.0",
      "model_name": "VBoxModel",
      "state": {
       "_dom_classes": [
        "widget-interact"
       ],
       "children": [
        "IPY_MODEL_110c26bd1b754e99a068adffb54e5c26",
        "IPY_MODEL_c78b4253347e48c3880e87b66e4b2628",
        "IPY_MODEL_10b621e218954532a44ff5025268c4c7"
       ],
       "layout": "IPY_MODEL_daa6f70b92984fdbad30be5300964ae4"
      }
     },
     "2c9ed22204434cd0a07e1e7fa800d2fd": {
      "model_module": "@jupyter-widgets/base",
      "model_module_version": "1.0.0",
      "model_name": "LayoutModel",
      "state": {}
     },
     "2ce53b20943a426eae47577bacfb4cdc": {
      "model_module": "@jupyter-widgets/base",
      "model_module_version": "1.0.0",
      "model_name": "LayoutModel",
      "state": {}
     },
     "2d01992aaef540b6a87dd6406cc34cc6": {
      "model_module": "@jupyter-widgets/base",
      "model_module_version": "1.0.0",
      "model_name": "LayoutModel",
      "state": {}
     },
     "2d163b802fa44dc09011fa574e46de25": {
      "model_module": "@jupyter-widgets/base",
      "model_module_version": "1.0.0",
      "model_name": "LayoutModel",
      "state": {}
     },
     "2d2229cb30444928996ade3bc00b7176": {
      "model_module": "@jupyter-widgets/base",
      "model_module_version": "1.0.0",
      "model_name": "LayoutModel",
      "state": {}
     },
     "2d22356499fa482e945a1c2957829e9c": {
      "model_module": "@jupyter-widgets/base",
      "model_module_version": "1.0.0",
      "model_name": "LayoutModel",
      "state": {}
     },
     "2d48b62378bd4cb6beca1047a8b10e8e": {
      "model_module": "@jupyter-widgets/base",
      "model_module_version": "1.0.0",
      "model_name": "LayoutModel",
      "state": {}
     },
     "2da2ae343590475ea7bf03ded85dd396": {
      "model_module": "@jupyter-widgets/base",
      "model_module_version": "1.0.0",
      "model_name": "LayoutModel",
      "state": {}
     },
     "2e1e8da7349f488ab1511f4d13704f7d": {
      "model_module": "@jupyter-widgets/base",
      "model_module_version": "1.0.0",
      "model_name": "LayoutModel",
      "state": {}
     },
     "2e2de271182c4bb5b5d92f49d8986861": {
      "model_module": "@jupyter-widgets/controls",
      "model_module_version": "1.0.0",
      "model_name": "SliderStyleModel",
      "state": {
       "description_width": ""
      }
     },
     "2e47c1b37d4b488c84d1e36b2f154ad4": {
      "model_module": "@jupyter-widgets/output",
      "model_module_version": "1.0.0",
      "model_name": "OutputModel",
      "state": {
       "layout": "IPY_MODEL_2d01992aaef540b6a87dd6406cc34cc6",
       "outputs": [
        {
         "data": {
          "text/plain": "4"
         },
         "metadata": {},
         "output_type": "display_data"
        }
       ]
      }
     },
     "2eb3282f64024c5aaa6ef7802d45a952": {
      "model_module": "@jupyter-widgets/base",
      "model_module_version": "1.0.0",
      "model_name": "LayoutModel",
      "state": {}
     },
     "2f27fbd458b340d6bf6bc1747ef7238b": {
      "model_module": "@jupyter-widgets/controls",
      "model_module_version": "1.0.0",
      "model_name": "IntSliderModel",
      "state": {
       "description": "x",
       "layout": "IPY_MODEL_1dc935c218ab438aadff256deea2b965",
       "max": 30,
       "min": -10,
       "style": "IPY_MODEL_f4bd54814b4043dcb97c808e6e9de2ae",
       "value": 10
      }
     },
     "2fab82e406324b2a8715c9e7d591fc55": {
      "model_module": "@jupyter-widgets/controls",
      "model_module_version": "1.0.0",
      "model_name": "SliderStyleModel",
      "state": {
       "description_width": ""
      }
     },
     "30e85600ca234cc980b610f27cabd78c": {
      "model_module": "@jupyter-widgets/base",
      "model_module_version": "1.0.0",
      "model_name": "LayoutModel",
      "state": {}
     },
     "3147c1374827456a918016c68464a699": {
      "model_module": "@jupyter-widgets/base",
      "model_module_version": "1.0.0",
      "model_name": "LayoutModel",
      "state": {}
     },
     "316b4333127842dda850d6ce75857a51": {
      "model_module": "@jupyter-widgets/output",
      "model_module_version": "1.0.0",
      "model_name": "OutputModel",
      "state": {
       "layout": "IPY_MODEL_b1493a4634874fd3a9fdbc9ff2490f1a",
       "outputs": [
        {
         "data": {
          "text/plain": "10"
         },
         "metadata": {},
         "output_type": "display_data"
        }
       ]
      }
     },
     "31ae29371f7b4b1da151275e7ec9429e": {
      "model_module": "@jupyter-widgets/output",
      "model_module_version": "1.0.0",
      "model_name": "OutputModel",
      "state": {
       "layout": "IPY_MODEL_34f209f9af814649b0007ec44ecb2b59",
       "outputs": [
        {
         "data": {
          "image/png": "iVBORw0KGgoAAAANSUhEUgAAAXYAAAD8CAYAAABjAo9vAAAABHNCSVQICAgIfAhkiAAAAAlwSFlz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\nNHYACMz/AXNGIajGh8lIAAAAAElFTkSuQmCC\n",
          "text/plain": "<matplotlib.figure.Figure at 0x1108a3be0>"
         },
         "metadata": {},
         "output_type": "display_data"
        }
       ]
      }
     },
     "31deb28220a5426e95f1f9e3e97165bf": {
      "model_module": "@jupyter-widgets/controls",
      "model_module_version": "1.0.0",
      "model_name": "ButtonStyleModel",
      "state": {}
     },
     "320997812d8c432d98121f5c7f1aa7a9": {
      "model_module": "@jupyter-widgets/controls",
      "model_module_version": "1.0.0",
      "model_name": "SliderStyleModel",
      "state": {
       "description_width": ""
      }
     },
     "326da6f5d45f46819cac84901a1dfd5a": {
      "model_module": "@jupyter-widgets/base",
      "model_module_version": "1.0.0",
      "model_name": "LayoutModel",
      "state": {}
     },
     "32bdf67bbc8c40178b4e5cee920319b1": {
      "model_module": "@jupyter-widgets/base",
      "model_module_version": "1.0.0",
      "model_name": "LayoutModel",
      "state": {}
     },
     "33088de3bb5b49f488238cca8babb725": {
      "model_module": "@jupyter-widgets/controls",
      "model_module_version": "1.0.0",
      "model_name": "VBoxModel",
      "state": {
       "_dom_classes": [
        "widget-interact"
       ],
       "children": [
        "IPY_MODEL_be1ed346e717430ea28ecf8dd75c9345",
        "IPY_MODEL_7a38d9ec035f4516aa8ebba1298816f4"
       ],
       "layout": "IPY_MODEL_effeda8b4b384dba88bf7bd7db4ac7bb"
      }
     },
     "332a255b407748d5b660f8361fe26742": {
      "model_module": "@jupyter-widgets/controls",
      "model_module_version": "1.0.0",
      "model_name": "FloatSliderModel",
      "state": {
       "continuous_update": false,
       "description": "i",
       "layout": "IPY_MODEL_3606a68dd89f476b8532a159f4da011c",
       "max": 10000000,
       "min": 100000,
       "step": 100000,
       "style": "IPY_MODEL_a44a258ed75948dc9c218eebf1919d16",
       "value": 100000
      }
     },
     "33d67d7ff16e4cc7adb1e8c81d90eed7": {
      "model_module": "@jupyter-widgets/controls",
      "model_module_version": "1.0.0",
      "model_name": "SliderStyleModel",
      "state": {
       "description_width": ""
      }
     },
     "3428b7336ebc43e085c43e785b138acf": {
      "model_module": "@jupyter-widgets/output",
      "model_module_version": "1.0.0",
      "model_name": "OutputModel",
      "state": {
       "layout": "IPY_MODEL_880d7a8117e742d099589fea5df6cf83",
       "outputs": [
        {
         "name": "stdout",
         "output_type": "stream",
         "text": "100000 [0, 1, 2, 3, 11, 22, 101, 111, 121, 202, 212, 1001, 1111, 2002, 10001, 10101, 10201, 11011, 11111, 11211, 20002, 20102]\n"
        }
       ]
      }
     },
     "34a31ba358c8446682d48815d300eea7": {
      "model_module": "@jupyter-widgets/controls",
      "model_module_version": "1.0.0",
      "model_name": "FloatSliderModel",
      "state": {
       "description": "m",
       "layout": "IPY_MODEL_13b422d66dbe4de5b69dcca87cc54eae",
       "max": 2,
       "min": -2,
       "step": 0.1,
       "style": "IPY_MODEL_9c2b6611a14446e49b91ce08cbefa938"
      }
     },
     "34d14fbe5df9425ea4b3e7d0b894fd62": {
      "model_module": "@jupyter-widgets/base",
      "model_module_version": "1.0.0",
      "model_name": "LayoutModel",
      "state": {}
     },
     "34d7dd7a747b4aaf8d26fb388b30c831": {
      "model_module": "@jupyter-widgets/controls",
      "model_module_version": "1.0.0",
      "model_name": "VBoxModel",
      "state": {
       "_dom_classes": [
        "widget-interact"
       ],
       "children": [
        "IPY_MODEL_029cd25a861946a7a440fbec8915cbb8",
        "IPY_MODEL_627a96c8eaef4352a41c5b0d8881f1d9",
        "IPY_MODEL_7ccb6418062743b6a401d51e1006b727"
       ],
       "layout": "IPY_MODEL_2d163b802fa44dc09011fa574e46de25"
      }
     },
     "34f209f9af814649b0007ec44ecb2b59": {
      "model_module": "@jupyter-widgets/base",
      "model_module_version": "1.0.0",
      "model_name": "LayoutModel",
      "state": {
       "height": "350px"
      }
     },
     "35f2fcac148546b1a3d3709d45d4fb10": {
      "model_module": "@jupyter-widgets/base",
      "model_module_version": "1.0.0",
      "model_name": "LayoutModel",
      "state": {}
     },
     "3606a68dd89f476b8532a159f4da011c": {
      "model_module": "@jupyter-widgets/base",
      "model_module_version": "1.0.0",
      "model_name": "LayoutModel",
      "state": {}
     },
     "363711c05b26487a939b1d7e8cee6356": {
      "model_module": "@jupyter-widgets/base",
      "model_module_version": "1.0.0",
      "model_name": "LayoutModel",
      "state": {}
     },
     "36b27d01cccb49e985759e1019fbee46": {
      "model_module": "@jupyter-widgets/base",
      "model_module_version": "1.0.0",
      "model_name": "LayoutModel",
      "state": {}
     },
     "36c06bb568094738a3951ebc60f546ba": {
      "model_module": "@jupyter-widgets/controls",
      "model_module_version": "1.0.0",
      "model_name": "FloatSliderModel",
      "state": {
       "description": "b",
       "layout": "IPY_MODEL_811907cebdd14e05b92d0843a50e4339",
       "max": 3,
       "min": -3,
       "step": 0.5,
       "style": "IPY_MODEL_bad4d68e46c84b7da4c8402952021c38"
      }
     },
     "36cb3be6976a46d19954ee14388fd7a8": {
      "model_module": "@jupyter-widgets/controls",
      "model_module_version": "1.0.0",
      "model_name": "SliderStyleModel",
      "state": {
       "description_width": ""
      }
     },
     "37a0d9acdfe849828a2e52da5f80539a": {
      "model_module": "@jupyter-widgets/base",
      "model_module_version": "1.0.0",
      "model_name": "LayoutModel",
      "state": {}
     },
     "37e84a31102649aaba623644ed661083": {
      "model_module": "@jupyter-widgets/output",
      "model_module_version": "1.0.0",
      "model_name": "OutputModel",
      "state": {
       "layout": "IPY_MODEL_0409bd00571140c792e91ddaa22617ec",
       "outputs": [
        {
         "name": "stdout",
         "output_type": "stream",
         "text": "8200000 [0, 1, 2, 3, 11, 22, 101, 111, 121, 202, 212, 1001, 1111, 2002, 10001, 10101, 10201, 11011, 11111, 11211, 20002, 20102, 100001, 101101, 110011, 111111, 200002, 1000001, 1001001, 1002001, 1010101, 1011101, 1012101, 1100011, 1101011, 1102011, 1110111, 1111111, 2000002, 2001002]\n"
        }
       ]
      }
     },
     "38da0ffa735c48859f8e654b58de9b84": {
      "model_module": "@jupyter-widgets/base",
      "model_module_version": "1.0.0",
      "model_name": "LayoutModel",
      "state": {}
     },
     "394aedbdedd24df9b6ed434ed25e0f21": {
      "model_module": "@jupyter-widgets/controls",
      "model_module_version": "1.0.0",
      "model_name": "VBoxModel",
      "state": {
       "_dom_classes": [
        "widget-interact"
       ],
       "children": [
        "IPY_MODEL_bdb6360183ce48bea4342c8dacf23815",
        "IPY_MODEL_0c5a267ba5bb43c89c5704b7ec8f76f1"
       ],
       "layout": "IPY_MODEL_b3d3a178c7ca4655b6e4dc0ec0dcfba7"
      }
     },
     "3953009f77b84abcbbe609dd89d5fa0e": {
      "model_module": "@jupyter-widgets/controls",
      "model_module_version": "1.0.0",
      "model_name": "SliderStyleModel",
      "state": {
       "description_width": ""
      }
     },
     "3a81223b672741c89f403370ef999e4f": {
      "model_module": "@jupyter-widgets/base",
      "model_module_version": "1.0.0",
      "model_name": "LayoutModel",
      "state": {}
     },
     "3b465e21085a4511bf352c6dadbdc8da": {
      "model_module": "@jupyter-widgets/base",
      "model_module_version": "1.0.0",
      "model_name": "LayoutModel",
      "state": {}
     },
     "3bb18263b6c54f9790b9f019e9d00794": {
      "model_module": "@jupyter-widgets/output",
      "model_module_version": "1.0.0",
      "model_name": "OutputModel",
      "state": {
       "layout": "IPY_MODEL_21695591e90941e6bd091959e2db05bb",
       "outputs": [
        {
         "data": {
          "text/plain": "10"
         },
         "metadata": {},
         "output_type": "display_data"
        }
       ]
      }
     },
     "3c214a83b0d24a84861d70436244d44b": {
      "model_module": "@jupyter-widgets/base",
      "model_module_version": "1.0.0",
      "model_name": "LayoutModel",
      "state": {}
     },
     "3c7493ecac6b4da48f8c83e38a9e8671": {
      "model_module": "@jupyter-widgets/controls",
      "model_module_version": "1.0.0",
      "model_name": "SliderStyleModel",
      "state": {
       "description_width": ""
      }
     },
     "3c96c0d9b34f4a30b85d8eadcb9ed340": {
      "model_module": "@jupyter-widgets/output",
      "model_module_version": "1.0.0",
      "model_name": "OutputModel",
      "state": {
       "layout": "IPY_MODEL_d0550857731e451e9c182a0de46176df",
       "outputs": [
        {
         "data": {
          "image/png": "iVBORw0KGgoAAAANSUhEUgAAAXYAAAD8CAYAAABjAo9vAAAABHNCSVQICAgIfAhkiAAAAAlwSFlz\nAAALEgAACxIB0t1+/AAADaNJREFUeJzt3W2MXOdZh/HrxtsEQUOTYIe82GYTEVW4gNSwMoXwUiUh\ndUxIAAFyJSAiSFZBkRKJqk2wVAr9VCoKQhQi00a8RSRAG2oiR4nTJkJ8SOja2E5cJ80muNS1m2wo\nJEWRWqzefJhjNFrP7M7OOTNr31w/abQz5zzznHuec/yfZ86c9UZmIkmq41vWugBJUrcMdkkqxmCX\npGIMdkkqxmCXpGIMdkkqxmCXpGIMdkkqxmCXpGJm1mKj69evz9nZ2bXYtCSds/bv3/9qZm5Yqd2a\nBPvs7Czz8/NrsWlJOmdFxBdHaeepGEkqxmCXpGIMdkkqxmCXpGIMdkkqxmCXpGIMdkkqxmCXpGIM\ndkkqxmCXpGIMdkkqxmCXpGIMdkkqxmCXpGIMdkkqxmCXpGI6C/aIWBcR/xoRD3fVpyRp9bqcsd8J\nHO2wP0nSGDoJ9ojYCPwU8PEu+pMkja+rGfsfAu8DvtlRf5KkMbUO9oi4GXglM/ev0G5nRMxHxPzi\n4mLbzUqShuhixn4tcEtEHAMeAK6LiL9e2igzd2fmXGbObdiwoYPNSpIGaR3smXlPZm7MzFlgB/DZ\nzPyl1pVJksbideySVMxMl51l5pPAk132KUlaHWfsklSMwS5JxRjsklSMwS5JxRjsklSMwS5JxRjs\nklSMwS5JxRjsklSMwS5JxRjsklSMwS5JxRjsklSMwS5JxRjsklSMwS5JxRjsklSMwS5JxRjsklSM\nwS5JxRjsklSMwS5JxRjsklSMwS5JxRjsklSMwS5JxRjsklSMwS5JxRjsklSMwS5JxRjsklSMwS5J\nxRjsklSMwS5JxRjsklRM62CPiE0R8UREHI2IIxFxZxeFSZLGM9NBH6eA38zMAxFxAbA/IvZl5uc7\n6FuStEqtZ+yZeTIzDzT3vwYcBa5o268kaTydnmOPiFng7cDTXfYrSRpdZ8EeEW8GPgnclZmvD1i/\nMyLmI2J+cXGxq81KkpboJNgj4k30Qv3+zPzUoDaZuTsz5zJzbsOGDV1sVpI0QBdXxQTwCeBoZn60\nfUmSpDa6mLFfC/wycF1EHGxu2zvoV5I0htaXO2bmPwPRQS2SpA74m6eSVIzBLknFGOySVIzBLknF\nGOySVIzBLknFGOySVIzBLknFGOySVIzBLknFGOySVIzBLknFGOySVIzBLknFGOySVIzBLknFGOyS\nVIzBLknFGOySVIzBLknFGOySVIzBLknFGOySVIzBLknFGOySVIzBLknFGOySVIzBLknFGOySVIzB\nLknFGOySVIzBLknFGOySVIzBLknFdBLsEbEtIp6PiIWIuLuLPiVJ42kd7BGxDvgYcBOwBXh3RGxp\n268kaTxdzNi3AguZ+VJmfgN4ALi1g34lSWOY6aCPK4Av9T0+DvxQB/2e4Xf+8QifP/H6JLqWpKnY\ncvl38Ns//baJbqOLGXsMWJZnNIrYGRHzETG/uLjYwWYlSYN0MWM/Dmzqe7wROLG0UWbuBnYDzM3N\nnRH8o5j0u5wkVdDFjP1zwNURcWVEnAfsAPZ00K8kaQytZ+yZeSoi7gAeBdYB92XmkdaVSZLG0sWp\nGDJzL7C3i74kSe34m6eSVIzBLknFGOySVIzBLknFGOySVIzBLknFGOySVIzBLknFGOySVIzBLknF\nGOySVIzBLknFGOySVIzBLknFGOySVIzBLknFGOySVIzBLknFGOySVIzBLknFGOySVIzBLknFGOyS\nVIzBLknFGOySVIzBLknFGOySVIzBLknFGOySVIzBLknFGOySVIzBLknFGOySVIzBLknFGOySVEyr\nYI+Ij0TEcxFxOCIeiogLuypMkjSetjP2fcD3ZeYPAF8A7mlfkiSpjVbBnpmPZeap5uFTwMb2JUmS\n2ujyHPvtwCMd9idJGsPMSg0i4nHg0gGrdmXmp5s2u4BTwP3L9LMT2AmwefPmsYqVJK1sxWDPzBuW\nWx8RtwE3A9dnZi7Tz25gN8Dc3NzQdpKkdlYM9uVExDbg/cBPZOYb3ZQkSWqj7Tn2PwYuAPZFxMGI\nuLeDmiRJLbSasWfm93RViCSpG/7mqSQVY7BLUjEGuyQVY7BLUjEGuyQVY7BLUjEGuyQVY7BLUjEG\nuyQVY7BLUjEGuyQVY7BLUjEGuyQVY7BLUjEGuyQVY7BLUjEGuyQVY7BLUjEGuyQVY7BLUjEGuyQV\nY7BLUjEGuyQVY7BLUjEGuyQVY7BLUjEGuyQVY7BLUjEGuyQVY7BLUjEGuyQVY7BLUjEGuyQVY7BL\nUjGdBHtEvDciMiLWd9GfJGl8rYM9IjYBPwn8e/tyJEltdTFj/wPgfUB20JckqaVWwR4RtwBfzsxD\nHdUjSWppZqUGEfE4cOmAVbuA3wJuHGVDEbET2AmwefPmVZQoSVqNyBzvDEpEfD/wGeCNZtFG4ASw\nNTO/stxz5+bmcn5+fqztStL/VxGxPzPnVmq34ox9mMx8Brikb4PHgLnMfHXcPiVJ7XkduyQVM/aM\nfanMnO2qL0nS+JyxS1IxBrskFWOwS1IxBrskFWOwS1IxBrskFWOwS1IxBrskFWOwS1IxBrskFWOw\nS1IxBrskFWOwS1IxBrskFWOwS1IxBrskFWOwS1IxY/8x61YbjVgEvjjm09cDZ+PfVbWu1bGu1bGu\n1Tlb64J2tX13Zm5YqdGaBHsbETE/yl/pnjbrWh3rWh3rWp2ztS6YTm2eipGkYgx2SSrmXAz23Wtd\nwBDWtTrWtTrWtTpna10whdrOuXPskqTlnYszdknSMs7KYI+IX4iIIxHxzYiYW7LunohYiIjnI+Jd\nQ55/ZUQ8HREvRMSDEXHeBGp8MCIONrdjEXFwSLtjEfFM026+6zoGbO+DEfHlvtq2D2m3rRnDhYi4\newp1fSQinouIwxHxUERcOKTdVMZrpdcfEec3+3ihOZZmJ1VL3zY3RcQTEXG0Of7vHNDmnRHxWt/+\n/cCk62q2u+x+iZ4/asbrcERcM4Wa3to3Dgcj4vWIuGtJm6mNV0TcFxGvRMSzfcsujoh9TRbti4iL\nhjz3tqbNCxFxW+tiMvOsuwHfC7wVeBKY61u+BTgEnA9cCbwIrBvw/L8FdjT37wV+fcL1/j7wgSHr\njgHrpzh2HwTeu0Kbdc3YXQWc14zplgnXdSMw09z/MPDhtRqvUV4/8BvAvc39HcCDU9h3lwHXNPcv\nAL4woK53Ag9P63gadb8A24FHgADeATw95frWAV+hd533mowX8OPANcCzfct+D7i7uX/3oOMeuBh4\nqfl5UXP/oja1nJUz9sw8mpnPD1h1K/BAZn49M/8NWAC29jeIiACuA/6+WfQXwM9MqtZme78I/M2k\ntjEBW4GFzHwpM78BPEBvbCcmMx/LzFPNw6eAjZPc3gpGef230jt2oHcsXd/s64nJzJOZeaC5/zXg\nKHDFJLfZoVuBv8yep4ALI+KyKW7/euDFzBz3Fx9by8x/Ar66ZHH/cTQsi94F7MvMr2bmfwL7gG1t\najkrg30ZVwBf6nt8nDMP/O8E/qsvRAa16dKPAS9n5gtD1ifwWETsj4idE6yj3x3Nx+H7hnz0G2Uc\nJ+l2erO7QaYxXqO8/v9r0xxLr9E7tqaiOfXzduDpAat/OCIORcQjEfG2KZW00n5Z62NqB8MnV2sx\nXqd9V2aehN4bN3DJgDadj91Mmye3ERGPA5cOWLUrMz897GkDli29rGeUNiMZscZ3s/xs/drMPBER\nlwD7IuK55p19bMvVBfwp8CF6r/lD9E4T3b60iwHPbX151CjjFRG7gFPA/UO66Xy8BpU6YNnEjqPV\niog3A58E7srM15esPkDvdMN/N9+f/ANw9RTKWmm/rOV4nQfcAtwzYPVajddqdD52axbsmXnDGE87\nDmzqe7wROLGkzav0PgbONDOtQW06qTEiZoCfA35wmT5OND9fiYiH6J0GaBVUo45dRPwZ8PCAVaOM\nY+d1NV8K3Qxcn83JxQF9dD5eA4zy+k+3Od7s57dw5sfszkXEm+iF+v2Z+aml6/uDPjP3RsSfRMT6\nzJzo/4sywn6ZyDE1opuAA5n58tIVazVefV6OiMsy82RzauqVAW2O0/su4LSN9L5fHNu5dipmD7Cj\nuWLhSnrvvP/S36AJjCeAn28W3QYM+wTQ1g3Ac5l5fNDKiPj2iLjg9H16XyA+O6htV5ac1/zZIdv7\nHHB19K4eOo/ex9g9E65rG/B+4JbMfGNIm2mN1yivfw+9Ywd6x9Jnh70ZdaU5h/8J4GhmfnRIm0tP\nn+uPiK30/g3/x4TrGmW/7AF+pbk65h3Aa6dPQUzB0E/NazFeS/QfR8Oy6FHgxoi4qDl1emOzbHzT\n+LZ4tTd6gXQc+DrwMvBo37pd9K5oeB64qW/5XuDy5v5V9AJ/Afg74PwJ1fnnwHuWLLsc2NtXx6Hm\ndoTeKYlJj91fAc8Ah5uD6rKldTWPt9O76uLFKdW1QO884sHmdu/SuqY5XoNeP/C79N54AL61OXYW\nmmPpqimM0Y/S+wh+uG+ctgPvOX2cAXc0Y3OI3pfQPzKFugbulyV1BfCxZjyfoe9qtgnX9m30gvot\nfcvWZLzovbmcBP6nya9fo/e9zGeAF5qfFzdt54CP9z339uZYWwB+tW0t/uapJBVzrp2KkSStwGCX\npGIMdkkqxmCXpGIMdkkqxmCXpGIMdkkqxmCXpGL+F6/JAyRQbGLGAAAAAElFTkSuQmCC\n",
          "text/plain": "<matplotlib.figure.Figure at 0x1192c4b38>"
         },
         "metadata": {},
         "output_type": "display_data"
        }
       ]
      }
     },
     "3d48a324f2194d33af9f656a1aa662b1": {
      "model_module": "@jupyter-widgets/controls",
      "model_module_version": "1.0.0",
      "model_name": "SliderStyleModel",
      "state": {
       "description_width": ""
      }
     },
     "3db9f9a7deaa4948bce4da1ef6eaea5c": {
      "model_module": "@jupyter-widgets/controls",
      "model_module_version": "1.0.0",
      "model_name": "FloatSliderModel",
      "state": {
       "description": "x",
       "layout": "IPY_MODEL_05601d1ef6b445f883b1a2ed1eadb107",
       "max": 10,
       "step": 0.1,
       "style": "IPY_MODEL_f0a83508147543e3a7fb99a036155eed",
       "value": 5
      }
     },
     "3e03720ce45f4f22bcfac91e72ed11af": {
      "model_module": "@jupyter-widgets/base",
      "model_module_version": "1.0.0",
      "model_name": "LayoutModel",
      "state": {}
     },
     "3e06ab1b5be94897bca9001145f5713d": {
      "model_module": "@jupyter-widgets/output",
      "model_module_version": "1.0.0",
      "model_name": "OutputModel",
      "state": {
       "layout": "IPY_MODEL_f66999afba78439493772862a39d9db1",
       "outputs": [
        {
         "name": "stdout",
         "output_type": "stream",
         "text": "0.0 5.0\n"
        }
       ]
      }
     },
     "3e087c308eb74581b8cf09be9f050780": {
      "model_module": "@jupyter-widgets/controls",
      "model_module_version": "1.0.0",
      "model_name": "DescriptionStyleModel",
      "state": {
       "description_width": ""
      }
     },
     "3e40b6400f2e47c39e649861b0a60e9c": {
      "model_module": "@jupyter-widgets/controls",
      "model_module_version": "1.0.0",
      "model_name": "IntSliderModel",
      "state": {
       "description": "p",
       "layout": "IPY_MODEL_30e85600ca234cc980b610f27cabd78c",
       "max": 15,
       "min": -5,
       "style": "IPY_MODEL_2fab82e406324b2a8715c9e7d591fc55",
       "value": 5
      }
     },
     "3f142e6c194b4b9b8daede23758f36fd": {
      "model_module": "@jupyter-widgets/controls",
      "model_module_version": "1.0.0",
      "model_name": "CheckboxModel",
      "state": {
       "description": "x",
       "disabled": false,
       "layout": "IPY_MODEL_8a5c9db988bc41cc94512a51936c855a",
       "style": "IPY_MODEL_7dff73619b944376b8c9d7fec1a30741",
       "value": true
      }
     },
     "3f4087427e074b3082bea066725f9624": {
      "model_module": "@jupyter-widgets/controls",
      "model_module_version": "1.0.0",
      "model_name": "FloatSliderModel",
      "state": {
       "description": "y",
       "layout": "IPY_MODEL_9149829091dd4c59a8cab69ae551b449",
       "max": 10,
       "min": 0.5,
       "step": 0.05,
       "style": "IPY_MODEL_8000f4a285544266953be0e0c534337f",
       "value": 5
      }
     },
     "3f51768b173941d2acb4bb3701e15ad1": {
      "model_module": "@jupyter-widgets/controls",
      "model_module_version": "1.0.0",
      "model_name": "FloatSliderModel",
      "state": {
       "description": "i",
       "layout": "IPY_MODEL_cc9476fdaf264d838273fceae8080a82",
       "max": 10000000,
       "min": 100000,
       "step": 100000,
       "style": "IPY_MODEL_65436b1d165b49c89b6c48cd16166898",
       "value": 100000
      }
     },
     "3fcbb33a19034637bdaedaa656f76846": {
      "model_module": "@jupyter-widgets/base",
      "model_module_version": "1.0.0",
      "model_name": "LayoutModel",
      "state": {}
     },
     "3ffcc592983d46a6a6c72a4b7d1d11e2": {
      "model_module": "@jupyter-widgets/controls",
      "model_module_version": "1.0.0",
      "model_name": "CheckboxModel",
      "state": {
       "description": "x",
       "disabled": false,
       "layout": "IPY_MODEL_b71c1c6ec4ed426eabcce36d9de279dd",
       "style": "IPY_MODEL_6bd3e495228d461f8985be321cac2f1d",
       "value": true
      }
     },
     "4024fbfbc10f42deb18e8be4ec803ec4": {
      "model_module": "@jupyter-widgets/base",
      "model_module_version": "1.0.0",
      "model_name": "LayoutModel",
      "state": {}
     },
     "41301366210849b8900ecdf7276bc555": {
      "model_module": "@jupyter-widgets/base",
      "model_module_version": "1.0.0",
      "model_name": "LayoutModel",
      "state": {}
     },
     "413d451b4a5d4da795ec9eb986cd41d8": {
      "model_module": "@jupyter-widgets/output",
      "model_module_version": "1.0.0",
      "model_name": "OutputModel",
      "state": {
       "layout": "IPY_MODEL_e8737938b4004d9c800027e6354b9491",
       "outputs": [
        {
         "data": {
          "image/png": "iVBORw0KGgoAAAANSUhEUgAAAXYAAAD8CAYAAABjAo9vAAAABHNCSVQICAgIfAhkiAAAAAlwSFlz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\n",
          "text/plain": "<matplotlib.figure.Figure at 0x113069588>"
         },
         "metadata": {},
         "output_type": "display_data"
        }
       ]
      }
     },
     "41defac33d43429fad2f44daf03b5565": {
      "model_module": "@jupyter-widgets/output",
      "model_module_version": "1.0.0",
      "model_name": "OutputModel",
      "state": {
       "layout": "IPY_MODEL_20cd724722104255b4cc5d4a9eba0e7a",
       "outputs": [
        {
         "data": {
          "text/plain": "2"
         },
         "metadata": {},
         "output_type": "display_data"
        }
       ]
      }
     },
     "4202eddbda6d4fc787f0ca198b7f8306": {
      "model_module": "@jupyter-widgets/base",
      "model_module_version": "1.0.0",
      "model_name": "LayoutModel",
      "state": {}
     },
     "423d9e93eed04c03a9e7a601fa74f546": {
      "model_module": "@jupyter-widgets/base",
      "model_module_version": "1.0.0",
      "model_name": "LayoutModel",
      "state": {}
     },
     "42a3bc1a7948422e8182d957403939fc": {
      "model_module": "@jupyter-widgets/controls",
      "model_module_version": "1.0.0",
      "model_name": "VBoxModel",
      "state": {
       "_dom_classes": [
        "widget-interact"
       ],
       "children": [
        "IPY_MODEL_3ffcc592983d46a6a6c72a4b7d1d11e2",
        "IPY_MODEL_cf2b38f3bbf2464ba1479bcc6b15e6f9",
        "IPY_MODEL_7439f43bc7a44b74bcc6e465a81d8b8b"
       ],
       "layout": "IPY_MODEL_d0477ddb4afe4c3885ba14eb1adc451a"
      }
     },
     "42d10dbc6e594287a4b7a7f7bb32a677": {
      "model_module": "@jupyter-widgets/base",
      "model_module_version": "1.0.0",
      "model_name": "LayoutModel",
      "state": {}
     },
     "43b4ff59d8004bbd8928c2a08f298728": {
      "model_module": "@jupyter-widgets/controls",
      "model_module_version": "1.0.0",
      "model_name": "VBoxModel",
      "state": {
       "_dom_classes": [
        "widget-interact"
       ],
       "children": [
        "IPY_MODEL_4fff5614964d44e784d432c84d842f5d",
        "IPY_MODEL_65251aeaf43742739663dbb64e2461b8",
        "IPY_MODEL_31ae29371f7b4b1da151275e7ec9429e"
       ],
       "layout": "IPY_MODEL_918675b356794dda8c08f9abfbafe67e"
      }
     },
     "43b5c7d6543f4383b21b334b0b452353": {
      "model_module": "@jupyter-widgets/output",
      "model_module_version": "1.0.0",
      "model_name": "OutputModel",
      "state": {
       "layout": "IPY_MODEL_93c7e00667a84f4e9163628e012be42b",
       "outputs": [
        {
         "data": {
          "text/plain": "(12, 20)"
         },
         "metadata": {},
         "output_type": "display_data"
        }
       ]
      }
     },
     "43e744cddfb54f6a9fb8353d0dd86be0": {
      "model_module": "@jupyter-widgets/controls",
      "model_module_version": "1.0.0",
      "model_name": "FloatSliderModel",
      "state": {
       "description": "i",
       "layout": "IPY_MODEL_2bfe4839688949dd84dc549e9eebebf4",
       "max": 10000000,
       "min": 100000,
       "step": 100000,
       "style": "IPY_MODEL_dfda4a699d0443e0bdd94c8edca2e50a",
       "value": 100000
      }
     },
     "44099d724d624a699f287f883d1af89f": {
      "model_module": "@jupyter-widgets/controls",
      "model_module_version": "1.0.0",
      "model_name": "SliderStyleModel",
      "state": {
       "description_width": ""
      }
     },
     "4518e582193b4be4827fef65bf005d15": {
      "model_module": "@jupyter-widgets/controls",
      "model_module_version": "1.0.0",
      "model_name": "SliderStyleModel",
      "state": {
       "description_width": ""
      }
     },
     "4541ae7d1ae44f1cb80aca8cefb3a195": {
      "model_module": "@jupyter-widgets/controls",
      "model_module_version": "1.0.0",
      "model_name": "VBoxModel",
      "state": {
       "_dom_classes": [
        "widget-interact"
       ],
       "children": [
        "IPY_MODEL_a4a0d05185b842528a09fa899f83d32e",
        "IPY_MODEL_b7a2f50b9c6841f4a55f0bb7a13803c8"
       ],
       "layout": "IPY_MODEL_01175b7a6e7d42448c8a02c7bf901629"
      }
     },
     "45aed5cc67da4f25ab7c7e4951384f90": {
      "model_module": "@jupyter-widgets/base",
      "model_module_version": "1.0.0",
      "model_name": "LayoutModel",
      "state": {}
     },
     "45b1c937f15c402f9e003b3d0bc9936e": {
      "model_module": "@jupyter-widgets/base",
      "model_module_version": "1.0.0",
      "model_name": "LayoutModel",
      "state": {}
     },
     "462512edc37343adb69fc6f9497a306a": {
      "model_module": "@jupyter-widgets/base",
      "model_module_version": "1.0.0",
      "model_name": "LayoutModel",
      "state": {}
     },
     "465dcc9d501f49c8b96c2c40926dc46c": {
      "model_module": "@jupyter-widgets/controls",
      "model_module_version": "1.0.0",
      "model_name": "VBoxModel",
      "state": {
       "_dom_classes": [
        "widget-interact"
       ],
       "layout": "IPY_MODEL_ad8047e98e01459f9713045247eb2e23"
      }
     },
     "485e9137a67e43bba8c6c1204c041374": {
      "model_module": "@jupyter-widgets/output",
      "model_module_version": "1.0.0",
      "model_name": "OutputModel",
      "state": {
       "layout": "IPY_MODEL_0db9c65a66514eeca7c61a4be15d52c6",
       "outputs": [
        {
         "data": {
          "text/plain": "(5, 20)"
         },
         "metadata": {},
         "output_type": "display_data"
        }
       ]
      }
     },
     "4897278e0bff401b89a91df59ae4c38e": {
      "model_module": "@jupyter-widgets/output",
      "model_module_version": "1.0.0",
      "model_name": "OutputModel",
      "state": {
       "layout": "IPY_MODEL_a20dac0016714808a9cdd74c6ee5a895",
       "outputs": [
        {
         "data": {
          "text/plain": "20"
         },
         "metadata": {},
         "output_type": "display_data"
        }
       ]
      }
     },
     "48aa16cb8f9e4fdcb0026457b81b203f": {
      "model_module": "@jupyter-widgets/base",
      "model_module_version": "1.0.0",
      "model_name": "LayoutModel",
      "state": {}
     },
     "491a42e07a6c43a28b16ced8b975456c": {
      "model_module": "@jupyter-widgets/base",
      "model_module_version": "1.0.0",
      "model_name": "LayoutModel",
      "state": {}
     },
     "4972c971c78843689cebea3a4b64f9b4": {
      "model_module": "@jupyter-widgets/base",
      "model_module_version": "1.0.0",
      "model_name": "LayoutModel",
      "state": {}
     },
     "4a462f28cf7342858fb05c3afa177926": {
      "model_module": "@jupyter-widgets/base",
      "model_module_version": "1.0.0",
      "model_name": "LayoutModel",
      "state": {}
     },
     "4a72cc54f03e4dfda595bf3bdb085d14": {
      "model_module": "@jupyter-widgets/controls",
      "model_module_version": "1.0.0",
      "model_name": "SliderStyleModel",
      "state": {
       "description_width": ""
      }
     },
     "4b687c5f4a944238a5fd0d2ad4248a35": {
      "model_module": "@jupyter-widgets/output",
      "model_module_version": "1.0.0",
      "model_name": "OutputModel",
      "state": {
       "layout": "IPY_MODEL_a2fc55dc411c475db67a9ed893594295",
       "outputs": [
        {
         "data": {
          "text/plain": "5.5"
         },
         "metadata": {},
         "output_type": "display_data"
        }
       ]
      }
     },
     "4b944e1306d548698a9891f3c82502dd": {
      "model_module": "@jupyter-widgets/output",
      "model_module_version": "1.0.0",
      "model_name": "OutputModel",
      "state": {
       "layout": "IPY_MODEL_e343d919c6574cf5b5b7c2b7041573bd"
      }
     },
     "4bdb9a720b2f4cc2b6d61b778be786f8": {
      "model_module": "@jupyter-widgets/base",
      "model_module_version": "1.0.0",
      "model_name": "LayoutModel",
      "state": {}
     },
     "4d23bf40e6894e35aed646fe1c94b3eb": {
      "model_module": "@jupyter-widgets/controls",
      "model_module_version": "1.0.0",
      "model_name": "SliderStyleModel",
      "state": {
       "description_width": ""
      }
     },
     "4dadf74b07a04b66b76bfd29c56c9694": {
      "model_module": "@jupyter-widgets/controls",
      "model_module_version": "1.0.0",
      "model_name": "VBoxModel",
      "state": {
       "_dom_classes": [
        "widget-interact"
       ],
       "children": [
        "IPY_MODEL_9615ae8b457c4c3988a93686226c9c3b",
        "IPY_MODEL_23c482387d764083a4fbb57453a054a2"
       ],
       "layout": "IPY_MODEL_48aa16cb8f9e4fdcb0026457b81b203f"
      }
     },
     "4e6f2d4a41a146749619cb10503aaa0d": {
      "model_module": "@jupyter-widgets/base",
      "model_module_version": "1.0.0",
      "model_name": "LayoutModel",
      "state": {}
     },
     "4ebf0afa13bd4681ae381498ec9dc8e8": {
      "model_module": "@jupyter-widgets/base",
      "model_module_version": "1.0.0",
      "model_name": "LayoutModel",
      "state": {}
     },
     "4f37e3314f4744f7afed4aaa80115e13": {
      "model_module": "@jupyter-widgets/base",
      "model_module_version": "1.0.0",
      "model_name": "LayoutModel",
      "state": {}
     },
     "4fff5614964d44e784d432c84d842f5d": {
      "model_module": "@jupyter-widgets/controls",
      "model_module_version": "1.0.0",
      "model_name": "FloatSliderModel",
      "state": {
       "description": "m",
       "layout": "IPY_MODEL_6bb19a42f27b4898921f1d89bea115e0",
       "max": 2,
       "min": -2,
       "step": 0.1,
       "style": "IPY_MODEL_8ebcb41a789d4cbe84bbb43f543f91cb"
      }
     },
     "5095d4c55ee0473a99d320717c21fba0": {
      "model_module": "@jupyter-widgets/controls",
      "model_module_version": "1.0.0",
      "model_name": "SliderStyleModel",
      "state": {
       "description_width": ""
      }
     },
     "51c6c155d415495abffbedd087ed38b5": {
      "model_module": "@jupyter-widgets/controls",
      "model_module_version": "1.0.0",
      "model_name": "SliderStyleModel",
      "state": {
       "description_width": ""
      }
     },
     "51f7581d1d334225be25d5bde74d88fe": {
      "model_module": "@jupyter-widgets/base",
      "model_module_version": "1.0.0",
      "model_name": "LayoutModel",
      "state": {}
     },
     "53a5d02202154c789be8def8c5b9e128": {
      "model_module": "@jupyter-widgets/base",
      "model_module_version": "1.0.0",
      "model_name": "LayoutModel",
      "state": {}
     },
     "543d18657d5e4fb092d2d5f6bfb6b293": {
      "model_module": "@jupyter-widgets/base",
      "model_module_version": "1.0.0",
      "model_name": "LayoutModel",
      "state": {}
     },
     "54574890750e49d78931c2b536f97561": {
      "model_module": "@jupyter-widgets/controls",
      "model_module_version": "1.0.0",
      "model_name": "VBoxModel",
      "state": {
       "_dom_classes": [
        "widget-interact"
       ],
       "children": [
        "IPY_MODEL_3f142e6c194b4b9b8daede23758f36fd",
        "IPY_MODEL_ccfa38c95ac641cc91ce728af46b0854"
       ],
       "layout": "IPY_MODEL_eb96ff4d451849d197821556b1a0f48c"
      }
     },
     "54e8fd89de8945d385c36958d51c6468": {
      "model_module": "@jupyter-widgets/controls",
      "model_module_version": "1.0.0",
      "model_name": "DescriptionStyleModel",
      "state": {
       "description_width": ""
      }
     },
     "54ee6982c5344a35902d984455296b4d": {
      "model_module": "@jupyter-widgets/base",
      "model_module_version": "1.0.0",
      "model_name": "LayoutModel",
      "state": {}
     },
     "5572ad5c4998422487f92d202c34d5d1": {
      "model_module": "@jupyter-widgets/controls",
      "model_module_version": "1.0.0",
      "model_name": "DescriptionStyleModel",
      "state": {
       "description_width": ""
      }
     },
     "560a159a4e47452fbd05070cb49b4959": {
      "model_module": "@jupyter-widgets/controls",
      "model_module_version": "1.0.0",
      "model_name": "SliderStyleModel",
      "state": {
       "description_width": ""
      }
     },
     "56b823ee82b145fd8b2d3d566b2d6e6f": {
      "model_module": "@jupyter-widgets/base",
      "model_module_version": "1.0.0",
      "model_name": "LayoutModel",
      "state": {}
     },
     "56ba92bf51d5400ea4e6ca50979c853d": {
      "model_module": "@jupyter-widgets/base",
      "model_module_version": "1.0.0",
      "model_name": "LayoutModel",
      "state": {}
     },
     "56dd799150ab4f9f8c01c7cea659f417": {
      "model_module": "@jupyter-widgets/controls",
      "model_module_version": "1.0.0",
      "model_name": "SliderStyleModel",
      "state": {
       "description_width": ""
      }
     },
     "571e87fdf24b4bb8b87f7e08346d048c": {
      "model_module": "@jupyter-widgets/base",
      "model_module_version": "1.0.0",
      "model_name": "LayoutModel",
      "state": {}
     },
     "572591bf3f4f4cf8a5858b07a60fcb6a": {
      "model_module": "@jupyter-widgets/base",
      "model_module_version": "1.0.0",
      "model_name": "LayoutModel",
      "state": {}
     },
     "5762558c26ae41349094a4b10f0e36ec": {
      "model_module": "@jupyter-widgets/controls",
      "model_module_version": "1.0.0",
      "model_name": "SliderStyleModel",
      "state": {
       "description_width": ""
      }
     },
     "57cd4d1dd1744215b07a74b53459f983": {
      "model_module": "@jupyter-widgets/base",
      "model_module_version": "1.0.0",
      "model_name": "LayoutModel",
      "state": {}
     },
     "58b61334dde3461fbe0d326473e968a2": {
      "model_module": "@jupyter-widgets/output",
      "model_module_version": "1.0.0",
      "model_name": "OutputModel",
      "state": {
       "layout": "IPY_MODEL_70af987497f74d8aa79bf2b910b58e9b",
       "outputs": [
        {
         "data": {
          "text/plain": "'apples'"
         },
         "metadata": {},
         "output_type": "display_data"
        }
       ]
      }
     },
     "58c1b01a6e2c4672bdc25f2d3dc07444": {
      "model_module": "@jupyter-widgets/controls",
      "model_module_version": "1.0.0",
      "model_name": "SliderStyleModel",
      "state": {
       "description_width": ""
      }
     },
     "58cbbce003014ae1a196b708d46d54a2": {
      "model_module": "@jupyter-widgets/output",
      "model_module_version": "1.0.0",
      "model_name": "OutputModel",
      "state": {
       "layout": "IPY_MODEL_abb7a77431064835aa372e046c157221",
       "outputs": [
        {
         "data": {
          "text/plain": "10"
         },
         "metadata": {},
         "output_type": "display_data"
        }
       ]
      }
     },
     "5a0642a2d5914a3faa2b4d2e2618c64f": {
      "model_module": "@jupyter-widgets/controls",
      "model_module_version": "1.0.0",
      "model_name": "DescriptionStyleModel",
      "state": {
       "description_width": ""
      }
     },
     "5a98ae9fa2804516bf0845dcc34c30ec": {
      "model_module": "@jupyter-widgets/base",
      "model_module_version": "1.0.0",
      "model_name": "LayoutModel",
      "state": {}
     },
     "5ace95e266c44900a7aef779a6ecb74f": {
      "model_module": "@jupyter-widgets/controls",
      "model_module_version": "1.0.0",
      "model_name": "VBoxModel",
      "state": {
       "_dom_classes": [
        "widget-interact"
       ],
       "children": [
        "IPY_MODEL_a7e88502c67a4085afc1d6a2968891da",
        "IPY_MODEL_2915a5c4c83e4dfb8356b3126328a49a",
        "IPY_MODEL_063e4accae0c4d28b5656dc520d3fb37"
       ],
       "layout": "IPY_MODEL_9394e14312d14057a565d07fd92d9b5b"
      }
     },
     "5b7c36ed2116403da8246ab90fd32f01": {
      "model_module": "@jupyter-widgets/controls",
      "model_module_version": "1.0.0",
      "model_name": "SliderStyleModel",
      "state": {
       "description_width": ""
      }
     },
     "5b8bd9b23c2f49a2a57251204cd78e59": {
      "model_module": "@jupyter-widgets/controls",
      "model_module_version": "1.0.0",
      "model_name": "VBoxModel",
      "state": {
       "_dom_classes": [
        "widget-interact"
       ],
       "children": [
        "IPY_MODEL_ca5860e9b8734e63961365e9a083226b",
        "IPY_MODEL_f888525ec62d41ac8612409ff251f963",
        "IPY_MODEL_4b944e1306d548698a9891f3c82502dd"
       ],
       "layout": "IPY_MODEL_53a5d02202154c789be8def8c5b9e128"
      }
     },
     "5ba9d26ecd9a4731b45a3364c18c763a": {
      "model_module": "@jupyter-widgets/base",
      "model_module_version": "1.0.0",
      "model_name": "LayoutModel",
      "state": {}
     },
     "5beca1647b68403c9f38b2a50a0549e1": {
      "model_module": "@jupyter-widgets/output",
      "model_module_version": "1.0.0",
      "model_name": "OutputModel",
      "state": {
       "layout": "IPY_MODEL_fe7658435b2044c088058db696d6f6eb"
      }
     },
     "5bfc93c919fa4118aca4d150ae14cc7b": {
      "model_module": "@jupyter-widgets/controls",
      "model_module_version": "1.0.0",
      "model_name": "DescriptionStyleModel",
      "state": {
       "description_width": ""
      }
     },
     "5e34fec914d74817b1c7adea842ee119": {
      "model_module": "@jupyter-widgets/controls",
      "model_module_version": "1.0.0",
      "model_name": "VBoxModel",
      "state": {
       "_dom_classes": [
        "widget-interact"
       ],
       "children": [
        "IPY_MODEL_3db9f9a7deaa4948bce4da1ef6eaea5c",
        "IPY_MODEL_72872b3f84424c27a2c0c181631edc42"
       ],
       "layout": "IPY_MODEL_0f51c12226d34ee5915b4160ede8d168"
      }
     },
     "5e7ffa52bb5f4d0bae131f27e249a10a": {
      "model_module": "@jupyter-widgets/controls",
      "model_module_version": "1.0.0",
      "model_name": "VBoxModel",
      "state": {
       "_dom_classes": [
        "widget-interact"
       ],
       "children": [
        "IPY_MODEL_e7b27be01bce49f1b8b6d77410d9dde5",
        "IPY_MODEL_8702db84ea264ea2a59576b3e2798780"
       ],
       "layout": "IPY_MODEL_d142ba2584bf40bbbd93db58b09d3e6b"
      }
     },
     "5e8137051955480093738df55112d872": {
      "model_module": "@jupyter-widgets/base",
      "model_module_version": "1.0.0",
      "model_name": "LayoutModel",
      "state": {}
     },
     "5f7206dea0fb403d8b5af4851b92f75e": {
      "model_module": "@jupyter-widgets/base",
      "model_module_version": "1.0.0",
      "model_name": "LayoutModel",
      "state": {}
     },
     "5fc6fdadca9d4eaa952ec1d34a093ac4": {
      "model_module": "@jupyter-widgets/controls",
      "model_module_version": "1.0.0",
      "model_name": "SliderStyleModel",
      "state": {
       "description_width": ""
      }
     },
     "5feb8e933db044c897f040e3de329343": {
      "model_module": "@jupyter-widgets/base",
      "model_module_version": "1.0.0",
      "model_name": "LayoutModel",
      "state": {}
     },
     "606111bdd8ce48c48d4da70fe5af6847": {
      "model_module": "@jupyter-widgets/controls",
      "model_module_version": "1.0.0",
      "model_name": "FloatSliderModel",
      "state": {
       "description": "i",
       "layout": "IPY_MODEL_183d17f4bf96417989899f0b34b1086e",
       "max": 10000000,
       "min": 100000,
       "step": 100000,
       "style": "IPY_MODEL_3953009f77b84abcbbe609dd89d5fa0e",
       "value": 100000
      }
     },
     "6084ed83245446f4ad8ae55cd0473947": {
      "model_module": "@jupyter-widgets/controls",
      "model_module_version": "1.0.0",
      "model_name": "VBoxModel",
      "state": {
       "_dom_classes": [
        "widget-interact"
       ],
       "children": [
        "IPY_MODEL_43e744cddfb54f6a9fb8353d0dd86be0",
        "IPY_MODEL_3428b7336ebc43e085c43e785b138acf"
       ],
       "layout": "IPY_MODEL_870286c3ad394e3f99f6e662853ed22d"
      }
     },
     "6085b36da18c46f5bc5077eb192ce61c": {
      "model_module": "@jupyter-widgets/output",
      "model_module_version": "1.0.0",
      "model_name": "OutputModel",
      "state": {
       "layout": "IPY_MODEL_3fcbb33a19034637bdaedaa656f76846",
       "outputs": [
        {
         "data": {
          "text/plain": "10"
         },
         "metadata": {},
         "output_type": "display_data"
        }
       ]
      }
     },
     "609fd54441a0451187c6356ed4896192": {
      "model_module": "@jupyter-widgets/controls",
      "model_module_version": "1.0.0",
      "model_name": "IntSliderModel",
      "state": {
       "description": "x",
       "layout": "IPY_MODEL_35f2fcac148546b1a3d3709d45d4fb10",
       "max": 4,
       "style": "IPY_MODEL_c7c02fd9fb864214834706087f720983",
       "value": 2
      }
     },
     "60b6902d10824a6da479619674d49e48": {
      "model_module": "@jupyter-widgets/base",
      "model_module_version": "1.0.0",
      "model_name": "LayoutModel",
      "state": {}
     },
     "60b9d3571de44d45976ef4622154228e": {
      "model_module": "@jupyter-widgets/base",
      "model_module_version": "1.0.0",
      "model_name": "LayoutModel",
      "state": {}
     },
     "60d050afe0c7466cb721151432857d48": {
      "model_module": "@jupyter-widgets/controls",
      "model_module_version": "1.0.0",
      "model_name": "IntSliderModel",
      "state": {
       "layout": "IPY_MODEL_1a200f83a5424614a9afcff8079149c0",
       "style": "IPY_MODEL_7317ff3f5a544ec48c75b5514ed30be9"
      }
     },
     "60fbe74887544d8f8c9f236cf69c2f5b": {
      "model_module": "@jupyter-widgets/base",
      "model_module_version": "1.0.0",
      "model_name": "LayoutModel",
      "state": {}
     },
     "61007ad18a43415aa4450a190131a542": {
      "model_module": "@jupyter-widgets/controls",
      "model_module_version": "1.0.0",
      "model_name": "SliderStyleModel",
      "state": {
       "description_width": ""
      }
     },
     "627a96c8eaef4352a41c5b0d8881f1d9": {
      "model_module": "@jupyter-widgets/controls",
      "model_module_version": "1.0.0",
      "model_name": "FloatSliderModel",
      "state": {
       "description": "y",
       "layout": "IPY_MODEL_7499d2e9291a450d89b8563c09f105a5",
       "max": 3,
       "min": -1,
       "step": 0.1,
       "style": "IPY_MODEL_7994b62fe83d4ed3bd1340df53f6e1ca",
       "value": 1
      }
     },
     "62ce0fea76fc4a029146cc4338e0f7d3": {
      "model_module": "@jupyter-widgets/base",
      "model_module_version": "1.0.0",
      "model_name": "LayoutModel",
      "state": {}
     },
     "636396db7c8148dc9675e88b8831d4b6": {
      "model_module": "@jupyter-widgets/base",
      "model_module_version": "1.0.0",
      "model_name": "LayoutModel",
      "state": {}
     },
     "63a907b33d4e4055895719588e9a5b84": {
      "model_module": "@jupyter-widgets/output",
      "model_module_version": "1.0.0",
      "model_name": "OutputModel",
      "state": {
       "layout": "IPY_MODEL_b8d1c664ae1548eeaba259c4c0b90887",
       "outputs": [
        {
         "data": {
          "text/plain": "(5, 20)"
         },
         "metadata": {},
         "output_type": "display_data"
        }
       ]
      }
     },
     "65251aeaf43742739663dbb64e2461b8": {
      "model_module": "@jupyter-widgets/controls",
      "model_module_version": "1.0.0",
      "model_name": "FloatSliderModel",
      "state": {
       "description": "b",
       "layout": "IPY_MODEL_38da0ffa735c48859f8e654b58de9b84",
       "max": 3,
       "min": -3,
       "step": 0.5,
       "style": "IPY_MODEL_c1430009569149feb208ae043b93d1e6"
      }
     },
     "65436b1d165b49c89b6c48cd16166898": {
      "model_module": "@jupyter-widgets/controls",
      "model_module_version": "1.0.0",
      "model_name": "SliderStyleModel",
      "state": {
       "description_width": ""
      }
     },
     "65b4f79d073d45c5899912c01c45bcca": {
      "model_module": "@jupyter-widgets/controls",
      "model_module_version": "1.0.0",
      "model_name": "VBoxModel",
      "state": {
       "_dom_classes": [
        "widget-interact"
       ],
       "children": [
        "IPY_MODEL_e3e77012e2c145f0afb779278390dbc6",
        "IPY_MODEL_8eab3ff9606a4ddf80b7cfc25747c51b"
       ],
       "layout": "IPY_MODEL_739c1f3411224dd1878cb2af24d34608"
      }
     },
     "6622a00fe5e641f8a45af9d9b9ba5566": {
      "model_module": "@jupyter-widgets/controls",
      "model_module_version": "1.0.0",
      "model_name": "SliderStyleModel",
      "state": {
       "description_width": ""
      }
     },
     "66a1d754bdad41a0abd6e5343f3c293e": {
      "model_module": "@jupyter-widgets/controls",
      "model_module_version": "1.0.0",
      "model_name": "SliderStyleModel",
      "state": {
       "description_width": ""
      }
     },
     "6730da13b4344c89a70a78d947f84e27": {
      "model_module": "@jupyter-widgets/base",
      "model_module_version": "1.0.0",
      "model_name": "LayoutModel",
      "state": {}
     },
     "6733db21a3474ffbb7c1fb2f8cc43d79": {
      "model_module": "@jupyter-widgets/controls",
      "model_module_version": "1.0.0",
      "model_name": "FloatSliderModel",
      "state": {
       "description": "y",
       "layout": "IPY_MODEL_b19037e974294c57965e78bb51e10528",
       "max": 3,
       "min": -1,
       "step": 0.1,
       "style": "IPY_MODEL_ed598602d1614e48b9dc29f17f002dfe",
       "value": 1
      }
     },
     "67442746939042e28c5500b35e1af879": {
      "model_module": "@jupyter-widgets/controls",
      "model_module_version": "1.0.0",
      "model_name": "SliderStyleModel",
      "state": {
       "description_width": ""
      }
     },
     "675783d251834d8e81e93fa2947431eb": {
      "model_module": "@jupyter-widgets/base",
      "model_module_version": "1.0.0",
      "model_name": "LayoutModel",
      "state": {}
     },
     "677a1288e9a8478dbd4dc90e3b482a8f": {
      "model_module": "@jupyter-widgets/base",
      "model_module_version": "1.0.0",
      "model_name": "LayoutModel",
      "state": {}
     },
     "678060f57aa74cf7b9d6db4258f105a1": {
      "model_module": "@jupyter-widgets/output",
      "model_module_version": "1.0.0",
      "model_name": "OutputModel",
      "state": {
       "layout": "IPY_MODEL_62ce0fea76fc4a029146cc4338e0f7d3",
       "outputs": [
        {
         "data": {
          "text/plain": "4"
         },
         "metadata": {},
         "output_type": "display_data"
        }
       ]
      }
     },
     "67b862d11ace4167858b8d56e5f3cf15": {
      "model_module": "@jupyter-widgets/controls",
      "model_module_version": "1.0.0",
      "model_name": "SliderStyleModel",
      "state": {
       "description_width": ""
      }
     },
     "68a15cb68da84f9cb867f61e960bccd6": {
      "model_module": "@jupyter-widgets/controls",
      "model_module_version": "1.0.0",
      "model_name": "DescriptionStyleModel",
      "state": {
       "description_width": ""
      }
     },
     "68d67439732b4d4fb0e3abe8d3d675e9": {
      "model_module": "@jupyter-widgets/output",
      "model_module_version": "1.0.0",
      "model_name": "OutputModel",
      "state": {
       "layout": "IPY_MODEL_8e384dab8ac94997a6251e2564486be1",
       "outputs": [
        {
         "data": {
          "text/plain": "5.0"
         },
         "metadata": {},
         "output_type": "display_data"
        }
       ]
      }
     },
     "68f2ac46a81246cf975c0e9bd6de7bfc": {
      "model_module": "@jupyter-widgets/base",
      "model_module_version": "1.0.0",
      "model_name": "LayoutModel",
      "state": {}
     },
     "699a4a6485e54f59b8e55746d8d4a700": {
      "model_module": "@jupyter-widgets/output",
      "model_module_version": "1.0.0",
      "model_name": "OutputModel",
      "state": {
       "layout": "IPY_MODEL_b1666dcbc594425ba290712f7a8c69ab",
       "outputs": [
        {
         "data": {
          "text/plain": "4"
         },
         "metadata": {},
         "output_type": "display_data"
        }
       ]
      }
     },
     "6a2e2484386b4d7e8386df464cf21d0f": {
      "model_module": "@jupyter-widgets/controls",
      "model_module_version": "1.0.0",
      "model_name": "VBoxModel",
      "state": {
       "_dom_classes": [
        "widget-interact"
       ],
       "children": [
        "IPY_MODEL_34a31ba358c8446682d48815d300eea7",
        "IPY_MODEL_6f97cb9a234449e1a2929146b6975192",
        "IPY_MODEL_3c96c0d9b34f4a30b85d8eadcb9ed340"
       ],
       "layout": "IPY_MODEL_e18e997153604672bc9d5d7a6d30f4ac"
      }
     },
     "6b849f05c45f43ee8e944da12cc2dde6": {
      "model_module": "@jupyter-widgets/base",
      "model_module_version": "1.0.0",
      "model_name": "LayoutModel",
      "state": {}
     },
     "6bb19a42f27b4898921f1d89bea115e0": {
      "model_module": "@jupyter-widgets/base",
      "model_module_version": "1.0.0",
      "model_name": "LayoutModel",
      "state": {}
     },
     "6bd3e495228d461f8985be321cac2f1d": {
      "model_module": "@jupyter-widgets/controls",
      "model_module_version": "1.0.0",
      "model_name": "DescriptionStyleModel",
      "state": {
       "description_width": ""
      }
     },
     "6d8c2ebd378f47f48d79f93b37feeabc": {
      "model_module": "@jupyter-widgets/base",
      "model_module_version": "1.0.0",
      "model_name": "LayoutModel",
      "state": {}
     },
     "6db3e8ba39c14b92b735e0964c41f4d3": {
      "model_module": "@jupyter-widgets/controls",
      "model_module_version": "1.0.0",
      "model_name": "IntSliderModel",
      "state": {
       "description": "x",
       "layout": "IPY_MODEL_326da6f5d45f46819cac84901a1dfd5a",
       "max": 8,
       "step": 2,
       "style": "IPY_MODEL_cee94e83d26e4a47bdaa39ff154ded2b",
       "value": 4
      }
     },
     "6dd9ae220f84479cb74025e36f287d14": {
      "model_module": "@jupyter-widgets/output",
      "model_module_version": "1.0.0",
      "model_name": "OutputModel",
      "state": {
       "layout": "IPY_MODEL_9446146c8691404fbee9a3e34095234f",
       "outputs": [
        {
         "name": "stdout",
         "output_type": "stream",
         "text": "2800000 [0, 1, 2, 3, 11, 22, 101, 111, 121, 202, 212, 1001, 1111, 2002, 10001, 10101, 10201, 11011, 11111, 11211, 20002, 20102, 100001, 101101, 110011, 111111, 200002, 1000001, 1001001, 1002001, 1010101, 1011101, 1012101, 1100011, 1101011, 1102011, 1110111, 1111111, 2000002, 2001002]\n"
        }
       ]
      }
     },
     "6e2ed49689d843edac8492b84c29fe57": {
      "model_module": "@jupyter-widgets/base",
      "model_module_version": "1.0.0",
      "model_name": "LayoutModel",
      "state": {}
     },
     "6eaa3e92a7df44ac8e5e9e31ec126bdf": {
      "model_module": "@jupyter-widgets/controls",
      "model_module_version": "1.0.0",
      "model_name": "VBoxModel",
      "state": {
       "_dom_classes": [
        "widget-interact"
       ],
       "children": [
        "IPY_MODEL_af7459f1eb5f441684aec262a0488803",
        "IPY_MODEL_41defac33d43429fad2f44daf03b5565"
       ],
       "layout": "IPY_MODEL_16196ee570dd4dafa975841f7d5b930c"
      }
     },
     "6f2d015306674a2494b4cc16fe565735": {
      "model_module": "@jupyter-widgets/base",
      "model_module_version": "1.0.0",
      "model_name": "LayoutModel",
      "state": {}
     },
     "6f8d9fedbe5e4647a6f4607d8e19b9da": {
      "model_module": "@jupyter-widgets/base",
      "model_module_version": "1.0.0",
      "model_name": "LayoutModel",
      "state": {}
     },
     "6f97cb9a234449e1a2929146b6975192": {
      "model_module": "@jupyter-widgets/controls",
      "model_module_version": "1.0.0",
      "model_name": "FloatSliderModel",
      "state": {
       "description": "b",
       "layout": "IPY_MODEL_94ae5304d14b4d47b275790628ca710b",
       "max": 3,
       "min": -3,
       "step": 0.5,
       "style": "IPY_MODEL_d393d90582874d07a28cbed1036edc68"
      }
     },
     "6fa26c277fc24820851d2a368bbd93af": {
      "model_module": "@jupyter-widgets/controls",
      "model_module_version": "1.0.0",
      "model_name": "FloatSliderModel",
      "state": {
       "description": "m",
       "layout": "IPY_MODEL_2d48b62378bd4cb6beca1047a8b10e8e",
       "max": 2,
       "min": -2,
       "step": 0.1,
       "style": "IPY_MODEL_8874bc241f83456f9d5259f72895ea05"
      }
     },
     "7019403e8f1c4e2fb624468ac1ccfcff": {
      "model_module": "@jupyter-widgets/controls",
      "model_module_version": "1.0.0",
      "model_name": "IntSliderModel",
      "state": {
       "description": "b",
       "layout": "IPY_MODEL_8ca9cdf84dcd46f58ede9c4cb6b52065",
       "max": 60,
       "min": -20,
       "style": "IPY_MODEL_320997812d8c432d98121f5c7f1aa7a9",
       "value": 20
      }
     },
     "706cdd4956f24b08bc343602fb4f90ea": {
      "model_module": "@jupyter-widgets/base",
      "model_module_version": "1.0.0",
      "model_name": "LayoutModel",
      "state": {}
     },
     "70921798bb704cd7ae27e3e893e0b3f4": {
      "model_module": "@jupyter-widgets/base",
      "model_module_version": "1.0.0",
      "model_name": "LayoutModel",
      "state": {}
     },
     "70aa8e9bc011467fbd122d0119f40b7c": {
      "model_module": "@jupyter-widgets/controls",
      "model_module_version": "1.0.0",
      "model_name": "CheckboxModel",
      "state": {
       "description": "x",
       "disabled": false,
       "layout": "IPY_MODEL_05eaa53b71bf40129e6e866269859b32",
       "style": "IPY_MODEL_68a15cb68da84f9cb867f61e960bccd6",
       "value": true
      }
     },
     "70af987497f74d8aa79bf2b910b58e9b": {
      "model_module": "@jupyter-widgets/base",
      "model_module_version": "1.0.0",
      "model_name": "LayoutModel",
      "state": {}
     },
     "714ffde4d4d44bb791036ff3089696e9": {
      "model_module": "@jupyter-widgets/controls",
      "model_module_version": "1.0.0",
      "model_name": "IntSliderModel",
      "state": {
       "description": "b",
       "layout": "IPY_MODEL_b0287f85bab04eadbd628b102987c700",
       "max": 60,
       "min": -20,
       "style": "IPY_MODEL_f3e47bb3d68c4ea7aecdf931bc9d9c60",
       "value": 20
      }
     },
     "71649f534b2a40d89c7bf5c9a5e4b47b": {
      "model_module": "@jupyter-widgets/base",
      "model_module_version": "1.0.0",
      "model_name": "LayoutModel",
      "state": {}
     },
     "717c611e9ec547279db1d86f3f6995b6": {
      "model_module": "@jupyter-widgets/base",
      "model_module_version": "1.0.0",
      "model_name": "LayoutModel",
      "state": {}
     },
     "71b5571c61d8436f8f70d6d7d0cd92b3": {
      "model_module": "@jupyter-widgets/controls",
      "model_module_version": "1.0.0",
      "model_name": "VBoxModel",
      "state": {
       "_dom_classes": [
        "widget-interact"
       ],
       "children": [
        "IPY_MODEL_a256e29a651f420cb398677717ce8f25",
        "IPY_MODEL_485e9137a67e43bba8c6c1204c041374"
       ],
       "layout": "IPY_MODEL_2da2ae343590475ea7bf03ded85dd396"
      }
     },
     "72872b3f84424c27a2c0c181631edc42": {
      "model_module": "@jupyter-widgets/output",
      "model_module_version": "1.0.0",
      "model_name": "OutputModel",
      "state": {
       "layout": "IPY_MODEL_4972c971c78843689cebea3a4b64f9b4",
       "outputs": [
        {
         "data": {
          "text/plain": "5.0"
         },
         "metadata": {},
         "output_type": "display_data"
        }
       ]
      }
     },
     "72b5d434bf6a472899f674913452d9ff": {
      "model_module": "@jupyter-widgets/output",
      "model_module_version": "1.0.0",
      "model_name": "OutputModel",
      "state": {
       "layout": "IPY_MODEL_c70e9178b8c9465b882a4f040c14b6c5",
       "outputs": [
        {
         "name": "stdout",
         "output_type": "stream",
         "text": "100000 [0, 1, 2, 3, 11, 22, 101, 111, 121, 202, 212, 1001, 1111, 2002, 10001, 10101, 10201, 11011, 11111, 11211, 20002, 20102]\n"
        }
       ]
      }
     },
     "7317ff3f5a544ec48c75b5514ed30be9": {
      "model_module": "@jupyter-widgets/controls",
      "model_module_version": "1.0.0",
      "model_name": "SliderStyleModel",
      "state": {
       "description_width": ""
      }
     },
     "739c1f3411224dd1878cb2af24d34608": {
      "model_module": "@jupyter-widgets/base",
      "model_module_version": "1.0.0",
      "model_name": "LayoutModel",
      "state": {}
     },
     "73da551376474074a19a318a194e0bdc": {
      "model_module": "@jupyter-widgets/output",
      "model_module_version": "1.0.0",
      "model_name": "OutputModel",
      "state": {
       "layout": "IPY_MODEL_bf586bd444224fbb8c21a4e4a6ffcb4e",
       "outputs": [
        {
         "data": {
          "image/png": "iVBORw0KGgoAAAANSUhEUgAAAXYAAAD8CAYAAABjAo9vAAAABHNCSVQICAgIfAhkiAAAAAlwSFlz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\n",
          "text/plain": "<matplotlib.figure.Figure at 0x10ff69ef0>"
         },
         "metadata": {},
         "output_type": "display_data"
        }
       ]
      }
     },
     "740c0fe222044d41a1ef82c86959bb74": {
      "model_module": "@jupyter-widgets/controls",
      "model_module_version": "1.0.0",
      "model_name": "VBoxModel",
      "state": {
       "_dom_classes": [
        "widget-interact"
       ],
       "children": [
        "IPY_MODEL_cfb2eb93e9ab4aa8897dae911241cc17",
        "IPY_MODEL_f43b8900323445d5aec14f48a5df2926"
       ],
       "layout": "IPY_MODEL_e642338b99bd475a8fd139c7ece15fdb"
      }
     },
     "7413cdaaddb648589cd50b474fa0dc63": {
      "model_module": "@jupyter-widgets/controls",
      "model_module_version": "1.0.0",
      "model_name": "VBoxModel",
      "state": {
       "_dom_classes": [
        "widget-interact"
       ],
       "children": [
        "IPY_MODEL_d90853a9ddde4a0f9b0007dff2d4df5e",
        "IPY_MODEL_db8a574cc1c54029b83813e613856e33",
        "IPY_MODEL_b43542451bba474b9909acc33af2a05f"
       ],
       "layout": "IPY_MODEL_6730da13b4344c89a70a78d947f84e27"
      }
     },
     "7439f43bc7a44b74bcc6e465a81d8b8b": {
      "model_module": "@jupyter-widgets/output",
      "model_module_version": "1.0.0",
      "model_name": "OutputModel",
      "state": {
       "layout": "IPY_MODEL_0369944dc07d4750a6a4d72d08690b9b",
       "outputs": [
        {
         "data": {
          "text/plain": "(True, 1.0)"
         },
         "metadata": {},
         "output_type": "display_data"
        }
       ]
      }
     },
     "743e05113fef409091420726d969576c": {
      "model_module": "@jupyter-widgets/controls",
      "model_module_version": "1.0.0",
      "model_name": "VBoxModel",
      "state": {
       "_dom_classes": [
        "widget-interact"
       ],
       "children": [
        "IPY_MODEL_eba0536d32594adca9f5e4d57c0d6a79",
        "IPY_MODEL_2e47c1b37d4b488c84d1e36b2f154ad4"
       ],
       "layout": "IPY_MODEL_3c214a83b0d24a84861d70436244d44b"
      }
     },
     "7499d2e9291a450d89b8563c09f105a5": {
      "model_module": "@jupyter-widgets/base",
      "model_module_version": "1.0.0",
      "model_name": "LayoutModel",
      "state": {}
     },
     "74bc7551734c4de5b0007c3356260ae1": {
      "model_module": "@jupyter-widgets/controls",
      "model_module_version": "1.0.0",
      "model_name": "ButtonModel",
      "state": {
       "description": "Run Interact",
       "layout": "IPY_MODEL_f99a8d2836ef4f0591340441930ceb50",
       "style": "IPY_MODEL_97005ac5da6c446eb71d12636c04d360"
      }
     },
     "74d0400f770d4e52be75cfd25b56c58f": {
      "model_module": "@jupyter-widgets/controls",
      "model_module_version": "1.0.0",
      "model_name": "VBoxModel",
      "state": {
       "_dom_classes": [
        "widget-interact"
       ],
       "children": [
        "IPY_MODEL_8cb9fd6848314bb2be6a50dcefb1a465",
        "IPY_MODEL_4897278e0bff401b89a91df59ae4c38e"
       ],
       "layout": "IPY_MODEL_1f1b001f089f4db891b79f6aa015da86"
      }
     },
     "75f620f8e4c54851949fbb53ce20322f": {
      "model_module": "@jupyter-widgets/base",
      "model_module_version": "1.0.0",
      "model_name": "LayoutModel",
      "state": {}
     },
     "7633d94bea5547118c088a4e3d67374e": {
      "model_module": "@jupyter-widgets/controls",
      "model_module_version": "1.0.0",
      "model_name": "IntSliderModel",
      "state": {
       "description": "p",
       "layout": "IPY_MODEL_11a8981829384e8eabdf8388ed7165ef",
       "max": 15,
       "min": -5,
       "style": "IPY_MODEL_66a1d754bdad41a0abd6e5343f3c293e",
       "value": 12
      }
     },
     "76a9bc8522ba485f848d78f40c2a7f32": {
      "model_module": "@jupyter-widgets/base",
      "model_module_version": "1.0.0",
      "model_name": "LayoutModel",
      "state": {}
     },
     "77586e830af44db39c6632e65f87b300": {
      "model_module": "@jupyter-widgets/base",
      "model_module_version": "1.0.0",
      "model_name": "LayoutModel",
      "state": {}
     },
     "777c4a4881174b3d8fc4703b230827c7": {
      "model_module": "@jupyter-widgets/base",
      "model_module_version": "1.0.0",
      "model_name": "LayoutModel",
      "state": {}
     },
     "7785b9132ae4416d9b2cb4d500dab5b9": {
      "model_module": "@jupyter-widgets/output",
      "model_module_version": "1.0.0",
      "model_name": "OutputModel",
      "state": {
       "layout": "IPY_MODEL_462512edc37343adb69fc6f9497a306a",
       "outputs": [
        {
         "data": {
          "text/plain": "5.5"
         },
         "metadata": {},
         "output_type": "display_data"
        }
       ]
      }
     },
     "77ec575bfed74ffc83e56665622ded50": {
      "model_module": "@jupyter-widgets/output",
      "model_module_version": "1.0.0",
      "model_name": "OutputModel",
      "state": {
       "layout": "IPY_MODEL_bc43d0f27be14cc8ac4f796666487e0b",
       "outputs": [
        {
         "data": {
          "text/plain": "2"
         },
         "metadata": {},
         "output_type": "display_data"
        }
       ]
      }
     },
     "78064ebaef71480db83868a0a7b5e180": {
      "model_module": "@jupyter-widgets/controls",
      "model_module_version": "1.0.0",
      "model_name": "VBoxModel",
      "state": {
       "_dom_classes": [
        "widget-interact"
       ],
       "children": [
        "IPY_MODEL_9c701db72ba3417c8b193270c957cc7f",
        "IPY_MODEL_1742455411de43618836c6c4428630af"
       ],
       "layout": "IPY_MODEL_56ba92bf51d5400ea4e6ca50979c853d"
      }
     },
     "78411002fe5741b88293013918314849": {
      "model_module": "@jupyter-widgets/controls",
      "model_module_version": "1.0.0",
      "model_name": "ButtonStyleModel",
      "state": {}
     },
     "784fb088d9e94bbab03bb50f90c97f7f": {
      "model_module": "@jupyter-widgets/base",
      "model_module_version": "1.0.0",
      "model_name": "LayoutModel",
      "state": {}
     },
     "792d234d59e04c1c929809e32b6f461b": {
      "model_module": "@jupyter-widgets/controls",
      "model_module_version": "1.0.0",
      "model_name": "SliderStyleModel",
      "state": {
       "description_width": ""
      }
     },
     "79397b3921d347ddb5912b93a5f2b490": {
      "model_module": "@jupyter-widgets/output",
      "model_module_version": "1.0.0",
      "model_name": "OutputModel",
      "state": {
       "layout": "IPY_MODEL_ecb3e34f097440448dcc6d4c25ef6c82",
       "outputs": [
        {
         "data": {
          "image/png": "iVBORw0KGgoAAAANSUhEUgAAAXYAAAD8CAYAAABjAo9vAAAABHNCSVQICAgIfAhkiAAAAAlwSFlz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\n",
          "text/plain": "<matplotlib.figure.Figure at 0x10ff6ea20>"
         },
         "metadata": {},
         "output_type": "display_data"
        }
       ]
      }
     },
     "7994b62fe83d4ed3bd1340df53f6e1ca": {
      "model_module": "@jupyter-widgets/controls",
      "model_module_version": "1.0.0",
      "model_name": "SliderStyleModel",
      "state": {
       "description_width": ""
      }
     },
     "799a3c7fa16c40e5b0a86f1a47da3960": {
      "model_module": "@jupyter-widgets/controls",
      "model_module_version": "1.0.0",
      "model_name": "SliderStyleModel",
      "state": {
       "description_width": ""
      }
     },
     "79c0c645f08142378bc88199197864f6": {
      "model_module": "@jupyter-widgets/base",
      "model_module_version": "1.0.0",
      "model_name": "LayoutModel",
      "state": {}
     },
     "7a38d9ec035f4516aa8ebba1298816f4": {
      "model_module": "@jupyter-widgets/output",
      "model_module_version": "1.0.0",
      "model_name": "OutputModel",
      "state": {
       "layout": "IPY_MODEL_b2151d75934c4aa9963718dcb1c299bd",
       "outputs": [
        {
         "data": {
          "text/plain": "5.5"
         },
         "metadata": {},
         "output_type": "display_data"
        }
       ]
      }
     },
     "7a39fa0862ee41c38ceee6848cb15402": {
      "model_module": "@jupyter-widgets/output",
      "model_module_version": "1.0.0",
      "model_name": "OutputModel",
      "state": {
       "layout": "IPY_MODEL_1cebb83f9efc4a69991b5222c0dcfd46",
       "outputs": [
        {
         "data": {
          "text/plain": "'Hi there!'"
         },
         "metadata": {},
         "output_type": "display_data"
        }
       ]
      }
     },
     "7a4bfe304b074a5f9e799e0306c21aec": {
      "model_module": "@jupyter-widgets/controls",
      "model_module_version": "1.0.0",
      "model_name": "DescriptionStyleModel",
      "state": {
       "description_width": ""
      }
     },
     "7a98c3aba3524d7ca153b9f4fca821f2": {
      "model_module": "@jupyter-widgets/controls",
      "model_module_version": "1.0.0",
      "model_name": "DescriptionStyleModel",
      "state": {
       "description_width": ""
      }
     },
     "7b260288c5564916b696b78f9fcc8d40": {
      "model_module": "@jupyter-widgets/base",
      "model_module_version": "1.0.0",
      "model_name": "LayoutModel",
      "state": {}
     },
     "7b511920a44143a9b5c0418a6d2b8ee3": {
      "model_module": "@jupyter-widgets/base",
      "model_module_version": "1.0.0",
      "model_name": "LayoutModel",
      "state": {}
     },
     "7b61750826504173a7c0126be5cb2145": {
      "model_module": "@jupyter-widgets/base",
      "model_module_version": "1.0.0",
      "model_name": "LayoutModel",
      "state": {}
     },
     "7bbc917bffc14ba5a88c3e57bf21cd96": {
      "model_module": "@jupyter-widgets/controls",
      "model_module_version": "1.0.0",
      "model_name": "VBoxModel",
      "state": {
       "_dom_classes": [
        "widget-interact"
       ],
       "layout": "IPY_MODEL_922e60ea5d4f4f50b70e089023af4612"
      }
     },
     "7c555fb9ce9c4768a519d3d37ede430b": {
      "model_module": "@jupyter-widgets/base",
      "model_module_version": "1.0.0",
      "model_name": "LayoutModel",
      "state": {}
     },
     "7ccb6418062743b6a401d51e1006b727": {
      "model_module": "@jupyter-widgets/output",
      "model_module_version": "1.0.0",
      "model_name": "OutputModel",
      "state": {
       "layout": "IPY_MODEL_cbbf619ba9074e6daf3527edba10a831",
       "outputs": [
        {
         "data": {
          "text/plain": "(True, 1.0)"
         },
         "metadata": {},
         "output_type": "display_data"
        }
       ]
      }
     },
     "7d243ee5cfc94e52b3a35962475a1e5b": {
      "model_module": "@jupyter-widgets/base",
      "model_module_version": "1.0.0",
      "model_name": "LayoutModel",
      "state": {}
     },
     "7d530d7279c14374bb77a1c9be689cbe": {
      "model_module": "@jupyter-widgets/base",
      "model_module_version": "1.0.0",
      "model_name": "LayoutModel",
      "state": {}
     },
     "7ddf610198d04e65a0f716e623a52bc4": {
      "model_module": "@jupyter-widgets/controls",
      "model_module_version": "1.0.0",
      "model_name": "FloatSliderModel",
      "state": {
       "continuous_update": false,
       "description": "i",
       "layout": "IPY_MODEL_850cee58c8c0434695ed4a5c7ca2c33f",
       "max": 10000000,
       "min": 100000,
       "step": 100000,
       "style": "IPY_MODEL_5fc6fdadca9d4eaa952ec1d34a093ac4",
       "value": 100000
      }
     },
     "7de7794b0e654b4699755cc47aced367": {
      "model_module": "@jupyter-widgets/controls",
      "model_module_version": "1.0.0",
      "model_name": "VBoxModel",
      "state": {
       "_dom_classes": [
        "widget-interact"
       ],
       "children": [
        "IPY_MODEL_7fa2cf36fe1d472982cb6b622f5bd00a",
        "IPY_MODEL_fcd740593e444ea59488cd37cfcdc563"
       ],
       "layout": "IPY_MODEL_77586e830af44db39c6632e65f87b300"
      }
     },
     "7df0c5ef585f41cdbd41c7f7a3137f93": {
      "model_module": "@jupyter-widgets/base",
      "model_module_version": "1.0.0",
      "model_name": "LayoutModel",
      "state": {}
     },
     "7dff73619b944376b8c9d7fec1a30741": {
      "model_module": "@jupyter-widgets/controls",
      "model_module_version": "1.0.0",
      "model_name": "DescriptionStyleModel",
      "state": {
       "description_width": ""
      }
     },
     "7eaa84f1117249518c5a33bc793504b3": {
      "model_module": "@jupyter-widgets/controls",
      "model_module_version": "1.0.0",
      "model_name": "SliderStyleModel",
      "state": {
       "description_width": ""
      }
     },
     "7edc31625781433094ad9cd81b614e49": {
      "model_module": "@jupyter-widgets/controls",
      "model_module_version": "1.0.0",
      "model_name": "SliderStyleModel",
      "state": {
       "description_width": ""
      }
     },
     "7f02cf63ac9041b7b75359b6f1a444b6": {
      "model_module": "@jupyter-widgets/base",
      "model_module_version": "1.0.0",
      "model_name": "LayoutModel",
      "state": {}
     },
     "7f7a0c4487564d92a040693ee934a277": {
      "model_module": "@jupyter-widgets/controls",
      "model_module_version": "1.0.0",
      "model_name": "VBoxModel",
      "state": {
       "_dom_classes": [
        "widget-interact"
       ],
       "children": [
        "IPY_MODEL_c70e8971aa5941eca582302abf1e62a1",
        "IPY_MODEL_58b61334dde3461fbe0d326473e968a2"
       ],
       "layout": "IPY_MODEL_256aaea07cdf458b80e922a5c78a82a0"
      }
     },
     "7fa2cf36fe1d472982cb6b622f5bd00a": {
      "model_module": "@jupyter-widgets/controls",
      "model_module_version": "1.0.0",
      "model_name": "TextModel",
      "state": {
       "description": "x",
       "layout": "IPY_MODEL_9b68dfdca2ad4af6a7935c3ec1d0b161",
       "style": "IPY_MODEL_3e087c308eb74581b8cf09be9f050780",
       "value": "Hi there!"
      }
     },
     "7ffbeefc9f1a4e25b6d34c5f3ceb001e": {
      "model_module": "@jupyter-widgets/base",
      "model_module_version": "1.0.0",
      "model_name": "LayoutModel",
      "state": {}
     },
     "8000f4a285544266953be0e0c534337f": {
      "model_module": "@jupyter-widgets/controls",
      "model_module_version": "1.0.0",
      "model_name": "SliderStyleModel",
      "state": {
       "description_width": ""
      }
     },
     "800dcb3e562e4cc7b743b7f1d514b466": {
      "model_module": "@jupyter-widgets/controls",
      "model_module_version": "1.0.0",
      "model_name": "DescriptionStyleModel",
      "state": {
       "description_width": ""
      }
     },
     "8064ea54cd294d11bd8b5cba25876dba": {
      "model_module": "@jupyter-widgets/base",
      "model_module_version": "1.0.0",
      "model_name": "LayoutModel",
      "state": {}
     },
     "811907cebdd14e05b92d0843a50e4339": {
      "model_module": "@jupyter-widgets/base",
      "model_module_version": "1.0.0",
      "model_name": "LayoutModel",
      "state": {}
     },
     "813bbc863cf84c169bf3964c72ebeb31": {
      "model_module": "@jupyter-widgets/controls",
      "model_module_version": "1.0.0",
      "model_name": "VBoxModel",
      "state": {
       "_dom_classes": [
        "widget-interact"
       ],
       "children": [
        "IPY_MODEL_0d8377ddd3734294afae6b8a7d5f3d8a",
        "IPY_MODEL_c547455af2f343b983ea2c2c17106f5c"
       ],
       "layout": "IPY_MODEL_71649f534b2a40d89c7bf5c9a5e4b47b"
      }
     },
     "816c065dfc2e44f49f1b91cfe8fcbe39": {
      "model_module": "@jupyter-widgets/controls",
      "model_module_version": "1.0.0",
      "model_name": "SliderStyleModel",
      "state": {
       "description_width": ""
      }
     },
     "81b0ca09bf9a43e0a9e875d1c857a1f7": {
      "model_module": "@jupyter-widgets/controls",
      "model_module_version": "1.0.0",
      "model_name": "IntSliderModel",
      "state": {
       "layout": "IPY_MODEL_75f620f8e4c54851949fbb53ce20322f",
       "style": "IPY_MODEL_b6142653ddfa4d67abd19fbffadfdab3",
       "value": 41
      }
     },
     "81c00d50eee44c4296e7f8b91766b3ad": {
      "model_module": "@jupyter-widgets/base",
      "model_module_version": "1.0.0",
      "model_name": "LayoutModel",
      "state": {
       "height": "350px"
      }
     },
     "81ce2732662447849b7389297640522c": {
      "model_module": "@jupyter-widgets/controls",
      "model_module_version": "1.0.0",
      "model_name": "FloatSliderModel",
      "state": {
       "description": "x",
       "layout": "IPY_MODEL_d9191b0d04e140cfa505557ca967569d",
       "max": 10,
       "step": 0.05,
       "style": "IPY_MODEL_173c3611603047a4bc598dbf3d397fee"
      }
     },
     "82950e25f2c54766be1028c57b4cca2c": {
      "model_module": "@jupyter-widgets/controls",
      "model_module_version": "1.0.0",
      "model_name": "VBoxModel",
      "state": {
       "_dom_classes": [
        "widget-interact"
       ],
       "children": [
        "IPY_MODEL_9c1d65635f75462c815dd9d77050c18a",
        "IPY_MODEL_940c2b3c5f7f4de294a9da101ef32cf8",
        "IPY_MODEL_413d451b4a5d4da795ec9eb986cd41d8"
       ],
       "layout": "IPY_MODEL_205ad357431540f7aea31d193bb719e1"
      }
     },
     "833f06740b4640208d94aca04af023ca": {
      "model_module": "@jupyter-widgets/base",
      "model_module_version": "1.0.0",
      "model_name": "LayoutModel",
      "state": {}
     },
     "83e2186a7df348bba7c2664ba0df03b6": {
      "model_module": "@jupyter-widgets/controls",
      "model_module_version": "1.0.0",
      "model_name": "SliderStyleModel",
      "state": {
       "description_width": ""
      }
     },
     "844dbbc5561246249f997531c6fb57b6": {
      "model_module": "@jupyter-widgets/base",
      "model_module_version": "1.0.0",
      "model_name": "LayoutModel",
      "state": {}
     },
     "84dabe3dde5e4b2d9518c739d5807c47": {
      "model_module": "@jupyter-widgets/controls",
      "model_module_version": "1.0.0",
      "model_name": "SliderStyleModel",
      "state": {
       "description_width": ""
      }
     },
     "850cee58c8c0434695ed4a5c7ca2c33f": {
      "model_module": "@jupyter-widgets/base",
      "model_module_version": "1.0.0",
      "model_name": "LayoutModel",
      "state": {}
     },
     "85ab4fba096d4d8ebccb070282f691e0": {
      "model_module": "@jupyter-widgets/controls",
      "model_module_version": "1.0.0",
      "model_name": "CheckboxModel",
      "state": {
       "description": "x",
       "disabled": false,
       "layout": "IPY_MODEL_d8aa6e4c3aec49ae9cef659d0536380d",
       "style": "IPY_MODEL_1855c1722c274ea297d4c79aa3baa918",
       "value": true
      }
     },
     "86a44db6959340b1a13956080c2230c7": {
      "model_module": "@jupyter-widgets/base",
      "model_module_version": "1.0.0",
      "model_name": "LayoutModel",
      "state": {}
     },
     "870286c3ad394e3f99f6e662853ed22d": {
      "model_module": "@jupyter-widgets/base",
      "model_module_version": "1.0.0",
      "model_name": "LayoutModel",
      "state": {}
     },
     "8702db84ea264ea2a59576b3e2798780": {
      "model_module": "@jupyter-widgets/output",
      "model_module_version": "1.0.0",
      "model_name": "OutputModel",
      "state": {
       "layout": "IPY_MODEL_006ff36cb89d4e00bdcb401a045d1c51",
       "outputs": [
        {
         "name": "stdout",
         "output_type": "stream",
         "text": "100000 [0, 1, 2, 3, 11, 22, 101, 111, 121, 202, 212, 1001, 1111, 2002, 10001, 10101, 10201, 11011, 11111, 11211, 20002, 20102]\n"
        }
       ]
      }
     },
     "877182a279e14a8e91fa99ca6a1e638d": {
      "model_module": "@jupyter-widgets/controls",
      "model_module_version": "1.0.0",
      "model_name": "VBoxModel",
      "state": {
       "_dom_classes": [
        "widget-interact"
       ],
       "children": [
        "IPY_MODEL_aa4babbe192a45babc74f6a089159891",
        "IPY_MODEL_3bb18263b6c54f9790b9f019e9d00794"
       ],
       "layout": "IPY_MODEL_0052269006fd49d087430b2f026759a9"
      }
     },
     "8797b420e30f47e7b24743606052a638": {
      "model_module": "@jupyter-widgets/base",
      "model_module_version": "1.0.0",
      "model_name": "LayoutModel",
      "state": {}
     },
     "87ef3847a50a45f5b55bc47ff9e372a5": {
      "model_module": "@jupyter-widgets/output",
      "model_module_version": "1.0.0",
      "model_name": "OutputModel",
      "state": {
       "layout": "IPY_MODEL_ea5118e79c114b86b5020b955c81396d",
       "outputs": [
        {
         "name": "stdout",
         "output_type": "stream",
         "text": "100000 [0, 1, 2, 3, 11, 22, 101, 111, 121, 202, 212, 1001, 1111, 2002, 10001, 10101, 10201, 11011, 11111, 11211, 20002, 20102]\n"
        }
       ]
      }
     },
     "880d7a8117e742d099589fea5df6cf83": {
      "model_module": "@jupyter-widgets/base",
      "model_module_version": "1.0.0",
      "model_name": "LayoutModel",
      "state": {}
     },
     "88359aa404e0405eb7611166bb5c6c5a": {
      "model_module": "@jupyter-widgets/controls",
      "model_module_version": "1.0.0",
      "model_name": "FloatSliderModel",
      "state": {
       "description": "y",
       "layout": "IPY_MODEL_b3a381905af743deba32e0e1fba94cd2",
       "max": 10,
       "min": 0.5,
       "step": 0.05,
       "style": "IPY_MODEL_816c065dfc2e44f49f1b91cfe8fcbe39",
       "value": 5
      }
     },
     "8874bc241f83456f9d5259f72895ea05": {
      "model_module": "@jupyter-widgets/controls",
      "model_module_version": "1.0.0",
      "model_name": "SliderStyleModel",
      "state": {
       "description_width": ""
      }
     },
     "8a5c9db988bc41cc94512a51936c855a": {
      "model_module": "@jupyter-widgets/base",
      "model_module_version": "1.0.0",
      "model_name": "LayoutModel",
      "state": {}
     },
     "8a74f9d1265b42dda5fad72a8ed4c40b": {
      "model_module": "@jupyter-widgets/base",
      "model_module_version": "1.0.0",
      "model_name": "LayoutModel",
      "state": {}
     },
     "8b7381fff0384df2ac70f710ad67cc76": {
      "model_module": "@jupyter-widgets/controls",
      "model_module_version": "1.0.0",
      "model_name": "SliderStyleModel",
      "state": {
       "description_width": ""
      }
     },
     "8c0d37872d42490bbb6c4d94f38ebca0": {
      "model_module": "@jupyter-widgets/controls",
      "model_module_version": "1.0.0",
      "model_name": "VBoxModel",
      "state": {
       "_dom_classes": [
        "widget-interact"
       ],
       "children": [
        "IPY_MODEL_d9eb2f71b5d24d3795512bfb4b08b092",
        "IPY_MODEL_a85a8006e9224562b7941ee8546861d1"
       ],
       "layout": "IPY_MODEL_70921798bb704cd7ae27e3e893e0b3f4"
      }
     },
     "8c4000b990bd4aee98931548910537bd": {
      "model_module": "@jupyter-widgets/base",
      "model_module_version": "1.0.0",
      "model_name": "LayoutModel",
      "state": {}
     },
     "8ca9cdf84dcd46f58ede9c4cb6b52065": {
      "model_module": "@jupyter-widgets/base",
      "model_module_version": "1.0.0",
      "model_name": "LayoutModel",
      "state": {}
     },
     "8cb9fd6848314bb2be6a50dcefb1a465": {
      "model_module": "@jupyter-widgets/controls",
      "model_module_version": "1.0.0",
      "model_name": "DropdownModel",
      "state": {
       "_options_labels": [
        "one",
        "two"
       ],
       "description": "x",
       "index": 1,
       "layout": "IPY_MODEL_052050c74e1c4368adbe4bcb803db788",
       "style": "IPY_MODEL_5572ad5c4998422487f92d202c34d5d1"
      }
     },
     "8dc819cc50ce4681a0a789d61e4425f3": {
      "model_module": "@jupyter-widgets/output",
      "model_module_version": "1.0.0",
      "model_name": "OutputModel",
      "state": {
       "layout": "IPY_MODEL_ad04a4a7a2054753a9a2286e6dd75acc",
       "outputs": [
        {
         "data": {
          "text/plain": "5.0"
         },
         "metadata": {},
         "output_type": "display_data"
        }
       ]
      }
     },
     "8e384dab8ac94997a6251e2564486be1": {
      "model_module": "@jupyter-widgets/base",
      "model_module_version": "1.0.0",
      "model_name": "LayoutModel",
      "state": {}
     },
     "8e3d069fb6d848469bb6a62f0dfa1e0f": {
      "model_module": "@jupyter-widgets/controls",
      "model_module_version": "1.0.0",
      "model_name": "VBoxModel",
      "state": {
       "_dom_classes": [
        "widget-interact"
       ],
       "children": [
        "IPY_MODEL_8e737204fac4476f943e1642c20d540b",
        "IPY_MODEL_d9dbddeabc8243358b3fbb84284d7e9f",
        "IPY_MODEL_9c20f7fe65cd4238a90c4af705779a72"
       ],
       "layout": "IPY_MODEL_a11f6ead01014fb0bc7214802357caab"
      }
     },
     "8e737204fac4476f943e1642c20d540b": {
      "model_module": "@jupyter-widgets/controls",
      "model_module_version": "1.0.0",
      "model_name": "IntSliderModel",
      "state": {
       "description": "a",
       "layout": "IPY_MODEL_1f61b260e83840d6a33a33f713843563",
       "max": 30,
       "min": -10,
       "style": "IPY_MODEL_a29c750632a94d119cc6e22f0a23c67a",
       "value": 10
      }
     },
     "8e740b1f66ae47b39f838f83ff4f9d94": {
      "model_module": "@jupyter-widgets/controls",
      "model_module_version": "1.0.0",
      "model_name": "SliderStyleModel",
      "state": {
       "description_width": ""
      }
     },
     "8eab3ff9606a4ddf80b7cfc25747c51b": {
      "model_module": "@jupyter-widgets/output",
      "model_module_version": "1.0.0",
      "model_name": "OutputModel",
      "state": {
       "layout": "IPY_MODEL_0654e93b015e44f8b7e59619fc1670d4",
       "outputs": [
        {
         "data": {
          "text/plain": "2"
         },
         "metadata": {},
         "output_type": "display_data"
        }
       ]
      }
     },
     "8ebcb41a789d4cbe84bbb43f543f91cb": {
      "model_module": "@jupyter-widgets/controls",
      "model_module_version": "1.0.0",
      "model_name": "SliderStyleModel",
      "state": {
       "description_width": ""
      }
     },
     "8ebf664845c541feb2b51e8fd1392393": {
      "model_module": "@jupyter-widgets/base",
      "model_module_version": "1.0.0",
      "model_name": "LayoutModel",
      "state": {}
     },
     "8ec65b600d84477398dc59e75e7fb9aa": {
      "model_module": "@jupyter-widgets/controls",
      "model_module_version": "1.0.0",
      "model_name": "VBoxModel",
      "state": {
       "_dom_classes": [
        "widget-interact"
       ],
       "children": [
        "IPY_MODEL_ffc1de3eae2642ffa2efc23ec35a5d44",
        "IPY_MODEL_316b4333127842dda850d6ce75857a51"
       ],
       "layout": "IPY_MODEL_6f8d9fedbe5e4647a6f4607d8e19b9da"
      }
     },
     "8f2cf00cd6424c4ab56ab8738113d552": {
      "model_module": "@jupyter-widgets/controls",
      "model_module_version": "1.0.0",
      "model_name": "FloatSliderModel",
      "state": {
       "description": "i",
       "layout": "IPY_MODEL_b7545ae537bd4fcb8d32b66bf0f7453f",
       "max": 10000000,
       "min": 100000,
       "step": 100000,
       "style": "IPY_MODEL_dd1d21dd26e148b2ba18c4881d69b28b",
       "value": 100000
      }
     },
     "8f4ac5a33b5746929d1ced6a1e7f5c21": {
      "model_module": "@jupyter-widgets/output",
      "model_module_version": "1.0.0",
      "model_name": "OutputModel",
      "state": {
       "layout": "IPY_MODEL_fffdaefaa32949078883ab0d364c9158",
       "outputs": [
        {
         "name": "stdout",
         "output_type": "stream",
         "text": "100000 [0, 1, 2, 3, 11, 22, 101, 111, 121, 202, 212, 1001, 1111, 2002, 10001, 10101, 10201, 11011, 11111, 11211, 20002, 20102]\n"
        }
       ]
      }
     },
     "8f57cc55362d4992b2c12d4863c70fb8": {
      "model_module": "@jupyter-widgets/base",
      "model_module_version": "1.0.0",
      "model_name": "LayoutModel",
      "state": {}
     },
     "8fba11ba95df45c7b0d9f9ecb8639971": {
      "model_module": "@jupyter-widgets/output",
      "model_module_version": "1.0.0",
      "model_name": "OutputModel",
      "state": {
       "layout": "IPY_MODEL_983b0c7ef22c42e0a290873494cac0ef",
       "outputs": [
        {
         "data": {
          "text/plain": "5.0"
         },
         "metadata": {},
         "output_type": "display_data"
        }
       ]
      }
     },
     "9045d7c97da74d2a9e296cfd08549cf8": {
      "model_module": "@jupyter-widgets/base",
      "model_module_version": "1.0.0",
      "model_name": "LayoutModel",
      "state": {}
     },
     "9149829091dd4c59a8cab69ae551b449": {
      "model_module": "@jupyter-widgets/base",
      "model_module_version": "1.0.0",
      "model_name": "LayoutModel",
      "state": {}
     },
     "9178dcbf1ea94251aacf92683cef842f": {
      "model_module": "@jupyter-widgets/controls",
      "model_module_version": "1.0.0",
      "model_name": "IntSliderModel",
      "state": {
       "description": "a",
       "layout": "IPY_MODEL_706cdd4956f24b08bc343602fb4f90ea",
       "max": 30,
       "min": -10,
       "style": "IPY_MODEL_1423d9fe774240658751cb7fdd2a0e56",
       "value": 23
      }
     },
     "918675b356794dda8c08f9abfbafe67e": {
      "model_module": "@jupyter-widgets/base",
      "model_module_version": "1.0.0",
      "model_name": "LayoutModel",
      "state": {}
     },
     "91a188a4b4df491b883e09f1ba3fb257": {
      "model_module": "@jupyter-widgets/base",
      "model_module_version": "1.0.0",
      "model_name": "LayoutModel",
      "state": {}
     },
     "91d3484741bf45eb9c63b02976d53fa9": {
      "model_module": "@jupyter-widgets/base",
      "model_module_version": "1.0.0",
      "model_name": "LayoutModel",
      "state": {}
     },
     "91eefad2dc934faca9fe49bf3165ddc7": {
      "model_module": "@jupyter-widgets/controls",
      "model_module_version": "1.0.0",
      "model_name": "FloatSliderModel",
      "state": {
       "continuous_update": false,
       "description": "i",
       "layout": "IPY_MODEL_9decb8f7fa774a20b09db41df9292735",
       "max": 10000000,
       "min": 100000,
       "step": 100000,
       "style": "IPY_MODEL_ebecf86ee50d4229814f36a2d575c9e1",
       "value": 100000
      }
     },
     "922e60ea5d4f4f50b70e089023af4612": {
      "model_module": "@jupyter-widgets/base",
      "model_module_version": "1.0.0",
      "model_name": "LayoutModel",
      "state": {}
     },
     "92e256f65a674ac3be0c4f5ce670533a": {
      "model_module": "@jupyter-widgets/controls",
      "model_module_version": "1.0.0",
      "model_name": "VBoxModel",
      "state": {
       "_dom_classes": [
        "widget-interact"
       ],
       "children": [
        "IPY_MODEL_d25c40b03ce347e598eee366de12b481",
        "IPY_MODEL_699a4a6485e54f59b8e55746d8d4a700"
       ],
       "layout": "IPY_MODEL_9768f8ae9dd944428507fd26be154fae"
      }
     },
     "92f3b09cf2444aeda25344ef465e8a61": {
      "model_module": "@jupyter-widgets/controls",
      "model_module_version": "1.0.0",
      "model_name": "TextModel",
      "state": {
       "description": "x",
       "layout": "IPY_MODEL_45aed5cc67da4f25ab7c7e4951384f90",
       "style": "IPY_MODEL_1f6d277f304e40c4aa699fb4a9528e19",
       "value": "I'm Nic!"
      }
     },
     "930bab37f358429da70cfbb7dbd73a59": {
      "model_module": "@jupyter-widgets/controls",
      "model_module_version": "1.0.0",
      "model_name": "FloatSliderModel",
      "state": {
       "description": "x",
       "layout": "IPY_MODEL_28ccd67ad5ec4eb398e7f5d9c334d5e2",
       "max": 20,
       "step": 0.5,
       "style": "IPY_MODEL_560a159a4e47452fbd05070cb49b4959",
       "value": 5.5
      }
     },
     "93243f0dedeb4323b6ecea922c695af1": {
      "model_module": "@jupyter-widgets/base",
      "model_module_version": "1.0.0",
      "model_name": "LayoutModel",
      "state": {}
     },
     "9329c39a4b6847aa93cf4a1af5d57140": {
      "model_module": "@jupyter-widgets/base",
      "model_module_version": "1.0.0",
      "model_name": "LayoutModel",
      "state": {}
     },
     "9394e14312d14057a565d07fd92d9b5b": {
      "model_module": "@jupyter-widgets/base",
      "model_module_version": "1.0.0",
      "model_name": "LayoutModel",
      "state": {}
     },
     "93994fc4798e471699d7d388b43f19d6": {
      "model_module": "@jupyter-widgets/controls",
      "model_module_version": "1.0.0",
      "model_name": "VBoxModel",
      "state": {
       "_dom_classes": [
        "widget-interact"
       ],
       "children": [
        "IPY_MODEL_81ce2732662447849b7389297640522c",
        "IPY_MODEL_88359aa404e0405eb7611166bb5c6c5a",
        "IPY_MODEL_3e06ab1b5be94897bca9001145f5713d"
       ],
       "layout": "IPY_MODEL_68f2ac46a81246cf975c0e9bd6de7bfc"
      }
     },
     "93ab4cab457e415d8c18f8632922097d": {
      "model_module": "@jupyter-widgets/base",
      "model_module_version": "1.0.0",
      "model_name": "LayoutModel",
      "state": {}
     },
     "93c7e00667a84f4e9163628e012be42b": {
      "model_module": "@jupyter-widgets/base",
      "model_module_version": "1.0.0",
      "model_name": "LayoutModel",
      "state": {}
     },
     "940642f351e84a909e592ff6ad0fb1b1": {
      "model_module": "@jupyter-widgets/controls",
      "model_module_version": "1.0.0",
      "model_name": "DescriptionStyleModel",
      "state": {
       "description_width": ""
      }
     },
     "94074aae710b4d4294feb074e94b71d0": {
      "model_module": "@jupyter-widgets/base",
      "model_module_version": "1.0.0",
      "model_name": "LayoutModel",
      "state": {}
     },
     "940c2b3c5f7f4de294a9da101ef32cf8": {
      "model_module": "@jupyter-widgets/controls",
      "model_module_version": "1.0.0",
      "model_name": "FloatSliderModel",
      "state": {
       "description": "b",
       "layout": "IPY_MODEL_b2fea29f629548888f63805422d7ff98",
       "max": 3,
       "min": -3,
       "step": 0.5,
       "style": "IPY_MODEL_8b7381fff0384df2ac70f710ad67cc76"
      }
     },
     "9446146c8691404fbee9a3e34095234f": {
      "model_module": "@jupyter-widgets/base",
      "model_module_version": "1.0.0",
      "model_name": "LayoutModel",
      "state": {}
     },
     "94909b14b48b46f19e837584f833ba63": {
      "model_module": "@jupyter-widgets/controls",
      "model_module_version": "1.0.0",
      "model_name": "VBoxModel",
      "state": {
       "_dom_classes": [
        "widget-interact"
       ],
       "children": [
        "IPY_MODEL_332a255b407748d5b660f8361fe26742",
        "IPY_MODEL_8f4ac5a33b5746929d1ced6a1e7f5c21"
       ],
       "layout": "IPY_MODEL_1b145d36c2da4a6b95c252571dab5cc1"
      }
     },
     "94ae5304d14b4d47b275790628ca710b": {
      "model_module": "@jupyter-widgets/base",
      "model_module_version": "1.0.0",
      "model_name": "LayoutModel",
      "state": {}
     },
     "952b1263d8ff48539965ab19c9a4962c": {
      "model_module": "@jupyter-widgets/output",
      "model_module_version": "1.0.0",
      "model_name": "OutputModel",
      "state": {
       "layout": "IPY_MODEL_f0acc5ba96ce4d44ba8f0ea7a4125646",
       "outputs": [
        {
         "data": {
          "text/plain": "(5, 20)"
         },
         "metadata": {},
         "output_type": "display_data"
        }
       ]
      }
     },
     "958c53cdc2ec438b8edfffedbc69dfbf": {
      "model_module": "@jupyter-widgets/base",
      "model_module_version": "1.0.0",
      "model_name": "LayoutModel",
      "state": {}
     },
     "9615ae8b457c4c3988a93686226c9c3b": {
      "model_module": "@jupyter-widgets/controls",
      "model_module_version": "1.0.0",
      "model_name": "IntSliderModel",
      "state": {
       "description": "x",
       "layout": "IPY_MODEL_675783d251834d8e81e93fa2947431eb",
       "max": 30,
       "min": -10,
       "style": "IPY_MODEL_961bf63d28834ceea6396a1aaa51731c",
       "value": 10
      }
     },
     "961bf63d28834ceea6396a1aaa51731c": {
      "model_module": "@jupyter-widgets/controls",
      "model_module_version": "1.0.0",
      "model_name": "SliderStyleModel",
      "state": {
       "description_width": ""
      }
     },
     "9633bc34f5204c95a66b6f2a6fac2721": {
      "model_module": "@jupyter-widgets/controls",
      "model_module_version": "1.0.0",
      "model_name": "DescriptionStyleModel",
      "state": {
       "description_width": ""
      }
     },
     "969575d055c544a0b4919272df6b6c9e": {
      "model_module": "@jupyter-widgets/base",
      "model_module_version": "1.0.0",
      "model_name": "LayoutModel",
      "state": {}
     },
     "97005ac5da6c446eb71d12636c04d360": {
      "model_module": "@jupyter-widgets/controls",
      "model_module_version": "1.0.0",
      "model_name": "ButtonStyleModel",
      "state": {}
     },
     "9768f8ae9dd944428507fd26be154fae": {
      "model_module": "@jupyter-widgets/base",
      "model_module_version": "1.0.0",
      "model_name": "LayoutModel",
      "state": {}
     },
     "97d31fcfc7a54076ae00f32aed2d03a7": {
      "model_module": "@jupyter-widgets/controls",
      "model_module_version": "1.0.0",
      "model_name": "VBoxModel",
      "state": {
       "_dom_classes": [
        "widget-interact"
       ],
       "children": [
        "IPY_MODEL_231c6e1e1057422fa21cde5e80f04684",
        "IPY_MODEL_d6b69379bab64a2c88128fb02e30d5f8"
       ],
       "layout": "IPY_MODEL_effd89bf7b88434287e9e3563da20198"
      }
     },
     "983b0c7ef22c42e0a290873494cac0ef": {
      "model_module": "@jupyter-widgets/base",
      "model_module_version": "1.0.0",
      "model_name": "LayoutModel",
      "state": {}
     },
     "98fc10799000421394d3fb7d46c47750": {
      "model_module": "@jupyter-widgets/base",
      "model_module_version": "1.0.0",
      "model_name": "LayoutModel",
      "state": {}
     },
     "9b68dfdca2ad4af6a7935c3ec1d0b161": {
      "model_module": "@jupyter-widgets/base",
      "model_module_version": "1.0.0",
      "model_name": "LayoutModel",
      "state": {}
     },
     "9c1d65635f75462c815dd9d77050c18a": {
      "model_module": "@jupyter-widgets/controls",
      "model_module_version": "1.0.0",
      "model_name": "FloatSliderModel",
      "state": {
       "description": "m",
       "layout": "IPY_MODEL_e03676e1089c49e892a98e5a94fc654e",
       "max": 2,
       "min": -2,
       "step": 0.1,
       "style": "IPY_MODEL_dc065cd5085d4d40b9c02f56bc938df1"
      }
     },
     "9c20f7fe65cd4238a90c4af705779a72": {
      "model_module": "@jupyter-widgets/output",
      "model_module_version": "1.0.0",
      "model_name": "OutputModel",
      "state": {
       "layout": "IPY_MODEL_572591bf3f4f4cf8a5858b07a60fcb6a",
       "outputs": [
        {
         "data": {
          "text/plain": "30"
         },
         "metadata": {},
         "output_type": "display_data"
        }
       ]
      }
     },
     "9c2b6611a14446e49b91ce08cbefa938": {
      "model_module": "@jupyter-widgets/controls",
      "model_module_version": "1.0.0",
      "model_name": "SliderStyleModel",
      "state": {
       "description_width": ""
      }
     },
     "9c701db72ba3417c8b193270c957cc7f": {
      "model_module": "@jupyter-widgets/controls",
      "model_module_version": "1.0.0",
      "model_name": "FloatSliderModel",
      "state": {
       "description": "x",
       "layout": "IPY_MODEL_adc8da7130d04938ba0b1cc018d6f4a3",
       "max": 10,
       "step": 0.1,
       "style": "IPY_MODEL_ade5489ec88d4ac498b4f19b1dbe15cf",
       "value": 5
      }
     },
     "9cc03461412443baa972257f9e592fc3": {
      "model_module": "@jupyter-widgets/controls",
      "model_module_version": "1.0.0",
      "model_name": "SliderStyleModel",
      "state": {
       "description_width": ""
      }
     },
     "9d2968f59d15464080f65ce168965ed4": {
      "model_module": "@jupyter-widgets/output",
      "model_module_version": "1.0.0",
      "model_name": "OutputModel",
      "state": {
       "layout": "IPY_MODEL_57cd4d1dd1744215b07a74b53459f983"
      }
     },
     "9d5fbb4923c04686a39328d4b1bcf6e7": {
      "model_module": "@jupyter-widgets/controls",
      "model_module_version": "1.0.0",
      "model_name": "DropdownModel",
      "state": {
       "_options_labels": [
        "one",
        "two"
       ],
       "description": "x",
       "index": 0,
       "layout": "IPY_MODEL_a7639ade59844efe8691c46b415c9307",
       "style": "IPY_MODEL_ae583c8693104627b4838faa9925a4b1"
      }
     },
     "9dde7fbdaf134bb68fafb1efacad670b": {
      "model_module": "@jupyter-widgets/base",
      "model_module_version": "1.0.0",
      "model_name": "LayoutModel",
      "state": {}
     },
     "9decb8f7fa774a20b09db41df9292735": {
      "model_module": "@jupyter-widgets/base",
      "model_module_version": "1.0.0",
      "model_name": "LayoutModel",
      "state": {}
     },
     "9e99090621fc41749962604d60f0eba0": {
      "model_module": "@jupyter-widgets/controls",
      "model_module_version": "1.0.0",
      "model_name": "VBoxModel",
      "state": {
       "_dom_classes": [
        "widget-interact"
       ],
       "children": [
        "IPY_MODEL_e88e257a6cdd4078af8d5807a34dc63d",
        "IPY_MODEL_0dae0de3a4f04977ae3e6573db4f5039"
       ],
       "layout": "IPY_MODEL_7d243ee5cfc94e52b3a35962475a1e5b"
      }
     },
     "a11f6ead01014fb0bc7214802357caab": {
      "model_module": "@jupyter-widgets/base",
      "model_module_version": "1.0.0",
      "model_name": "LayoutModel",
      "state": {}
     },
     "a20dac0016714808a9cdd74c6ee5a895": {
      "model_module": "@jupyter-widgets/base",
      "model_module_version": "1.0.0",
      "model_name": "LayoutModel",
      "state": {}
     },
     "a256e29a651f420cb398677717ce8f25": {
      "model_module": "@jupyter-widgets/controls",
      "model_module_version": "1.0.0",
      "model_name": "IntSliderModel",
      "state": {
       "description": "p",
       "layout": "IPY_MODEL_1df849ad08aa4460ab45b704dc3bcc94",
       "max": 15,
       "min": -5,
       "style": "IPY_MODEL_56dd799150ab4f9f8c01c7cea659f417",
       "value": 5
      }
     },
     "a26899f969aa4d358b93bb8c2e0dd6bd": {
      "model_module": "@jupyter-widgets/controls",
      "model_module_version": "1.0.0",
      "model_name": "IntSliderModel",
      "state": {
       "description": "x",
       "layout": "IPY_MODEL_4ebf0afa13bd4681ae381498ec9dc8e8",
       "max": 30,
       "min": -10,
       "style": "IPY_MODEL_dbb5adce87c8479da67dc098b201b1f4",
       "value": 10
      }
     },
     "a298b954c96c4f759796726ba0a4b02f": {
      "model_module": "@jupyter-widgets/controls",
      "model_module_version": "1.0.0",
      "model_name": "ButtonStyleModel",
      "state": {}
     },
     "a29c750632a94d119cc6e22f0a23c67a": {
      "model_module": "@jupyter-widgets/controls",
      "model_module_version": "1.0.0",
      "model_name": "SliderStyleModel",
      "state": {
       "description_width": ""
      }
     },
     "a2a774911cdc4a3094bd0165b0fe17ec": {
      "model_module": "@jupyter-widgets/controls",
      "model_module_version": "1.0.0",
      "model_name": "DescriptionStyleModel",
      "state": {
       "description_width": ""
      }
     },
     "a2fc55dc411c475db67a9ed893594295": {
      "model_module": "@jupyter-widgets/base",
      "model_module_version": "1.0.0",
      "model_name": "LayoutModel",
      "state": {}
     },
     "a3614362e111452e895af3ff6772edec": {
      "model_module": "@jupyter-widgets/output",
      "model_module_version": "1.0.0",
      "model_name": "OutputModel",
      "state": {
       "layout": "IPY_MODEL_4f37e3314f4744f7afed4aaa80115e13",
       "outputs": [
        {
         "data": {
          "text/plain": "5.5"
         },
         "metadata": {},
         "output_type": "display_data"
        }
       ]
      }
     },
     "a44a258ed75948dc9c218eebf1919d16": {
      "model_module": "@jupyter-widgets/controls",
      "model_module_version": "1.0.0",
      "model_name": "SliderStyleModel",
      "state": {
       "description_width": ""
      }
     },
     "a4a0d05185b842528a09fa899f83d32e": {
      "model_module": "@jupyter-widgets/controls",
      "model_module_version": "1.0.0",
      "model_name": "DropdownModel",
      "state": {
       "_options_labels": [
        "apples",
        "oranges"
       ],
       "description": "x",
       "index": 1,
       "layout": "IPY_MODEL_7b511920a44143a9b5c0418a6d2b8ee3",
       "style": "IPY_MODEL_a2a774911cdc4a3094bd0165b0fe17ec"
      }
     },
     "a615a5d1a6f4444f9811ad84edcdefb5": {
      "model_module": "@jupyter-widgets/base",
      "model_module_version": "1.0.0",
      "model_name": "LayoutModel",
      "state": {}
     },
     "a653afe4446c4aef946f86e8928c3ad2": {
      "model_module": "@jupyter-widgets/controls",
      "model_module_version": "1.0.0",
      "model_name": "VBoxModel",
      "state": {
       "_dom_classes": [
        "widget-interact"
       ],
       "children": [
        "IPY_MODEL_f1921ed05eb5480fb61c11368df17d4c",
        "IPY_MODEL_a3614362e111452e895af3ff6772edec"
       ],
       "layout": "IPY_MODEL_7df0c5ef585f41cdbd41c7f7a3137f93"
      }
     },
     "a7639ade59844efe8691c46b415c9307": {
      "model_module": "@jupyter-widgets/base",
      "model_module_version": "1.0.0",
      "model_name": "LayoutModel",
      "state": {}
     },
     "a765cbee89614cc48eb994c8b90eb953": {
      "model_module": "@jupyter-widgets/controls",
      "model_module_version": "1.0.0",
      "model_name": "IntSliderModel",
      "state": {
       "description": "a",
       "layout": "IPY_MODEL_188c943a42824ab197c3379b28f03a7c",
       "max": 30,
       "min": -10,
       "style": "IPY_MODEL_ecf8c3e2f7494ad59e965a99b9328cc5",
       "value": 10
      }
     },
     "a7e88502c67a4085afc1d6a2968891da": {
      "model_module": "@jupyter-widgets/controls",
      "model_module_version": "1.0.0",
      "model_name": "FloatSliderModel",
      "state": {
       "description": "x",
       "layout": "IPY_MODEL_e55eb2a4dc1f4a34929fb23384c3ef67",
       "max": 10,
       "step": 0.05,
       "style": "IPY_MODEL_3c7493ecac6b4da48f8c83e38a9e8671"
      }
     },
     "a8058fb840754cc98d4023299a147a9f": {
      "model_module": "@jupyter-widgets/controls",
      "model_module_version": "1.0.0",
      "model_name": "VBoxModel",
      "state": {
       "_dom_classes": [
        "widget-interact"
       ],
       "children": [
        "IPY_MODEL_de0789f372034f7380bf32d56c1e7456",
        "IPY_MODEL_d9dc98615b764f8a9def81d39449f99b"
       ],
       "layout": "IPY_MODEL_94074aae710b4d4294feb074e94b71d0"
      }
     },
     "a806432d223b4b14969b584bebadb319": {
      "model_module": "@jupyter-widgets/base",
      "model_module_version": "1.0.0",
      "model_name": "LayoutModel",
      "state": {}
     },
     "a85a8006e9224562b7941ee8546861d1": {
      "model_module": "@jupyter-widgets/output",
      "model_module_version": "1.0.0",
      "model_name": "OutputModel",
      "state": {
       "layout": "IPY_MODEL_677a1288e9a8478dbd4dc90e3b482a8f",
       "outputs": [
        {
         "data": {
          "text/plain": "2"
         },
         "metadata": {},
         "output_type": "display_data"
        }
       ]
      }
     },
     "a86c3e9745914fb4993ea1a179120e0b": {
      "model_module": "@jupyter-widgets/base",
      "model_module_version": "1.0.0",
      "model_name": "LayoutModel",
      "state": {}
     },
     "a9033bc6aea4471396f5bc2bdb861909": {
      "model_module": "@jupyter-widgets/controls",
      "model_module_version": "1.0.0",
      "model_name": "VBoxModel",
      "state": {
       "_dom_classes": [
        "widget-interact"
       ],
       "children": [
        "IPY_MODEL_af2a11dd37ed4ef787ac1968580e8f32",
        "IPY_MODEL_8fba11ba95df45c7b0d9f9ecb8639971"
       ],
       "layout": "IPY_MODEL_11c498cf99c3408ba5a08b3eb06a3fed"
      }
     },
     "a90576fddd134452affd4aefcd8dbe5d": {
      "model_module": "@jupyter-widgets/controls",
      "model_module_version": "1.0.0",
      "model_name": "VBoxModel",
      "state": {
       "_dom_classes": [
        "widget-interact"
       ],
       "children": [
        "IPY_MODEL_0735f7b9eb9a42c4aa3c05cbb7f1e1e4",
        "IPY_MODEL_ea7a2527251b4c00b66f6609b7abd144"
       ],
       "layout": "IPY_MODEL_6e2ed49689d843edac8492b84c29fe57"
      }
     },
     "a95fdec29a4c4d5e8bc7235850727a60": {
      "model_module": "@jupyter-widgets/controls",
      "model_module_version": "1.0.0",
      "model_name": "SliderStyleModel",
      "state": {
       "description_width": ""
      }
     },
     "aa4babbe192a45babc74f6a089159891": {
      "model_module": "@jupyter-widgets/controls",
      "model_module_version": "1.0.0",
      "model_name": "IntSliderModel",
      "state": {
       "description": "x",
       "layout": "IPY_MODEL_09d97759693b475888e71622d60565d3",
       "max": 30,
       "min": -10,
       "style": "IPY_MODEL_5762558c26ae41349094a4b10f0e36ec",
       "value": 10
      }
     },
     "aa5fcce4c6d14cd4947350962f42c0cf": {
      "model_module": "@jupyter-widgets/controls",
      "model_module_version": "1.0.0",
      "model_name": "IntSliderModel",
      "state": {
       "description": "x",
       "layout": "IPY_MODEL_b71430c2b7f44a378df57239390a7626",
       "max": 30,
       "min": -10,
       "style": "IPY_MODEL_2e2de271182c4bb5b5d92f49d8986861",
       "value": 10
      }
     },
     "aaac497a0d18419fae48a48959d1db33": {
      "model_module": "@jupyter-widgets/base",
      "model_module_version": "1.0.0",
      "model_name": "LayoutModel",
      "state": {}
     },
     "ab27f9e6913a4ab9895b7ee174756e7d": {
      "model_module": "@jupyter-widgets/controls",
      "model_module_version": "1.0.0",
      "model_name": "VBoxModel",
      "state": {
       "_dom_classes": [
        "widget-interact"
       ],
       "children": [
        "IPY_MODEL_6db3e8ba39c14b92b735e0964c41f4d3",
        "IPY_MODEL_678060f57aa74cf7b9d6db4258f105a1"
       ],
       "layout": "IPY_MODEL_aaac497a0d18419fae48a48959d1db33"
      }
     },
     "ab6b248b3179426fac67fab27eda29b0": {
      "model_module": "@jupyter-widgets/controls",
      "model_module_version": "1.0.0",
      "model_name": "SliderStyleModel",
      "state": {
       "description_width": ""
      }
     },
     "abb7a77431064835aa372e046c157221": {
      "model_module": "@jupyter-widgets/base",
      "model_module_version": "1.0.0",
      "model_name": "LayoutModel",
      "state": {}
     },
     "ac5a116f70a24c98a999a970cc313dd5": {
      "model_module": "@jupyter-widgets/controls",
      "model_module_version": "1.0.0",
      "model_name": "IntSliderModel",
      "state": {
       "description": "b",
       "layout": "IPY_MODEL_91a188a4b4df491b883e09f1ba3fb257",
       "max": 60,
       "min": -20,
       "style": "IPY_MODEL_b254d8af0f6d476ea15b9d5f6179cd0b",
       "value": 38
      }
     },
     "acd4df5c6971429e844da39c41340699": {
      "model_module": "@jupyter-widgets/controls",
      "model_module_version": "1.0.0",
      "model_name": "ButtonStyleModel",
      "state": {}
     },
     "acf974b026ac4aa38a3baeba4668a78e": {
      "model_module": "@jupyter-widgets/base",
      "model_module_version": "1.0.0",
      "model_name": "LayoutModel",
      "state": {}
     },
     "ad04a4a7a2054753a9a2286e6dd75acc": {
      "model_module": "@jupyter-widgets/base",
      "model_module_version": "1.0.0",
      "model_name": "LayoutModel",
      "state": {}
     },
     "ad43b3a2c67c4b1b9aaeae60a176458e": {
      "model_module": "@jupyter-widgets/controls",
      "model_module_version": "1.0.0",
      "model_name": "VBoxModel",
      "state": {
       "_dom_classes": [
        "widget-interact"
       ],
       "children": [
        "IPY_MODEL_930bab37f358429da70cfbb7dbd73a59",
        "IPY_MODEL_7785b9132ae4416d9b2cb4d500dab5b9"
       ],
       "layout": "IPY_MODEL_844dbbc5561246249f997531c6fb57b6"
      }
     },
     "ad7362795e714e15ad2cf324f37fbe23": {
      "model_module": "@jupyter-widgets/base",
      "model_module_version": "1.0.0",
      "model_name": "LayoutModel",
      "state": {}
     },
     "ad8047e98e01459f9713045247eb2e23": {
      "model_module": "@jupyter-widgets/base",
      "model_module_version": "1.0.0",
      "model_name": "LayoutModel",
      "state": {}
     },
     "ad89ed95dce54e228be165b748605e2a": {
      "model_module": "@jupyter-widgets/base",
      "model_module_version": "1.0.0",
      "model_name": "LayoutModel",
      "state": {}
     },
     "adc8da7130d04938ba0b1cc018d6f4a3": {
      "model_module": "@jupyter-widgets/base",
      "model_module_version": "1.0.0",
      "model_name": "LayoutModel",
      "state": {}
     },
     "ade5489ec88d4ac498b4f19b1dbe15cf": {
      "model_module": "@jupyter-widgets/controls",
      "model_module_version": "1.0.0",
      "model_name": "SliderStyleModel",
      "state": {
       "description_width": ""
      }
     },
     "ae3d9a4dcf3c4a57af1fac3788fda138": {
      "model_module": "@jupyter-widgets/controls",
      "model_module_version": "1.0.0",
      "model_name": "VBoxModel",
      "state": {
       "_dom_classes": [
        "widget-interact"
       ],
       "children": [
        "IPY_MODEL_3e40b6400f2e47c39e649861b0a60e9c",
        "IPY_MODEL_952b1263d8ff48539965ab19c9a4962c"
       ],
       "layout": "IPY_MODEL_4bdb9a720b2f4cc2b6d61b778be786f8"
      }
     },
     "ae583c8693104627b4838faa9925a4b1": {
      "model_module": "@jupyter-widgets/controls",
      "model_module_version": "1.0.0",
      "model_name": "DescriptionStyleModel",
      "state": {
       "description_width": ""
      }
     },
     "ae60d596ebdc41079be23fbd7ad44854": {
      "model_module": "@jupyter-widgets/controls",
      "model_module_version": "1.0.0",
      "model_name": "DropdownModel",
      "state": {
       "_options_labels": [
        "United States",
        "New York, NY",
        "Los Angeles, CA",
        "Chicago, IL",
        "Dallas, TX",
        "Philadelphia, PA",
        "Houston, TX",
        "Washington, DC",
        "Miami, FL",
        "Atlanta, GA",
        "Boston, MA",
        "San Francisco, CA",
        "Detroit, MI",
        "Riverside, CA",
        "Phoenix, AZ",
        "Seattle, WA",
        "Minneapolis, MN",
        "San Diego, CA",
        "Saint Louis, MO",
        "Tampa, FL",
        "Baltimore, MD",
        "Denver, CO",
        "Pittsburgh, PA",
        "Portland, OR",
        "Charlotte, NC",
        "Sacramento, CA",
        "San Antonio, TX",
        "Orlando, FL",
        "Cincinnati, OH",
        "Cleveland, OH",
        "Kansas City, MO",
        "Las Vegas, NV",
        "Columbus, OH",
        "Indianapolis, IN",
        "San Jose, CA",
        "Austin, TX",
        "Virginia Beach, VA",
        "Nashville, TN",
        "Providence, RI",
        "Milwaukee, WI",
        "Jacksonville, FL",
        "Memphis, TN",
        "Oklahoma City, OK",
        "Louisville, KY",
        "Hartford, CT",
        "Richmond, VA",
        "New Orleans, LA",
        "Buffalo, NY",
        "Raleigh, NC",
        "Birmingham, AL",
        "Salt Lake City, UT",
        "Rochester, NY",
        "Grand Rapids, MI",
        "Tucson, AZ",
        "Honolulu, HI",
        "Tulsa, OK",
        "Fresno, CA",
        "Worcester, MA",
        "Bridgeport, CT",
        "Albuquerque, NM",
        "Albany, NY",
        "Omaha, NE",
        "New Haven, CT",
        "Bakersfield, CA",
        "Knoxville, TN",
        "Greenville, SC",
        "Oxnard, CA",
        "Allentown, PA",
        "El Paso, TX",
        "Baton Rouge, LA",
        "Dayton, OH",
        "Edinburg, TX",
        "Columbia, SC",
        "Akron, OH",
        "Bradenton, FL",
        "Little Rock, AR",
        "Stockton, CA",
        "Charleston, SC",
        "Syracuse, NY",
        "Colorado Springs, CO",
        "Winston-Salem, NC",
        "Wichita, KS",
        "Springfield, MA",
        "Fort Myers, FL",
        "Boise, ID",
        "Toledo, OH",
        "Madison, WI",
        "Lakeland, FL",
        "Ogden, UT",
        "Palm Coast, FL",
        "Des Moines, IA",
        "Jackson, MS",
        "Youngstown, OH",
        "Augusta, GA",
        "Scranton, PA",
        "Harrisburg, PA",
        "Palm Bay, FL",
        "Chattanooga, TN",
        "Spokane, WA",
        "Provo, UT",
        "Lancaster, PA",
        "Modesto, CA",
        "Portland, ME",
        "Durham, NC",
        "Santa Rosa, CA",
        "Lexington, KY",
        "Lafayette, LA",
        "Lansing, MI",
        "Fayetteville, AR",
        "Pensacola, FL",
        "Visalia, CA",
        "Shreveport, LA",
        "Springfield, MO",
        "York Township, PA",
        "Corpus Christi, TX",
        "Flint, MI",
        "Reno, NV",
        "Asheville, NC",
        "Port Saint Lucie, FL",
        "Santa Maria, CA",
        "Huntsville, AL",
        "Fort Wayne, IN",
        "Salinas, CA",
        "Vallejo, CA",
        "Mobile, AL",
        "Reading, PA",
        "Brownsville, TX",
        "Killeen, TX",
        "Canton, OH",
        "Beaumont, TX",
        "Manchester, NH",
        "Salem, OR",
        "Anchorage, AK",
        "Davenport, IA",
        "Peoria, IL",
        "Conway, SC",
        "Montgomery, AL",
        "Salisbury, MD",
        "Gulfport, MS",
        "Tallahassee, FL",
        "Trenton, NJ",
        "Fayetteville, NC",
        "Morganton, NC",
        "Huntington, WV",
        "Eugene, OR",
        "Rockford, IL",
        "Savannah, GA",
        "Ann Arbor, MI",
        "Ocala, FL",
        "Kalamazoo, MI",
        "Naples, FL",
        "South Bend, IN",
        "Spartanburg, SC",
        "Evansville, IN",
        "Kingsport, TN",
        "Roanoke, VA",
        "Green Bay, WI",
        "Lincoln, NE",
        "Fort Collins, CO",
        "Utica, NY",
        "Columbus, GA",
        "Boulder, CO",
        "Lubbock, TX",
        "Erie, PA",
        "Fort Smith, AR",
        "Duluth, MN",
        "Egg Harbor Township, NJ",
        "Norwich, CT",
        "San Luis Obispo, CA",
        "Gainesville, FL",
        "Santa Cruz, CA",
        "Clarksville, TN",
        "Cedar Rapids, IA",
        "Merced, CA",
        "Wilmington, NC",
        "Kennewick, WA",
        "Greeley, CO",
        "Waco, TX",
        "Lynchburg, VA",
        "Olympia, WA",
        "Amarillo, TX",
        "Town of Binghamton, NY",
        "Martinsburg, WV",
        "Bremerton, WA",
        "Laredo, TX",
        "Yakima, WA",
        "Crestview, FL",
        "Topeka, KS",
        "Macon, GA",
        "Champaign, IL",
        "Tuscaloosa, AL",
        "College Station, TX",
        "Sioux Falls, SD",
        "Charleston, WV",
        "Appleton, WI",
        "Chico, CA",
        "Charlottesville, VA",
        "Lebanon, NH",
        "East Falmouth, MA",
        "Longview, TX",
        "Burlington, VT",
        "Prescott, AZ",
        "Springfield, IL",
        "Tyler, TX",
        "Las Cruces, NM",
        "Fargo, ND",
        "Houma, LA",
        "Rochester, MN",
        "Florence, SC",
        "Medford, OR",
        "West Lafayette, IN",
        "Bellingham, WA",
        "Lake Havasu City, AZ",
        "Saginaw, MI",
        "Lake Charles, LA",
        "Johnson City, TN",
        "Elkhart, IN",
        "Yuma, AZ",
        "Racine, WI",
        "Athens, GA",
        "Torrington, CT",
        "Saint Cloud, MN",
        "Bluffton, SC",
        "Bloomington, IL",
        "Hilo, HI",
        "Panama City, FL",
        "Kingston, NY",
        "Fairhope, AL",
        "Gainesville, GA",
        "Warner Robins, GA",
        "Blacksburg, VA",
        "Jacksonville, NC",
        "Redding, CA",
        "Monroe, LA",
        "Joplin, MO",
        "El Centro, CA",
        "Terre Haute, IN",
        "Muskegon Township, MI",
        "Coolbaugh, PA",
        "Sioux City, IA",
        "Greenville, NC",
        "Waterloo, IA",
        "Oshkosh, WI",
        "Yuba City, CA",
        "Abilene, TX",
        "Columbia, MO",
        "Dover, DE",
        "Eau Claire, WI",
        "Town of Janesville, WI",
        "Jackson, MI",
        "Port Charlotte, FL",
        "Bloomington, IN",
        "Pueblo, CO",
        "Billings, MT",
        "Bowling Green, KY",
        "Bend, OR",
        "Albany, GA",
        "Vineland, NJ",
        "Niles, MI",
        "Wailuku, HI",
        "Ottawa, IL",
        "State College, PA",
        "Bangor, ME",
        "Alexandria, LA",
        "Decatur, AL",
        "Hanford, CA",
        "Iowa City, IA",
        "Rocky Mount, NC",
        "Monroe Township, MI",
        "Wichita Falls, TX",
        "Burlington, NC",
        "Madera, CA",
        "Jefferson City, MO",
        "Chambersburg, PA",
        "Texarkana, TX",
        "Elizabethtown, KY",
        "Pottsville, PA",
        "Wheeling, WV",
        "Florence, AL",
        "Grand Junction, CO",
        "Concord, NH",
        "Dothan, AL",
        "Santa Fe, NM",
        "Johnstown, PA",
        "Garfield Township, MI",
        "Hattiesburg, MS",
        "Dalton, GA",
        "Asheboro, NC",
        "Midland, TX",
        "Inverness, FL",
        "Auburn, AL",
        "Valdosta, GA",
        "Coeur d'Alene, ID",
        "Springfield, OH",
        "Saint George, UT",
        "Vero Beach, FL",
        "Odessa, TX",
        "Napa, CA",
        "Tupelo, MS",
        "Battle Creek, MI",
        "Jamestown, NY",
        "Eureka, CA",
        "Rapid City, SD",
        "Flagstaff, AZ",
        "Lumberton, NC",
        "Wausau, WI",
        "La Crosse, WI",
        "Lebanon, PA",
        "Idaho Falls, ID",
        "Sierra Vista, AZ",
        "Pittsfield, MA",
        "Lawton, OK",
        "Farmington, NM",
        "Jackson, TN",
        "Morgantown, WV",
        "Glens Falls, NY",
        "Winchester, VA",
        "Saint Joseph, MO",
        "Altoona, PA",
        "New Bern, NC",
        "Carbondale, IL",
        "London, KY",
        "Logan, UT",
        "Harrisonburg, VA",
        "Beckley, WV",
        "Mansfield, OH",
        "Weirton, WV",
        "Goldsboro, NC",
        "Augusta, ME",
        "Hammond, LA",
        "Jonesboro, AR",
        "Sherman, TX",
        "Jacksonville, AL",
        "Staunton, VA",
        "Muncie, IN",
        "Mount Vernon, WA",
        "Albany, OR",
        "Town of Watertown, NY",
        "Williamsport, PA",
        "Cleveland, TN",
        "Sheboygan, WI",
        "Bismarck, ND",
        "Owensboro, KY",
        "Spring Lake, NC",
        "Wooster, OH",
        "Morristown, TN",
        "Kankakee, IL",
        "Brunswick, GA",
        "Town of Potsdam, NY",
        "San Angelo, TX",
        "La Porte, IN",
        "Allegan, MI",
        "Wenatchee, WA",
        "Lawrence, KS",
        "Decatur, IL",
        "Missoula, MT",
        "Salem, OH",
        "Bay City, MI",
        "Lewiston, ME",
        "Roseburg, OR",
        "Sumter, SC",
        "Meridian, MS",
        "Show Low, AZ",
        "Princeton, WV",
        "Danville, VA",
        "Lima, OH",
        "Cookeville, TN",
        "Mechanicsville, MD",
        "Gadsden, AL",
        "Cumberland, MD",
        "Longview, WA",
        "Town of Whitewater, WI",
        "Fond du Lac, WI",
        "Ithaca, NY",
        "Ashtabula, OH",
        "Gettysburg, PA",
        "Pine Bluff, AR",
        "Tullahoma, TN",
        "Richmond, KY",
        "Adrian Township, MI",
        "Twin Falls, ID",
        "Town of Corning, NY",
        "Sebring, FL",
        "Grass Valley, CA",
        "Paducah, KY",
        "Kings Mountain, NC",
        "Fairbanks, AK",
        "Upper Township, NJ",
        "Mankato, MN",
        "Rome, GA",
        "Cape Girardeau, MO",
        "Hot Springs, AR",
        "Greenwood, SC",
        "Bridgeport, WV",
        "Victoria, TX",
        "Talladega, AL",
        "Dubuque, IA",
        "Bushnell, FL",
        "Albertville, AL",
        "Manhattan, KS",
        "Parkersburg, WV",
        "New Philadelphia, OH",
        "Orangeburg, SC",
        "Cheyenne, WY",
        "New Castle, PA",
        "Brainerd, MN",
        "Kalispell, MT",
        "Seymour, TN",
        "Ames, IA",
        "Bozeman, MT",
        "Moses Lake, WA",
        "White Township, PA",
        "Town of Elmira, NY",
        "Meadville, PA",
        "Beaver Dam, WI",
        "Aberdeen, NC",
        "Ukiah, CA",
        "Hermiston, OR",
        "Lufkin, TX",
        "Zanesville, OH",
        "Corvallis, OR",
        "Bloomsburg, PA",
        "Laurel, MS",
        "Russellville, AR",
        "Branson, MO",
        "Midland, MI",
        "Opelousas, LA",
        "Pocatello, ID",
        "Kokomo, IN",
        "Grants Pass, OR",
        "Huntsville, TX",
        "Town of Plattsburgh, NY",
        "Grand Island, NE",
        "Du Bois, PA",
        "Danville, IL",
        "Manitowoc, WI",
        "Great Falls, MT",
        "Wilson, NC",
        "Cullman, AL",
        "Town of Olean, NY",
        "Auburn, NY",
        "Portsmouth, OH",
        "Athens, TX",
        "Oak Harbor, WA",
        "Chillicothe, OH",
        "Hinesville, GA",
        "Somerset Township, PA",
        "Warsaw, IN",
        "Stillwater, OK",
        "Quincy, IL",
        "Keene, NH",
        "Sandusky, OH",
        "Searcy, AR",
        "Columbus, IN",
        "Roanoke Rapids, NC",
        "Centralia, WA",
        "Casper, WY",
        "Helena, MT",
        "Findlay, OH",
        "Wisconsin Rapids, WI",
        "Palatka, FL",
        "Seneca, SC",
        "Mount Airy, NC",
        "Glenwood Springs, CO",
        "Key West, FL",
        "Aberdeen, WA",
        "Gallup, NM",
        "Port Angeles, WA",
        "Town of Greenfield, MA",
        "Muskogee, OK",
        "Frankfort, KY",
        "Owosso, MI",
        "Mount Pleasant, MI",
        "Statesboro, GA",
        "Marion, IN",
        "Stevens Point, WI",
        "Minot, ND",
        "Shawnee, OK",
        "North Wilkesboro, NC",
        "Richmond, IN",
        "Greeneville, TN",
        "Martinsville, VA",
        "Forest City, NC",
        "Lake City, FL",
        "Kapaa, HI",
        "Marquette, MI",
        "Lagrange, GA",
        "Marion, OH",
        "Morehead City, NC",
        "Klamath Falls, OR",
        "Marinette, WI",
        "Roswell, NM",
        "Marshall, TX",
        "Farmington, MO",
        "Charleston, IL",
        "Athens, OH",
        "Hobbs, NM",
        "Lakeport, CA",
        "Nacogdoches, TX",
        "Hutchinson, KS",
        "Faribault, MN",
        "Elizabeth City, NC",
        "Ionia, MI",
        "Alamogordo, NM",
        "Red Bluff, CA",
        "Hudson, NY",
        "Somerset, KY",
        "Coos Bay, OR",
        "Walla Walla, WA",
        "Athens Township, PA",
        "Town of Oneonta, NY",
        "Keokuk, IA",
        "Reedsburg, WI",
        "Marietta, OH",
        "Salina, KS",
        "Town of Rutland, VT",
        "Big Stone Gap, VA",
        "Sturgis, MI",
        "Rio Grande City, TX",
        "Fremont, OH",
        "Mount Vernon, OH",
        "Lewiston, ID",
        "Shelton, WA",
        "Albemarle, NC",
        "Enid, OK",
        "Commerce, GA",
        "Georgetown, SC",
        "Laconia, NH",
        "Town of Batavia, NY",
        "Oxford, NC",
        "Columbus, MS",
        "Norwalk, OH",
        "Barre, VT",
        "Kinston, NC",
        "Sterling, IL",
        "Palestine, TX",
        "Dublin, GA",
        "Vicksburg, MS",
        "Gallipolis, OH",
        "Sanford, NC",
        "Fergus Falls, MN",
        "Tiffin, OH",
        "Fairmont, WV",
        "Crossville, TN",
        "Picayune, MS",
        "Town of Johnstown, NY",
        "Sonora, CA",
        "Gaffney, SC",
        "Carson City, NV",
        "Calhoun, GA",
        "Milledgeville, GA",
        "Waycross, GA",
        "Oil City, PA",
        "Morgan City, LA",
        "Eagle Pass, TX",
        "Ontario, OR",
        "Carlsbad, NM",
        "Globe, AZ",
        "McComb, MS",
        "Oregon, IL",
        "Scottsboro, AL",
        "Danville, KY",
        "Ashland, OH",
        "Natchez, MS",
        "Greenville, OH",
        "Galesburg, IL",
        "Warrensburg, MO",
        "Kearney, NE",
        "Leesville, LA",
        "Fort Leonard Wood, MO",
        "Glasgow, KY",
        "Athens, TN",
        "Fernley, NV",
        "Mason City, IA",
        "Town of Malone, NY",
        "Winona, MN",
        "Durango, CO",
        "Platteville, WI",
        "Greenville, MS",
        "Boone, NC",
        "Bartlesville, OK",
        "Jacksonville, TX",
        "Elko, NV",
        "Rexburg, ID",
        "Saint Marys, GA",
        "Ozark, AL",
        "Town of Amsterdam, NY",
        "Enterprise, AL",
        "Paris, TX",
        "Kerrville, TX",
        "New Castle, IN",
        "Sidney, OH",
        "Cortland, NY",
        "Clinton, IA",
        "Del Rio, TX",
        "Clovis, NM",
        "Norfolk, NE",
        "Washington, NC",
        "Corsicana, TX",
        "Freeport, IL",
        "Burlington, IA",
        "Blackman Township, MI",
        "Ardmore, OK",
        "Kendallville, IN",
        "Nogales, AZ",
        "Oxford, MS",
        "Franklinton, LA",
        "Plymouth, IN",
        "Gardnerville, NV",
        "Tahlequah, OK",
        "Madisonville, KY",
        "Canon City, CO",
        "Hillsdale, MI",
        "Lewistown, PA",
        "Rockingham, NC",
        "Ponca City, OK",
        "Blytheville, AR",
        "Red Wing, MN",
        "Shawano, WI",
        "Cedar City, UT",
        "Bedford, IN",
        "Gillette, WY",
        "Lincoln City, OR",
        "Saint Marys, OH",
        "Huntingdon, PA",
        "Bellefontaine, OH",
        "McAlester, OK",
        "Blackfoot, ID",
        "Moultrie, GA",
        "Henderson, NC",
        "Coldwater, MI",
        "Harrison, AR",
        "Rolla, MO",
        "Shelbyville, TN",
        "Duncan, OK",
        "Marion, NC",
        "Lewisburg, PA",
        "Thomasville, GA",
        "Bemidji, MN",
        "Owingsville, KY",
        "Ottumwa, IA",
        "Menomonie, WI",
        "Rock Springs, WY",
        "Bucyrus, OH",
        "Bradford Township, PA",
        "Bardstown, KY",
        "Cornelia, GA",
        "Burley, ID",
        "Greenwood, MS",
        "Big Rapids Township, MI",
        "Poplar Bluff, MO",
        "Muscatine, IA",
        "Alma, MI",
        "Durant, OK",
        "Seymour, IN",
        "Douglas, GA",
        "Willmar, MN",
        "Auburn, IN",
        "Sedalia, MO",
        "Paragould, AR",
        "Lawrenceburg, TN",
        "Warren, PA",
        "El Dorado, AR",
        "Mountain Home, AR",
        "Cedartown, GA",
        "Port Clinton, OH",
        "Wharton, TX",
        "Montrose, CO",
        "Ellensburg, WA",
        "Sandpoint, ID",
        "Alice, TX",
        "Coldwater, OH",
        "Garden City, KS",
        "Marshalltown, IA",
        "Aberdeen, SD",
        "Mountain View, MO",
        "Sylva, NC",
        "Espanola, NM",
        "Riverton, WY",
        "Tifton, GA",
        "Urbana, OH",
        "Cambridge, OH",
        "Okeechobee, FL",
        "Mc Minnville, TN",
        "Selinsgrove, PA",
        "Natchitoches, LA",
        "Centralia, IL",
        "Berlin, NH",
        "Lock Haven, PA",
        "Sikeston, MO",
        "Austin, MN",
        "Labelle, FL",
        "Pittsburg, KS",
        "Scottsbluff, NE",
        "Logansport, IN",
        "Pontiac, IL",
        "Hannibal, MO",
        "Mount Vernon, IL",
        "Union City, TN",
        "Sault Sainte Marie, MI",
        "Vincennes, IN",
        "Gainesville, TX",
        "Dyersburg, TN",
        "Kill Devil Hills, NC",
        "Crawfordsville, IN",
        "Brownwood, TX",
        "Fort Dodge, IA",
        "Stephenville, TX",
        "Americus, GA",
        "Easton, MD",
        "North Platte, NE",
        "Newberry, SC",
        "Ada, OK",
        "Moscow, ID",
        "Safford, AZ",
        "Murray, KY",
        "Town of Bennington, VT",
        "Huntington, IN",
        "Mayfield, KY",
        "Canton, IL",
        "Escanaba, MI",
        "Corinth, MS",
        "Astoria, OR",
        "Peru, IN",
        "Coshocton, OH",
        "Newton, IA",
        "Chapmanville, WV",
        "Bay City, TX",
        "Fremont, NE",
        "Hutchinson, MN",
        "Batesville, AR",
        "Owatonna, MN",
        "Vidalia, GA",
        "Park City, UT",
        "Winfield, KS",
        "Laramie, WY",
        "Plainview, TX",
        "Big Spring, TX",
        "Dixon, IL",
        "Alexandria, MN",
        "Newport, TN",
        "Ragley, LA",
        "Lebanon, MO",
        "Independence, KS",
        "Town of Seneca Falls, NY",
        "Sulphur Springs, TX",
        "Martin, TN",
        "Susanville, CA",
        "Taylorville, IL",
        "Decatur, IN",
        "Junction City, KS",
        "Effingham, IL",
        "Valley, AL",
        "Butte, MT",
        "Angola, IN",
        "Dodge City, KS",
        "Brenham, TX",
        "Jackson, OH",
        "Brevard, NC",
        "Taos, NM",
        "Malvern, AR",
        "Troy, AL",
        "Wabash, IN",
        "Cambridge, MD",
        "Macomb, IL",
        "Vernal, UT",
        "Kingsville, TX",
        "Madison, IN",
        "Mount Pleasant, TX",
        "Paris, TN",
        "Columbus, NE",
        "Brookings, SD",
        "Kennett, MO",
        "Beeville, TX",
        "Miami, OK",
        "Dayton, TN",
        "Washington, IN",
        "Camden, AR",
        "Jackson, WY",
        "Hastings, NE",
        "Juneau, AK",
        "Albert Lea, MN",
        "Iron Mountain, MI",
        "Lincoln, IL",
        "Jesup, GA",
        "Kirksville, MO",
        "Alpena, MI",
        "Silver City, NM",
        "Elkins, WV",
        "Las Vegas, NM",
        "McPherson, KS",
        "Sheridan, WY",
        "Washington Court House, OH",
        "Bennettsville, SC",
        "Van Wert, OH",
        "Merrill, WI",
        "Ludington, MI",
        "Pineville, KY",
        "Crescent City, CA",
        "North Vernon, IN",
        "Hays, KS",
        "Forrest City, AR",
        "Silverthorne, CO",
        "Bastrop, LA",
        "Bainbridge, GA",
        "Hailey, ID",
        "Great Bend, KS",
        "Weatherford, OK",
        "Grants, NM",
        "Thomaston, GA",
        "Mountain Home, ID",
        "Altus, OK",
        "Uvalde, TX",
        "Lexington, NE",
        "Boone, IA",
        "Toccoa, GA",
        "Summerville, GA",
        "Ottawa, KS",
        "New Ulm, MN",
        "Marshall, MN",
        "La Grande, OR",
        "Greensburg, IN",
        "Mexico, MO",
        "Moberly, MO",
        "The Dalles, OR",
        "Deming, NM",
        "Fallon, NV",
        "Fredericksburg, TX",
        "Magnolia, AR",
        "Campbellsville, KY",
        "Connersville, IN",
        "Dickinson, ND",
        "Spearfish, SD",
        "Heber City, UT",
        "Steamboat Springs, CO",
        "Cordele, GA",
        "Marshall, MO",
        "Maryville, MO",
        "Arkadelphia, AR",
        "Liberal, KS",
        "Levelland, TX",
        "Sterling, CO",
        "Pampa, TX",
        "Yankton, SD",
        "Williston, ND",
        "Oskaloosa, IA",
        "Brookings, OR",
        "Hood River, OR",
        "Borger, TX",
        "Elk City, OK",
        "Parsons, KS",
        "Price, UT",
        "Port Lavaca, TX",
        "Worthington, MN",
        "Evanston, WY",
        "Jamestown, ND",
        "Prineville, OR",
        "Alta, IA",
        "Woodward, OK",
        "Portales, NM",
        "Othello, WA",
        "Fitzgerald, GA",
        "Maysville, KY",
        "Huron, SD",
        "Atchison, KS",
        "Snyder, TX",
        "Fairfield, IA",
        "Spencer, IA",
        "Milford, IA",
        "Edgartown, MA",
        "Winnemucca, NV",
        "Sweetwater, TX",
        "Andrews, TX",
        "Lamesa, TX",
        "Craig, CO"
       ],
       "description": "i",
       "index": 124,
       "layout": "IPY_MODEL_a86c3e9745914fb4993ea1a179120e0b",
       "style": "IPY_MODEL_f29ca0d1b0804a26a6cd77c203ae1f43"
      }
     },
     "af2a11dd37ed4ef787ac1968580e8f32": {
      "model_module": "@jupyter-widgets/controls",
      "model_module_version": "1.0.0",
      "model_name": "FloatSliderModel",
      "state": {
       "description": "x",
       "layout": "IPY_MODEL_cc1ce958cc5d4b7ab5ceea062781eda9",
       "max": 10,
       "step": 0.01,
       "style": "IPY_MODEL_67442746939042e28c5500b35e1af879",
       "value": 5
      }
     },
     "af7459f1eb5f441684aec262a0488803": {
      "model_module": "@jupyter-widgets/controls",
      "model_module_version": "1.0.0",
      "model_name": "IntSliderModel",
      "state": {
       "description": "x",
       "layout": "IPY_MODEL_571e87fdf24b4bb8b87f7e08346d048c",
       "max": 4,
       "style": "IPY_MODEL_dd419faa2cb34e84b3a2451609c11186",
       "value": 2
      }
     },
     "afef7ad1fcbd4a6ab1fe67d74d0c293c": {
      "model_module": "@jupyter-widgets/base",
      "model_module_version": "1.0.0",
      "model_name": "LayoutModel",
      "state": {}
     },
     "b0287f85bab04eadbd628b102987c700": {
      "model_module": "@jupyter-widgets/base",
      "model_module_version": "1.0.0",
      "model_name": "LayoutModel",
      "state": {}
     },
     "b0ae28cae8fe412a9ff9bcec93bcbeca": {
      "model_module": "@jupyter-widgets/controls",
      "model_module_version": "1.0.0",
      "model_name": "VBoxModel",
      "state": {
       "_dom_classes": [
        "widget-interact"
       ],
       "children": [
        "IPY_MODEL_039fbd43e39b4511a8b2d024b2aff805",
        "IPY_MODEL_b8511db4fbeb40bea1a982f3b8a0f83e",
        "IPY_MODEL_37e84a31102649aaba623644ed661083"
       ],
       "layout": "IPY_MODEL_777c4a4881174b3d8fc4703b230827c7"
      }
     },
     "b10e7d347eb54217950f32374dfe7ec5": {
      "model_module": "@jupyter-widgets/controls",
      "model_module_version": "1.0.0",
      "model_name": "VBoxModel",
      "state": {
       "_dom_classes": [
        "widget-interact"
       ],
       "children": [
        "IPY_MODEL_e1371a091f8044328f72741f5c91c34d",
        "IPY_MODEL_cbdb33b950104f41968338ba5191948b",
        "IPY_MODEL_f2283cd2c99b49c0a26969057df9e7e8"
       ],
       "layout": "IPY_MODEL_f2d2223b8028460d897f3defbe00705f"
      }
     },
     "b1493a4634874fd3a9fdbc9ff2490f1a": {
      "model_module": "@jupyter-widgets/base",
      "model_module_version": "1.0.0",
      "model_name": "LayoutModel",
      "state": {}
     },
     "b1666dcbc594425ba290712f7a8c69ab": {
      "model_module": "@jupyter-widgets/base",
      "model_module_version": "1.0.0",
      "model_name": "LayoutModel",
      "state": {}
     },
     "b19037e974294c57965e78bb51e10528": {
      "model_module": "@jupyter-widgets/base",
      "model_module_version": "1.0.0",
      "model_name": "LayoutModel",
      "state": {}
     },
     "b1cda3e279b04064ad38d4d1baffa6df": {
      "model_module": "@jupyter-widgets/controls",
      "model_module_version": "1.0.0",
      "model_name": "IntSliderModel",
      "state": {
       "description": "x",
       "layout": "IPY_MODEL_cfc51e88604b4c24b14c3500d814be05",
       "max": 30,
       "min": -10,
       "style": "IPY_MODEL_e7417313fdcc4b7ebe908c32f71ed2ce",
       "value": 17
      }
     },
     "b1d246421ffc46a8a54dcf3400c08c41": {
      "model_module": "@jupyter-widgets/base",
      "model_module_version": "1.0.0",
      "model_name": "LayoutModel",
      "state": {}
     },
     "b2151d75934c4aa9963718dcb1c299bd": {
      "model_module": "@jupyter-widgets/base",
      "model_module_version": "1.0.0",
      "model_name": "LayoutModel",
      "state": {}
     },
     "b254d8af0f6d476ea15b9d5f6179cd0b": {
      "model_module": "@jupyter-widgets/controls",
      "model_module_version": "1.0.0",
      "model_name": "SliderStyleModel",
      "state": {
       "description_width": ""
      }
     },
     "b271bfd3df654a8997a006d328147e59": {
      "model_module": "@jupyter-widgets/controls",
      "model_module_version": "1.0.0",
      "model_name": "TextModel",
      "state": {
       "description": "x",
       "layout": "IPY_MODEL_0735a2003b084c23a30602777154b1ea",
       "style": "IPY_MODEL_9633bc34f5204c95a66b6f2a6fac2721",
       "value": "Hi there!"
      }
     },
     "b2af086f9624436e8197ace4d4bd7cc3": {
      "model_module": "@jupyter-widgets/controls",
      "model_module_version": "1.0.0",
      "model_name": "DropdownModel",
      "state": {
       "_options_labels": [
        "apples",
        "oranges"
       ],
       "description": "x",
       "index": 0,
       "layout": "IPY_MODEL_93ab4cab457e415d8c18f8632922097d",
       "style": "IPY_MODEL_7a98c3aba3524d7ca153b9f4fca821f2"
      }
     },
     "b2fea29f629548888f63805422d7ff98": {
      "model_module": "@jupyter-widgets/base",
      "model_module_version": "1.0.0",
      "model_name": "LayoutModel",
      "state": {}
     },
     "b3a381905af743deba32e0e1fba94cd2": {
      "model_module": "@jupyter-widgets/base",
      "model_module_version": "1.0.0",
      "model_name": "LayoutModel",
      "state": {}
     },
     "b3d3a178c7ca4655b6e4dc0ec0dcfba7": {
      "model_module": "@jupyter-widgets/base",
      "model_module_version": "1.0.0",
      "model_name": "LayoutModel",
      "state": {}
     },
     "b3f6effb13884dc2b3c1ab2a2f148e56": {
      "model_module": "@jupyter-widgets/output",
      "model_module_version": "1.0.0",
      "model_name": "OutputModel",
      "state": {
       "layout": "IPY_MODEL_98fc10799000421394d3fb7d46c47750",
       "outputs": [
        {
         "name": "stdout",
         "output_type": "stream",
         "text": "(0, 0, 0)\n"
        }
       ]
      }
     },
     "b43542451bba474b9909acc33af2a05f": {
      "model_module": "@jupyter-widgets/output",
      "model_module_version": "1.0.0",
      "model_name": "OutputModel",
      "state": {
       "layout": "IPY_MODEL_81c00d50eee44c4296e7f8b91766b3ad",
       "outputs": [
        {
         "data": {
          "image/png": "iVBORw0KGgoAAAANSUhEUgAAAXYAAAD8CAYAAABjAo9vAAAABHNCSVQICAgIfAhkiAAAAAlwSFlz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\n",
          "text/plain": "<matplotlib.figure.Figure at 0x1161e2400>"
         },
         "metadata": {},
         "output_type": "display_data"
        }
       ]
      }
     },
     "b4f2b31df0d44728b90de5ce3e5a8a68": {
      "model_module": "@jupyter-widgets/controls",
      "model_module_version": "1.0.0",
      "model_name": "CheckboxModel",
      "state": {
       "description": "x",
       "disabled": false,
       "layout": "IPY_MODEL_1bdada2e1b9346f2904d8eda26aa3530",
       "style": "IPY_MODEL_5bfc93c919fa4118aca4d150ae14cc7b",
       "value": true
      }
     },
     "b59ac363b3284a9cae8e8c368a8efac3": {
      "model_module": "@jupyter-widgets/output",
      "model_module_version": "1.0.0",
      "model_name": "OutputModel",
      "state": {
       "layout": "IPY_MODEL_273dbbebcf8d48f38ba9cb4652ef1272",
       "outputs": [
        {
         "data": {
          "text/plain": "5.0"
         },
         "metadata": {},
         "output_type": "display_data"
        }
       ]
      }
     },
     "b5a4c3554b2c4986b8c5f10fd41bbcce": {
      "model_module": "@jupyter-widgets/base",
      "model_module_version": "1.0.0",
      "model_name": "LayoutModel",
      "state": {}
     },
     "b6142653ddfa4d67abd19fbffadfdab3": {
      "model_module": "@jupyter-widgets/controls",
      "model_module_version": "1.0.0",
      "model_name": "SliderStyleModel",
      "state": {
       "description_width": ""
      }
     },
     "b68729669d39419382d60d2cc3edec84": {
      "model_module": "@jupyter-widgets/controls",
      "model_module_version": "1.0.0",
      "model_name": "VBoxModel",
      "state": {
       "_dom_classes": [
        "widget-interact"
       ],
       "children": [
        "IPY_MODEL_c0bd801e7cd34252ab36b6d74c894c7b",
        "IPY_MODEL_16d02e141e0040968e294b6bdabc41e1"
       ],
       "layout": "IPY_MODEL_e68c44853528476ab2e86863697bd133"
      }
     },
     "b71430c2b7f44a378df57239390a7626": {
      "model_module": "@jupyter-widgets/base",
      "model_module_version": "1.0.0",
      "model_name": "LayoutModel",
      "state": {}
     },
     "b71c1c6ec4ed426eabcce36d9de279dd": {
      "model_module": "@jupyter-widgets/base",
      "model_module_version": "1.0.0",
      "model_name": "LayoutModel",
      "state": {}
     },
     "b7545ae537bd4fcb8d32b66bf0f7453f": {
      "model_module": "@jupyter-widgets/base",
      "model_module_version": "1.0.0",
      "model_name": "LayoutModel",
      "state": {}
     },
     "b7a2f50b9c6841f4a55f0bb7a13803c8": {
      "model_module": "@jupyter-widgets/output",
      "model_module_version": "1.0.0",
      "model_name": "OutputModel",
      "state": {
       "layout": "IPY_MODEL_32bdf67bbc8c40178b4e5cee920319b1",
       "outputs": [
        {
         "data": {
          "text/plain": "'oranges'"
         },
         "metadata": {},
         "output_type": "display_data"
        }
       ]
      }
     },
     "b80c91267ea643f4ad49fb9f66e8427a": {
      "model_module": "@jupyter-widgets/base",
      "model_module_version": "1.0.0",
      "model_name": "LayoutModel",
      "state": {}
     },
     "b8511db4fbeb40bea1a982f3b8a0f83e": {
      "model_module": "@jupyter-widgets/controls",
      "model_module_version": "1.0.0",
      "model_name": "ButtonModel",
      "state": {
       "description": "Run Interact",
       "layout": "IPY_MODEL_0a164832cca14c66bdb9eadf47918ba4",
       "style": "IPY_MODEL_a298b954c96c4f759796726ba0a4b02f"
      }
     },
     "b8ada3db8e69413c8f0a9a9577a46c8a": {
      "model_module": "@jupyter-widgets/controls",
      "model_module_version": "1.0.0",
      "model_name": "VBoxModel",
      "state": {
       "_dom_classes": [
        "widget-interact"
       ],
       "children": [
        "IPY_MODEL_aa5fcce4c6d14cd4947350962f42c0cf",
        "IPY_MODEL_b99522b5438141ed952976863fd509ac"
       ],
       "layout": "IPY_MODEL_3147c1374827456a918016c68464a699"
      }
     },
     "b8d1c664ae1548eeaba259c4c0b90887": {
      "model_module": "@jupyter-widgets/base",
      "model_module_version": "1.0.0",
      "model_name": "LayoutModel",
      "state": {}
     },
     "b94e23ae1f9148809c4724f845c0c30e": {
      "model_module": "@jupyter-widgets/base",
      "model_module_version": "1.0.0",
      "model_name": "LayoutModel",
      "state": {}
     },
     "b99522b5438141ed952976863fd509ac": {
      "model_module": "@jupyter-widgets/output",
      "model_module_version": "1.0.0",
      "model_name": "OutputModel",
      "state": {
       "layout": "IPY_MODEL_266489df2bba4361b9aa8dcc0829584c",
       "outputs": [
        {
         "data": {
          "text/plain": "10"
         },
         "metadata": {},
         "output_type": "display_data"
        }
       ]
      }
     },
     "b9c3853878634503b6a8db1e79f8da42": {
      "model_module": "@jupyter-widgets/output",
      "model_module_version": "1.0.0",
      "model_name": "OutputModel",
      "state": {
       "layout": "IPY_MODEL_5feb8e933db044c897f040e3de329343",
       "outputs": [
        {
         "data": {
          "text/plain": "5.0"
         },
         "metadata": {},
         "output_type": "display_data"
        }
       ]
      }
     },
     "bad4d68e46c84b7da4c8402952021c38": {
      "model_module": "@jupyter-widgets/controls",
      "model_module_version": "1.0.0",
      "model_name": "SliderStyleModel",
      "state": {
       "description_width": ""
      }
     },
     "bad6cb26c3b649b09c0226090cce8853": {
      "model_module": "@jupyter-widgets/base",
      "model_module_version": "1.0.0",
      "model_name": "LayoutModel",
      "state": {}
     },
     "bb83d864494c44f4a3557b59b83ab563": {
      "model_module": "@jupyter-widgets/controls",
      "model_module_version": "1.0.0",
      "model_name": "SliderStyleModel",
      "state": {
       "description_width": ""
      }
     },
     "bc43d0f27be14cc8ac4f796666487e0b": {
      "model_module": "@jupyter-widgets/base",
      "model_module_version": "1.0.0",
      "model_name": "LayoutModel",
      "state": {}
     },
     "bdb36f5e2f0c46c7a17c748bad930692": {
      "model_module": "@jupyter-widgets/base",
      "model_module_version": "1.0.0",
      "model_name": "LayoutModel",
      "state": {}
     },
     "bdb6360183ce48bea4342c8dacf23815": {
      "model_module": "@jupyter-widgets/controls",
      "model_module_version": "1.0.0",
      "model_name": "IntSliderModel",
      "state": {
       "description": "x",
       "layout": "IPY_MODEL_4202eddbda6d4fc787f0ca198b7f8306",
       "max": 8,
       "step": 2,
       "style": "IPY_MODEL_9cc03461412443baa972257f9e592fc3",
       "value": 4
      }
     },
     "be1acf4e89c8471a88135adb62eaec4c": {
      "model_module": "@jupyter-widgets/base",
      "model_module_version": "1.0.0",
      "model_name": "LayoutModel",
      "state": {}
     },
     "be1ed346e717430ea28ecf8dd75c9345": {
      "model_module": "@jupyter-widgets/controls",
      "model_module_version": "1.0.0",
      "model_name": "FloatSliderModel",
      "state": {
       "description": "x",
       "layout": "IPY_MODEL_5f7206dea0fb403d8b5af4851b92f75e",
       "max": 20,
       "step": 0.5,
       "style": "IPY_MODEL_6622a00fe5e641f8a45af9d9b9ba5566",
       "value": 5.5
      }
     },
     "befbd1c01eac4b6bb5a3f7f859ba5492": {
      "model_module": "@jupyter-widgets/controls",
      "model_module_version": "1.0.0",
      "model_name": "DropdownModel",
      "state": {
       "_options_labels": [
        "one",
        "two"
       ],
       "description": "x",
       "index": 0,
       "layout": "IPY_MODEL_272594faf8eb4263ac13da78c24c9681",
       "style": "IPY_MODEL_08a4025a236c43dc97f29fe2f2b9312f"
      }
     },
     "bf0d9b4953354b7c8ceb444bc62cd1cc": {
      "model_module": "@jupyter-widgets/controls",
      "model_module_version": "1.0.0",
      "model_name": "VBoxModel",
      "state": {
       "_dom_classes": [
        "widget-interact"
       ],
       "children": [
        "IPY_MODEL_85ab4fba096d4d8ebccb070282f691e0",
        "IPY_MODEL_6733db21a3474ffbb7c1fb2f8cc43d79",
        "IPY_MODEL_f2a8b816d6224945b5a55be697a70c61"
       ],
       "layout": "IPY_MODEL_bad6cb26c3b649b09c0226090cce8853"
      }
     },
     "bf586bd444224fbb8c21a4e4a6ffcb4e": {
      "model_module": "@jupyter-widgets/base",
      "model_module_version": "1.0.0",
      "model_name": "LayoutModel",
      "state": {
       "height": "350px"
      }
     },
     "c0284d42d62e4756a4413ce3ee5c9d74": {
      "model_module": "@jupyter-widgets/controls",
      "model_module_version": "1.0.0",
      "model_name": "VBoxModel",
      "state": {
       "_dom_classes": [
        "widget-interact"
       ],
       "children": [
        "IPY_MODEL_e45e0a9df8a1409a881f303e0fd7ec35",
        "IPY_MODEL_d07fbc8e1b4b4690827eaa8a65e6ef99"
       ],
       "layout": "IPY_MODEL_7b61750826504173a7c0126be5cb2145"
      }
     },
     "c0bd801e7cd34252ab36b6d74c894c7b": {
      "model_module": "@jupyter-widgets/controls",
      "model_module_version": "1.0.0",
      "model_name": "CheckboxModel",
      "state": {
       "description": "x",
       "disabled": false,
       "layout": "IPY_MODEL_db5874cfeb2f48689cde335f1ba68aeb",
       "style": "IPY_MODEL_5a0642a2d5914a3faa2b4d2e2618c64f",
       "value": true
      }
     },
     "c1430009569149feb208ae043b93d1e6": {
      "model_module": "@jupyter-widgets/controls",
      "model_module_version": "1.0.0",
      "model_name": "SliderStyleModel",
      "state": {
       "description_width": ""
      }
     },
     "c174612bb32d44ad92b45eadfbd22594": {
      "model_module": "@jupyter-widgets/base",
      "model_module_version": "1.0.0",
      "model_name": "LayoutModel",
      "state": {}
     },
     "c1c213c1ffdd42b09b65817e3c9dadff": {
      "model_module": "@jupyter-widgets/controls",
      "model_module_version": "1.0.0",
      "model_name": "VBoxModel",
      "state": {
       "_dom_classes": [
        "widget-interact"
       ],
       "children": [
        "IPY_MODEL_edf240b3bb2e4cd397b7f2469b94f90d",
        "IPY_MODEL_222fef732b2c4b68821bc751f0ce1a72"
       ],
       "layout": "IPY_MODEL_54ee6982c5344a35902d984455296b4d"
      }
     },
     "c34f7ff076de41b68c172964951b5f8c": {
      "model_module": "@jupyter-widgets/output",
      "model_module_version": "1.0.0",
      "model_name": "OutputModel",
      "state": {
       "layout": "IPY_MODEL_543d18657d5e4fb092d2d5f6bfb6b293",
       "outputs": [
        {
         "name": "stdout",
         "output_type": "stream",
         "text": "100000 [0, 1, 2, 3, 11, 22, 101, 111, 121, 202, 212, 1001, 1111, 2002, 10001, 10101, 10201, 11011, 11111, 11211, 20002, 20102]\n"
        }
       ]
      }
     },
     "c422e26de58c4a21bd164f475f374a78": {
      "model_module": "@jupyter-widgets/output",
      "model_module_version": "1.0.0",
      "model_name": "OutputModel",
      "state": {
       "layout": "IPY_MODEL_9dde7fbdaf134bb68fafb1efacad670b",
       "outputs": [
        {
         "data": {
          "text/plain": "10.5"
         },
         "metadata": {},
         "output_type": "display_data"
        }
       ]
      }
     },
     "c44b73d4af684d52834c8619b8e6fb96": {
      "model_module": "@jupyter-widgets/controls",
      "model_module_version": "1.0.0",
      "model_name": "FloatSliderModel",
      "state": {
       "description": "x",
       "layout": "IPY_MODEL_cb3c089333af410d8383783d2d5d7258",
       "max": 10,
       "step": 0.01,
       "style": "IPY_MODEL_8e740b1f66ae47b39f838f83ff4f9d94",
       "value": 5
      }
     },
     "c547455af2f343b983ea2c2c17106f5c": {
      "model_module": "@jupyter-widgets/output",
      "model_module_version": "1.0.0",
      "model_name": "OutputModel",
      "state": {
       "layout": "IPY_MODEL_8064ea54cd294d11bd8b5cba25876dba",
       "outputs": [
        {
         "name": "stdout",
         "output_type": "stream",
         "text": "100000 [0, 1, 2, 3, 11, 22, 101, 111, 121, 202, 212, 1001, 1111, 2002, 10001, 10101, 10201, 11011, 11111, 11211, 20002, 20102]\n"
        }
       ]
      }
     },
     "c57f2a7def294f7688a8674cbef8f796": {
      "model_module": "@jupyter-widgets/controls",
      "model_module_version": "1.0.0",
      "model_name": "FloatSliderModel",
      "state": {
       "description": "x",
       "layout": "IPY_MODEL_d6c604f216894e8dab13f149e0405b1b",
       "max": 10,
       "step": 0.1,
       "style": "IPY_MODEL_da9d21ae8074447aa10b45ccf0565a1f",
       "value": 5
      }
     },
     "c59d157e19d34926a3688eaf42327a8d": {
      "model_module": "@jupyter-widgets/output",
      "model_module_version": "1.0.0",
      "model_name": "OutputModel",
      "state": {
       "layout": "IPY_MODEL_ea7ee28eae864470a48e0d2c553b6402",
       "outputs": [
        {
         "data": {
          "text/plain": "True"
         },
         "metadata": {},
         "output_type": "display_data"
        }
       ]
      }
     },
     "c601dc9aa57e4780b057d3e5a7501d7a": {
      "model_module": "@jupyter-widgets/base",
      "model_module_version": "1.0.0",
      "model_name": "LayoutModel",
      "state": {}
     },
     "c6a677605f9b476d8b4af583eabf2f08": {
      "model_module": "@jupyter-widgets/base",
      "model_module_version": "1.0.0",
      "model_name": "LayoutModel",
      "state": {}
     },
     "c70e8971aa5941eca582302abf1e62a1": {
      "model_module": "@jupyter-widgets/controls",
      "model_module_version": "1.0.0",
      "model_name": "DropdownModel",
      "state": {
       "_options_labels": [
        "apples",
        "oranges"
       ],
       "description": "x",
       "index": 0,
       "layout": "IPY_MODEL_1ba6ee7b8c6e42ef9a01e882d9caef6d",
       "style": "IPY_MODEL_800dcb3e562e4cc7b743b7f1d514b466"
      }
     },
     "c70e9178b8c9465b882a4f040c14b6c5": {
      "model_module": "@jupyter-widgets/base",
      "model_module_version": "1.0.0",
      "model_name": "LayoutModel",
      "state": {}
     },
     "c71654839265446cb33a1957336ae3cf": {
      "model_module": "@jupyter-widgets/base",
      "model_module_version": "1.0.0",
      "model_name": "LayoutModel",
      "state": {}
     },
     "c7169f60a6b44e68b22bec2cc41972b0": {
      "model_module": "@jupyter-widgets/controls",
      "model_module_version": "1.0.0",
      "model_name": "DescriptionStyleModel",
      "state": {
       "description_width": ""
      }
     },
     "c78b4253347e48c3880e87b66e4b2628": {
      "model_module": "@jupyter-widgets/controls",
      "model_module_version": "1.0.0",
      "model_name": "FloatSliderModel",
      "state": {
       "description": "b",
       "layout": "IPY_MODEL_2d22356499fa482e945a1c2957829e9c",
       "max": 3,
       "min": -3,
       "step": 0.5,
       "style": "IPY_MODEL_51c6c155d415495abffbedd087ed38b5",
       "value": 1.5
      }
     },
     "c7c02fd9fb864214834706087f720983": {
      "model_module": "@jupyter-widgets/controls",
      "model_module_version": "1.0.0",
      "model_name": "SliderStyleModel",
      "state": {
       "description_width": ""
      }
     },
     "c806e13f68ac4beea71c447f1f747ecc": {
      "model_module": "@jupyter-widgets/controls",
      "model_module_version": "1.0.0",
      "model_name": "SliderStyleModel",
      "state": {
       "description_width": ""
      }
     },
     "c9b1101952cd4201a7e4c6408219a297": {
      "model_module": "@jupyter-widgets/controls",
      "model_module_version": "1.0.0",
      "model_name": "VBoxModel",
      "state": {
       "_dom_classes": [
        "widget-interact"
       ],
       "children": [
        "IPY_MODEL_b271bfd3df654a8997a006d328147e59",
        "IPY_MODEL_7a39fa0862ee41c38ceee6848cb15402"
       ],
       "layout": "IPY_MODEL_79c0c645f08142378bc88199197864f6"
      }
     },
     "ca5860e9b8734e63961365e9a083226b": {
      "model_module": "@jupyter-widgets/controls",
      "model_module_version": "1.0.0",
      "model_name": "FloatSliderModel",
      "state": {
       "description": "i",
       "layout": "IPY_MODEL_f63e47d7247d4fe8b4e524cbaa44f01c",
       "max": 10000000,
       "min": 100000,
       "step": 100000,
       "style": "IPY_MODEL_44099d724d624a699f287f883d1af89f",
       "value": 100000
      }
     },
     "ca6c96e166b949bd900b442dbb370ffc": {
      "model_module": "@jupyter-widgets/base",
      "model_module_version": "1.0.0",
      "model_name": "LayoutModel",
      "state": {}
     },
     "cb3c089333af410d8383783d2d5d7258": {
      "model_module": "@jupyter-widgets/base",
      "model_module_version": "1.0.0",
      "model_name": "LayoutModel",
      "state": {}
     },
     "cbbf619ba9074e6daf3527edba10a831": {
      "model_module": "@jupyter-widgets/base",
      "model_module_version": "1.0.0",
      "model_name": "LayoutModel",
      "state": {}
     },
     "cbdb33b950104f41968338ba5191948b": {
      "model_module": "@jupyter-widgets/controls",
      "model_module_version": "1.0.0",
      "model_name": "FloatSliderModel",
      "state": {
       "description": "b",
       "layout": "IPY_MODEL_a615a5d1a6f4444f9811ad84edcdefb5",
       "max": 3,
       "min": -3,
       "step": 0.5,
       "style": "IPY_MODEL_a95fdec29a4c4d5e8bc7235850727a60"
      }
     },
     "cc1ce958cc5d4b7ab5ceea062781eda9": {
      "model_module": "@jupyter-widgets/base",
      "model_module_version": "1.0.0",
      "model_name": "LayoutModel",
      "state": {}
     },
     "cc39d8e0bc37467a85bb81f6e47b92d0": {
      "model_module": "@jupyter-widgets/controls",
      "model_module_version": "1.0.0",
      "model_name": "FloatSliderModel",
      "state": {
       "description": "x",
       "layout": "IPY_MODEL_0d7434a3a6bc48f0802b33669d275b90",
       "max": 10,
       "step": 0.01,
       "style": "IPY_MODEL_5095d4c55ee0473a99d320717c21fba0",
       "value": 5
      }
     },
     "cc9476fdaf264d838273fceae8080a82": {
      "model_module": "@jupyter-widgets/base",
      "model_module_version": "1.0.0",
      "model_name": "LayoutModel",
      "state": {}
     },
     "ccfa38c95ac641cc91ce728af46b0854": {
      "model_module": "@jupyter-widgets/output",
      "model_module_version": "1.0.0",
      "model_name": "OutputModel",
      "state": {
       "layout": "IPY_MODEL_51f7581d1d334225be25d5bde74d88fe",
       "outputs": [
        {
         "data": {
          "text/plain": "True"
         },
         "metadata": {},
         "output_type": "display_data"
        }
       ]
      }
     },
     "cd7c701821fa41b9b9bac0e1d9290811": {
      "model_module": "@jupyter-widgets/base",
      "model_module_version": "1.0.0",
      "model_name": "LayoutModel",
      "state": {}
     },
     "ce74280a74444f8f957555f5fe6826ce": {
      "model_module": "@jupyter-widgets/controls",
      "model_module_version": "1.0.0",
      "model_name": "VBoxModel",
      "state": {
       "_dom_classes": [
        "widget-interact"
       ],
       "children": [
        "IPY_MODEL_fb2c25fd212f46a19c34534c7eb4f2c3",
        "IPY_MODEL_6dd9ae220f84479cb74025e36f287d14"
       ],
       "layout": "IPY_MODEL_db4a04f7de52483d990e56f1f1886baa"
      }
     },
     "cee94e83d26e4a47bdaa39ff154ded2b": {
      "model_module": "@jupyter-widgets/controls",
      "model_module_version": "1.0.0",
      "model_name": "SliderStyleModel",
      "state": {
       "description_width": ""
      }
     },
     "cf2b38f3bbf2464ba1479bcc6b15e6f9": {
      "model_module": "@jupyter-widgets/controls",
      "model_module_version": "1.0.0",
      "model_name": "FloatSliderModel",
      "state": {
       "description": "y",
       "layout": "IPY_MODEL_363711c05b26487a939b1d7e8cee6356",
       "max": 3,
       "min": -1,
       "step": 0.1,
       "style": "IPY_MODEL_f7add63410034d6ba409b373e7b13741",
       "value": 1
      }
     },
     "cf4385d447d54bd5a95a4e1ced250ff1": {
      "model_module": "@jupyter-widgets/controls",
      "model_module_version": "1.0.0",
      "model_name": "FloatSliderModel",
      "state": {
       "description": "m",
       "layout": "IPY_MODEL_f32b71d816c04072b754c4bf9a5aedc3",
       "max": 2,
       "min": -2,
       "step": 0.1,
       "style": "IPY_MODEL_f435e9c6d1ce4ac3b835bf357c3e5a84"
      }
     },
     "cfb2eb93e9ab4aa8897dae911241cc17": {
      "model_module": "@jupyter-widgets/controls",
      "model_module_version": "1.0.0",
      "model_name": "TextModel",
      "state": {
       "description": "x",
       "layout": "IPY_MODEL_41301366210849b8900ecdf7276bc555",
       "style": "IPY_MODEL_940642f351e84a909e592ff6ad0fb1b1",
       "value": "Hi there!"
      }
     },
     "cfc51e88604b4c24b14c3500d814be05": {
      "model_module": "@jupyter-widgets/base",
      "model_module_version": "1.0.0",
      "model_name": "LayoutModel",
      "state": {}
     },
     "d02c5ad8147e468eb83872b6f69a7f18": {
      "model_module": "@jupyter-widgets/controls",
      "model_module_version": "1.0.0",
      "model_name": "SliderStyleModel",
      "state": {
       "description_width": ""
      }
     },
     "d0477ddb4afe4c3885ba14eb1adc451a": {
      "model_module": "@jupyter-widgets/base",
      "model_module_version": "1.0.0",
      "model_name": "LayoutModel",
      "state": {}
     },
     "d0550857731e451e9c182a0de46176df": {
      "model_module": "@jupyter-widgets/base",
      "model_module_version": "1.0.0",
      "model_name": "LayoutModel",
      "state": {
       "height": "350px"
      }
     },
     "d07fbc8e1b4b4690827eaa8a65e6ef99": {
      "model_module": "@jupyter-widgets/output",
      "model_module_version": "1.0.0",
      "model_name": "OutputModel",
      "state": {
       "layout": "IPY_MODEL_3b465e21085a4511bf352c6dadbdc8da",
       "outputs": [
        {
         "data": {
          "text/plain": "'apples'"
         },
         "metadata": {},
         "output_type": "display_data"
        }
       ]
      }
     },
     "d142ba2584bf40bbbd93db58b09d3e6b": {
      "model_module": "@jupyter-widgets/base",
      "model_module_version": "1.0.0",
      "model_name": "LayoutModel",
      "state": {}
     },
     "d183536a72d9496bb0d2f22004ef381b": {
      "model_module": "@jupyter-widgets/base",
      "model_module_version": "1.0.0",
      "model_name": "LayoutModel",
      "state": {}
     },
     "d23d19e6bb2142d2a201c88666948cf9": {
      "model_module": "@jupyter-widgets/controls",
      "model_module_version": "1.0.0",
      "model_name": "VBoxModel",
      "state": {
       "_dom_classes": [
        "widget-interact"
       ],
       "children": [
        "IPY_MODEL_9178dcbf1ea94251aacf92683cef842f",
        "IPY_MODEL_ac5a116f70a24c98a999a970cc313dd5",
        "IPY_MODEL_0390f369f620479db6090feb0629f56b"
       ],
       "layout": "IPY_MODEL_130b81dd74c24a40b9243766928b3f04"
      }
     },
     "d25c40b03ce347e598eee366de12b481": {
      "model_module": "@jupyter-widgets/controls",
      "model_module_version": "1.0.0",
      "model_name": "IntSliderModel",
      "state": {
       "description": "x",
       "layout": "IPY_MODEL_1b6ecaf218244fe68c57fc2edf7d4584",
       "max": 8,
       "step": 2,
       "style": "IPY_MODEL_7edc31625781433094ad9cd81b614e49",
       "value": 4
      }
     },
     "d2b5175058414020b6f4cc19ef09b89e": {
      "model_module": "@jupyter-widgets/output",
      "model_module_version": "1.0.0",
      "model_name": "OutputModel",
      "state": {
       "layout": "IPY_MODEL_2ce53b20943a426eae47577bacfb4cdc",
       "outputs": [
        {
         "data": {
          "text/plain": "30"
         },
         "metadata": {},
         "output_type": "display_data"
        }
       ]
      }
     },
     "d34e23dca8eb44c3b1465be2e7a9d821": {
      "model_module": "@jupyter-widgets/controls",
      "model_module_version": "1.0.0",
      "model_name": "SliderStyleModel",
      "state": {
       "description_width": ""
      }
     },
     "d36bab688aba401aad49938d39cc7db6": {
      "model_module": "@jupyter-widgets/output",
      "model_module_version": "1.0.0",
      "model_name": "OutputModel",
      "state": {
       "layout": "IPY_MODEL_bdb36f5e2f0c46c7a17c748bad930692",
       "outputs": [
        {
         "data": {
          "text/plain": "'apples'"
         },
         "metadata": {},
         "output_type": "display_data"
        }
       ]
      }
     },
     "d37661e9e16f4dd7ba4bc4aaee96e8d9": {
      "model_module": "@jupyter-widgets/controls",
      "model_module_version": "1.0.0",
      "model_name": "VBoxModel",
      "state": {
       "_dom_classes": [
        "widget-interact"
       ],
       "children": [
        "IPY_MODEL_7633d94bea5547118c088a4e3d67374e",
        "IPY_MODEL_43b5c7d6543f4383b21b334b0b452353"
       ],
       "layout": "IPY_MODEL_6f2d015306674a2494b4cc16fe565735"
      }
     },
     "d38724d1d75945e89b03570757767b54": {
      "model_module": "@jupyter-widgets/controls",
      "model_module_version": "1.0.0",
      "model_name": "VBoxModel",
      "state": {
       "_dom_classes": [
        "widget-interact"
       ],
       "children": [
        "IPY_MODEL_c44b73d4af684d52834c8619b8e6fb96",
        "IPY_MODEL_b59ac363b3284a9cae8e8c368a8efac3"
       ],
       "layout": "IPY_MODEL_958c53cdc2ec438b8edfffedbc69dfbf"
      }
     },
     "d393d90582874d07a28cbed1036edc68": {
      "model_module": "@jupyter-widgets/controls",
      "model_module_version": "1.0.0",
      "model_name": "SliderStyleModel",
      "state": {
       "description_width": ""
      }
     },
     "d47a58a7b61640ad85cbfc20ea0b6892": {
      "model_module": "@jupyter-widgets/controls",
      "model_module_version": "1.0.0",
      "model_name": "SliderStyleModel",
      "state": {
       "description_width": ""
      }
     },
     "d48d0133eaab41bd86c94446a65dae7f": {
      "model_module": "@jupyter-widgets/base",
      "model_module_version": "1.0.0",
      "model_name": "LayoutModel",
      "state": {}
     },
     "d57b65ab7b9f4e3cb9f9a10ad9752993": {
      "model_module": "@jupyter-widgets/controls",
      "model_module_version": "1.0.0",
      "model_name": "VBoxModel",
      "state": {
       "_dom_classes": [
        "widget-interact"
       ],
       "children": [
        "IPY_MODEL_70aa8e9bc011467fbd122d0119f40b7c",
        "IPY_MODEL_c59d157e19d34926a3688eaf42327a8d"
       ],
       "layout": "IPY_MODEL_ebc89a0f300d4013a5f7fdf8dcb87a5a"
      }
     },
     "d6b69379bab64a2c88128fb02e30d5f8": {
      "model_module": "@jupyter-widgets/output",
      "model_module_version": "1.0.0",
      "model_name": "OutputModel",
      "state": {
       "layout": "IPY_MODEL_60fbe74887544d8f8c9f236cf69c2f5b",
       "outputs": [
        {
         "data": {
          "text/plain": "True"
         },
         "metadata": {},
         "output_type": "display_data"
        }
       ]
      }
     },
     "d6bff62d146a4935a621db7e7bb31e01": {
      "model_module": "@jupyter-widgets/base",
      "model_module_version": "1.0.0",
      "model_name": "LayoutModel",
      "state": {}
     },
     "d6c604f216894e8dab13f149e0405b1b": {
      "model_module": "@jupyter-widgets/base",
      "model_module_version": "1.0.0",
      "model_name": "LayoutModel",
      "state": {}
     },
     "d6dd63fdf9464d998023b83f0384d039": {
      "model_module": "@jupyter-widgets/base",
      "model_module_version": "1.0.0",
      "model_name": "LayoutModel",
      "state": {}
     },
     "d8aa6e4c3aec49ae9cef659d0536380d": {
      "model_module": "@jupyter-widgets/base",
      "model_module_version": "1.0.0",
      "model_name": "LayoutModel",
      "state": {}
     },
     "d8b34866375d4950b9e411b0b1e9470f": {
      "model_module": "@jupyter-widgets/controls",
      "model_module_version": "1.0.0",
      "model_name": "SliderStyleModel",
      "state": {
       "description_width": ""
      }
     },
     "d90853a9ddde4a0f9b0007dff2d4df5e": {
      "model_module": "@jupyter-widgets/controls",
      "model_module_version": "1.0.0",
      "model_name": "FloatSliderModel",
      "state": {
       "description": "m",
       "layout": "IPY_MODEL_636396db7c8148dc9675e88b8831d4b6",
       "max": 2,
       "min": -2,
       "step": 0.1,
       "style": "IPY_MODEL_d47a58a7b61640ad85cbfc20ea0b6892"
      }
     },
     "d9191b0d04e140cfa505557ca967569d": {
      "model_module": "@jupyter-widgets/base",
      "model_module_version": "1.0.0",
      "model_name": "LayoutModel",
      "state": {}
     },
     "d95a267193864be3b4f698fb38c1540e": {
      "model_module": "@jupyter-widgets/base",
      "model_module_version": "1.0.0",
      "model_name": "LayoutModel",
      "state": {}
     },
     "d981f819f1334620a71243eaf0daa139": {
      "model_module": "@jupyter-widgets/base",
      "model_module_version": "1.0.0",
      "model_name": "LayoutModel",
      "state": {}
     },
     "d9dbddeabc8243358b3fbb84284d7e9f": {
      "model_module": "@jupyter-widgets/controls",
      "model_module_version": "1.0.0",
      "model_name": "IntSliderModel",
      "state": {
       "description": "b",
       "layout": "IPY_MODEL_4e6f2d4a41a146749619cb10503aaa0d",
       "max": 60,
       "min": -20,
       "style": "IPY_MODEL_67b862d11ace4167858b8d56e5f3cf15",
       "value": 20
      }
     },
     "d9dc98615b764f8a9def81d39449f99b": {
      "model_module": "@jupyter-widgets/output",
      "model_module_version": "1.0.0",
      "model_name": "OutputModel",
      "state": {
       "layout": "IPY_MODEL_de4163dc842e47628c149a5d4e01354b",
       "outputs": [
        {
         "data": {
          "text/plain": "10"
         },
         "metadata": {},
         "output_type": "display_data"
        }
       ]
      }
     },
     "d9eb2f71b5d24d3795512bfb4b08b092": {
      "model_module": "@jupyter-widgets/controls",
      "model_module_version": "1.0.0",
      "model_name": "IntSliderModel",
      "state": {
       "description": "x",
       "layout": "IPY_MODEL_7f02cf63ac9041b7b75359b6f1a444b6",
       "max": 4,
       "style": "IPY_MODEL_28af92d07c7f41138bafe4ab07cc63e9",
       "value": 2
      }
     },
     "da9d21ae8074447aa10b45ccf0565a1f": {
      "model_module": "@jupyter-widgets/controls",
      "model_module_version": "1.0.0",
      "model_name": "SliderStyleModel",
      "state": {
       "description_width": ""
      }
     },
     "daa6f70b92984fdbad30be5300964ae4": {
      "model_module": "@jupyter-widgets/base",
      "model_module_version": "1.0.0",
      "model_name": "LayoutModel",
      "state": {}
     },
     "db34eee3dd74447eb0b17f7d4a32a676": {
      "model_module": "@jupyter-widgets/base",
      "model_module_version": "1.0.0",
      "model_name": "LayoutModel",
      "state": {
       "height": "350px"
      }
     },
     "db4a04f7de52483d990e56f1f1886baa": {
      "model_module": "@jupyter-widgets/base",
      "model_module_version": "1.0.0",
      "model_name": "LayoutModel",
      "state": {}
     },
     "db5874cfeb2f48689cde335f1ba68aeb": {
      "model_module": "@jupyter-widgets/base",
      "model_module_version": "1.0.0",
      "model_name": "LayoutModel",
      "state": {}
     },
     "db8a574cc1c54029b83813e613856e33": {
      "model_module": "@jupyter-widgets/controls",
      "model_module_version": "1.0.0",
      "model_name": "FloatSliderModel",
      "state": {
       "description": "b",
       "layout": "IPY_MODEL_3e03720ce45f4f22bcfac91e72ed11af",
       "max": 3,
       "min": -3,
       "step": 0.5,
       "style": "IPY_MODEL_d02c5ad8147e468eb83872b6f69a7f18"
      }
     },
     "dbb5adce87c8479da67dc098b201b1f4": {
      "model_module": "@jupyter-widgets/controls",
      "model_module_version": "1.0.0",
      "model_name": "SliderStyleModel",
      "state": {
       "description_width": ""
      }
     },
     "dbba8c8f32db4a329c771e8a4726256b": {
      "model_module": "@jupyter-widgets/controls",
      "model_module_version": "1.0.0",
      "model_name": "VBoxModel",
      "state": {
       "_dom_classes": [
        "widget-interact"
       ],
       "children": [
        "IPY_MODEL_9d5fbb4923c04686a39328d4b1bcf6e7",
        "IPY_MODEL_6085b36da18c46f5bc5077eb192ce61c"
       ],
       "layout": "IPY_MODEL_b80c91267ea643f4ad49fb9f66e8427a"
      }
     },
     "dc065cd5085d4d40b9c02f56bc938df1": {
      "model_module": "@jupyter-widgets/controls",
      "model_module_version": "1.0.0",
      "model_name": "SliderStyleModel",
      "state": {
       "description_width": ""
      }
     },
     "dd1d21dd26e148b2ba18c4881d69b28b": {
      "model_module": "@jupyter-widgets/controls",
      "model_module_version": "1.0.0",
      "model_name": "SliderStyleModel",
      "state": {
       "description_width": ""
      }
     },
     "dd419faa2cb34e84b3a2451609c11186": {
      "model_module": "@jupyter-widgets/controls",
      "model_module_version": "1.0.0",
      "model_name": "SliderStyleModel",
      "state": {
       "description_width": ""
      }
     },
     "de0789f372034f7380bf32d56c1e7456": {
      "model_module": "@jupyter-widgets/controls",
      "model_module_version": "1.0.0",
      "model_name": "IntSliderModel",
      "state": {
       "description": "x",
       "layout": "IPY_MODEL_104d5af710c64c59af898e91f8cbf71b",
       "max": 30,
       "min": -10,
       "style": "IPY_MODEL_bb83d864494c44f4a3557b59b83ab563",
       "value": 10
      }
     },
     "de4163dc842e47628c149a5d4e01354b": {
      "model_module": "@jupyter-widgets/base",
      "model_module_version": "1.0.0",
      "model_name": "LayoutModel",
      "state": {}
     },
     "de78ab0a80e34971977f31e63509202c": {
      "model_module": "@jupyter-widgets/controls",
      "model_module_version": "1.0.0",
      "model_name": "VBoxModel",
      "state": {
       "_dom_classes": [
        "widget-interact"
       ],
       "children": [
        "IPY_MODEL_609fd54441a0451187c6356ed4896192",
        "IPY_MODEL_77ec575bfed74ffc83e56665622ded50"
       ],
       "layout": "IPY_MODEL_292ad8331d7e47d1bfefc1a0db9c2aea"
      }
     },
     "dfd4e4908c8d46e38660c68051fcc6b2": {
      "model_module": "@jupyter-widgets/controls",
      "model_module_version": "1.0.0",
      "model_name": "VBoxModel",
      "state": {
       "_dom_classes": [
        "widget-interact"
       ],
       "children": [
        "IPY_MODEL_20b58dc71d7843d598621f0632a1230e",
        "IPY_MODEL_4b687c5f4a944238a5fd0d2ad4248a35"
       ],
       "layout": "IPY_MODEL_b1d246421ffc46a8a54dcf3400c08c41"
      }
     },
     "dfda4a699d0443e0bdd94c8edca2e50a": {
      "model_module": "@jupyter-widgets/controls",
      "model_module_version": "1.0.0",
      "model_name": "SliderStyleModel",
      "state": {
       "description_width": ""
      }
     },
     "e03676e1089c49e892a98e5a94fc654e": {
      "model_module": "@jupyter-widgets/base",
      "model_module_version": "1.0.0",
      "model_name": "LayoutModel",
      "state": {}
     },
     "e05026710ce94b0598bd5d6cafb4e573": {
      "model_module": "@jupyter-widgets/controls",
      "model_module_version": "1.0.0",
      "model_name": "HBoxModel",
      "state": {
       "children": [
        "IPY_MODEL_002b3460d9304f8d8fd40678b98e79f9",
        "IPY_MODEL_81b0ca09bf9a43e0a9e875d1c857a1f7",
        "IPY_MODEL_15f90d55220246078154288ff9eb61ff"
       ],
       "layout": "IPY_MODEL_285cba817e2848adb2e6e438a3049da2"
      }
     },
     "e113ce6d8a384561a449fbc0cf63e8b2": {
      "model_module": "@jupyter-widgets/base",
      "model_module_version": "1.0.0",
      "model_name": "LayoutModel",
      "state": {}
     },
     "e1371a091f8044328f72741f5c91c34d": {
      "model_module": "@jupyter-widgets/controls",
      "model_module_version": "1.0.0",
      "model_name": "FloatSliderModel",
      "state": {
       "description": "m",
       "layout": "IPY_MODEL_8797b420e30f47e7b24743606052a638",
       "max": 2,
       "min": -2,
       "step": 0.1,
       "style": "IPY_MODEL_c806e13f68ac4beea71c447f1f747ecc"
      }
     },
     "e18e997153604672bc9d5d7a6d30f4ac": {
      "model_module": "@jupyter-widgets/base",
      "model_module_version": "1.0.0",
      "model_name": "LayoutModel",
      "state": {}
     },
     "e23135ea6d8b44a4920c640907c6f69d": {
      "model_module": "@jupyter-widgets/output",
      "model_module_version": "1.0.0",
      "model_name": "OutputModel",
      "state": {
       "layout": "IPY_MODEL_1a5a3ec78cce4dffa7ab97241945abbe",
       "outputs": [
        {
         "data": {
          "text/plain": "(True, 2.5)"
         },
         "metadata": {},
         "output_type": "display_data"
        }
       ]
      }
     },
     "e2e2247292aa4237b003ec2b149b3742": {
      "model_module": "@jupyter-widgets/controls",
      "model_module_version": "1.0.0",
      "model_name": "IntSliderModel",
      "state": {
       "description": "a",
       "layout": "IPY_MODEL_5e8137051955480093738df55112d872",
       "max": 30,
       "min": -10,
       "style": "IPY_MODEL_4a72cc54f03e4dfda595bf3bdb085d14",
       "value": 10
      }
     },
     "e343d919c6574cf5b5b7c2b7041573bd": {
      "model_module": "@jupyter-widgets/base",
      "model_module_version": "1.0.0",
      "model_name": "LayoutModel",
      "state": {}
     },
     "e3e77012e2c145f0afb779278390dbc6": {
      "model_module": "@jupyter-widgets/controls",
      "model_module_version": "1.0.0",
      "model_name": "IntSliderModel",
      "state": {
       "description": "x",
       "layout": "IPY_MODEL_fc4a309d096d4096b20f0c6bb8182dc4",
       "max": 4,
       "style": "IPY_MODEL_ab6b248b3179426fac67fab27eda29b0",
       "value": 2
      }
     },
     "e45e0a9df8a1409a881f303e0fd7ec35": {
      "model_module": "@jupyter-widgets/controls",
      "model_module_version": "1.0.0",
      "model_name": "DropdownModel",
      "state": {
       "_options_labels": [
        "apples",
        "oranges"
       ],
       "description": "x",
       "index": 0,
       "layout": "IPY_MODEL_1181b628c91345b38b80706192c35b4c",
       "style": "IPY_MODEL_7a4bfe304b074a5f9e799e0306c21aec"
      }
     },
     "e55eb2a4dc1f4a34929fb23384c3ef67": {
      "model_module": "@jupyter-widgets/base",
      "model_module_version": "1.0.0",
      "model_name": "LayoutModel",
      "state": {}
     },
     "e581f18d5ac444aea5fc1129366514a0": {
      "model_module": "@jupyter-widgets/output",
      "model_module_version": "1.0.0",
      "model_name": "OutputModel",
      "state": {
       "layout": "IPY_MODEL_60b6902d10824a6da479619674d49e48",
       "outputs": [
        {
         "data": {
          "text/plain": "10"
         },
         "metadata": {},
         "output_type": "display_data"
        }
       ]
      }
     },
     "e5c056a570a74e81b0bda905597b43be": {
      "model_module": "@jupyter-widgets/base",
      "model_module_version": "1.0.0",
      "model_name": "LayoutModel",
      "state": {}
     },
     "e642338b99bd475a8fd139c7ece15fdb": {
      "model_module": "@jupyter-widgets/base",
      "model_module_version": "1.0.0",
      "model_name": "LayoutModel",
      "state": {}
     },
     "e68c44853528476ab2e86863697bd133": {
      "model_module": "@jupyter-widgets/base",
      "model_module_version": "1.0.0",
      "model_name": "LayoutModel",
      "state": {}
     },
     "e7417313fdcc4b7ebe908c32f71ed2ce": {
      "model_module": "@jupyter-widgets/controls",
      "model_module_version": "1.0.0",
      "model_name": "SliderStyleModel",
      "state": {
       "description_width": ""
      }
     },
     "e7549c89755a41818dd17e3af09d3bb5": {
      "model_module": "@jupyter-widgets/output",
      "model_module_version": "1.0.0",
      "model_name": "OutputModel",
      "state": {
       "layout": "IPY_MODEL_08bbe58d62cf487db032695244a8ebf2",
       "outputs": [
        {
         "name": "stdout",
         "output_type": "stream",
         "text": "(50, 41, 57)\n"
        }
       ]
      }
     },
     "e78b157df50948faaa865079109198f2": {
      "model_module": "@jupyter-widgets/output",
      "model_module_version": "1.0.0",
      "model_name": "OutputModel",
      "state": {
       "layout": "IPY_MODEL_3a81223b672741c89f403370ef999e4f",
       "outputs": [
        {
         "data": {
          "text/plain": "\"I'm Nic!\""
         },
         "metadata": {},
         "output_type": "display_data"
        }
       ]
      }
     },
     "e7b27be01bce49f1b8b6d77410d9dde5": {
      "model_module": "@jupyter-widgets/controls",
      "model_module_version": "1.0.0",
      "model_name": "FloatSliderModel",
      "state": {
       "description": "i",
       "layout": "IPY_MODEL_7b260288c5564916b696b78f9fcc8d40",
       "max": 10000000,
       "min": 100000,
       "step": 100000,
       "style": "IPY_MODEL_d8b34866375d4950b9e411b0b1e9470f",
       "value": 100000
      }
     },
     "e8737938b4004d9c800027e6354b9491": {
      "model_module": "@jupyter-widgets/base",
      "model_module_version": "1.0.0",
      "model_name": "LayoutModel",
      "state": {}
     },
     "e88e257a6cdd4078af8d5807a34dc63d": {
      "model_module": "@jupyter-widgets/controls",
      "model_module_version": "1.0.0",
      "model_name": "IntSliderModel",
      "state": {
       "description": "x",
       "layout": "IPY_MODEL_ad7362795e714e15ad2cf324f37fbe23",
       "max": 30,
       "min": -10,
       "style": "IPY_MODEL_4d23bf40e6894e35aed646fe1c94b3eb",
       "value": 10
      }
     },
     "e9183b9e098d485f8dde676bfe9b0524": {
      "model_module": "@jupyter-widgets/controls",
      "model_module_version": "1.0.0",
      "model_name": "IntSliderModel",
      "state": {
       "layout": "IPY_MODEL_1c50fd7f11f94758a2d19f64cd332be2",
       "style": "IPY_MODEL_84dabe3dde5e4b2d9518c739d5807c47"
      }
     },
     "ea5118e79c114b86b5020b955c81396d": {
      "model_module": "@jupyter-widgets/base",
      "model_module_version": "1.0.0",
      "model_name": "LayoutModel",
      "state": {}
     },
     "ea7a2527251b4c00b66f6609b7abd144": {
      "model_module": "@jupyter-widgets/output",
      "model_module_version": "1.0.0",
      "model_name": "OutputModel",
      "state": {
       "layout": "IPY_MODEL_784fb088d9e94bbab03bb50f90c97f7f",
       "outputs": [
        {
         "data": {
          "text/plain": "5.0"
         },
         "metadata": {},
         "output_type": "display_data"
        }
       ]
      }
     },
     "ea7ee28eae864470a48e0d2c553b6402": {
      "model_module": "@jupyter-widgets/base",
      "model_module_version": "1.0.0",
      "model_name": "LayoutModel",
      "state": {}
     },
     "ea94078fdbe649ffa760b68c826cb258": {
      "model_module": "@jupyter-widgets/controls",
      "model_module_version": "1.0.0",
      "model_name": "HBoxModel",
      "state": {
       "children": [
        "IPY_MODEL_e9183b9e098d485f8dde676bfe9b0524",
        "IPY_MODEL_edd5a68755bc4b618add3a36f85bc4ce",
        "IPY_MODEL_60d050afe0c7466cb721151432857d48"
       ],
       "layout": "IPY_MODEL_26e8c6dd1d004061b590a53a2e32f03d"
      }
     },
     "eb141efcc7b04b4e8733e872924013c1": {
      "model_module": "@jupyter-widgets/base",
      "model_module_version": "1.0.0",
      "model_name": "LayoutModel",
      "state": {}
     },
     "eb4ec743ac044836a8962197b9f9572e": {
      "model_module": "@jupyter-widgets/controls",
      "model_module_version": "1.0.0",
      "model_name": "VBoxModel",
      "state": {
       "_dom_classes": [
        "widget-interact"
       ],
       "children": [
        "IPY_MODEL_606111bdd8ce48c48d4da70fe5af6847",
        "IPY_MODEL_72b5d434bf6a472899f674913452d9ff"
       ],
       "layout": "IPY_MODEL_c601dc9aa57e4780b057d3e5a7501d7a"
      }
     },
     "eb80dad8315d4ce7ac0158da45366330": {
      "model_module": "@jupyter-widgets/controls",
      "model_module_version": "1.0.0",
      "model_name": "IntSliderModel",
      "state": {
       "description": "p",
       "layout": "IPY_MODEL_34d14fbe5df9425ea4b3e7d0b894fd62",
       "max": 15,
       "min": -5,
       "style": "IPY_MODEL_1f5382f01dca4140a3268c06ce8dfc51",
       "value": 5
      }
     },
     "eb96ff4d451849d197821556b1a0f48c": {
      "model_module": "@jupyter-widgets/base",
      "model_module_version": "1.0.0",
      "model_name": "LayoutModel",
      "state": {}
     },
     "eba0536d32594adca9f5e4d57c0d6a79": {
      "model_module": "@jupyter-widgets/controls",
      "model_module_version": "1.0.0",
      "model_name": "IntSliderModel",
      "state": {
       "description": "x",
       "layout": "IPY_MODEL_e5c056a570a74e81b0bda905597b43be",
       "max": 8,
       "step": 2,
       "style": "IPY_MODEL_4518e582193b4be4827fef65bf005d15",
       "value": 4
      }
     },
     "ebc89a0f300d4013a5f7fdf8dcb87a5a": {
      "model_module": "@jupyter-widgets/base",
      "model_module_version": "1.0.0",
      "model_name": "LayoutModel",
      "state": {}
     },
     "ebe6b0dc9900448580269d103d99b002": {
      "model_module": "@jupyter-widgets/controls",
      "model_module_version": "1.0.0",
      "model_name": "VBoxModel",
      "state": {
       "_dom_classes": [
        "widget-interact"
       ],
       "children": [
        "IPY_MODEL_b2af086f9624436e8197ace4d4bd7cc3",
        "IPY_MODEL_d36bab688aba401aad49938d39cc7db6"
       ],
       "layout": "IPY_MODEL_423d9e93eed04c03a9e7a601fa74f546"
      }
     },
     "ebecf86ee50d4229814f36a2d575c9e1": {
      "model_module": "@jupyter-widgets/controls",
      "model_module_version": "1.0.0",
      "model_name": "SliderStyleModel",
      "state": {
       "description_width": ""
      }
     },
     "ecb3e34f097440448dcc6d4c25ef6c82": {
      "model_module": "@jupyter-widgets/base",
      "model_module_version": "1.0.0",
      "model_name": "LayoutModel",
      "state": {
       "height": "350px"
      }
     },
     "ecf8c3e2f7494ad59e965a99b9328cc5": {
      "model_module": "@jupyter-widgets/controls",
      "model_module_version": "1.0.0",
      "model_name": "SliderStyleModel",
      "state": {
       "description_width": ""
      }
     },
     "ed598602d1614e48b9dc29f17f002dfe": {
      "model_module": "@jupyter-widgets/controls",
      "model_module_version": "1.0.0",
      "model_name": "SliderStyleModel",
      "state": {
       "description_width": ""
      }
     },
     "edc878b6e41e4471961454872a12e0e9": {
      "model_module": "@jupyter-widgets/controls",
      "model_module_version": "1.0.0",
      "model_name": "FloatSliderModel",
      "state": {
       "description": "y",
       "layout": "IPY_MODEL_6d8c2ebd378f47f48d79f93b37feeabc",
       "max": 3,
       "min": -1,
       "step": 0.1,
       "style": "IPY_MODEL_1c23d05998f043ec9ee10a9194d29adb",
       "value": 2.5
      }
     },
     "edd5a68755bc4b618add3a36f85bc4ce": {
      "model_module": "@jupyter-widgets/controls",
      "model_module_version": "1.0.0",
      "model_name": "IntSliderModel",
      "state": {
       "layout": "IPY_MODEL_f9555b50c7954d6cb5b5327bab3908d8",
       "style": "IPY_MODEL_7eaa84f1117249518c5a33bc793504b3"
      }
     },
     "edf240b3bb2e4cd397b7f2469b94f90d": {
      "model_module": "@jupyter-widgets/controls",
      "model_module_version": "1.0.0",
      "model_name": "DropdownModel",
      "state": {
       "_options_labels": [
        "one",
        "two"
       ],
       "description": "x",
       "index": 0,
       "layout": "IPY_MODEL_afef7ad1fcbd4a6ab1fe67d74d0c293c",
       "style": "IPY_MODEL_c7169f60a6b44e68b22bec2cc41972b0"
      }
     },
     "ee3555baad124cc79ce96d9c80a49d59": {
      "model_module": "@jupyter-widgets/controls",
      "model_module_version": "1.0.0",
      "model_name": "SliderStyleModel",
      "state": {
       "description_width": ""
      }
     },
     "effd89bf7b88434287e9e3563da20198": {
      "model_module": "@jupyter-widgets/base",
      "model_module_version": "1.0.0",
      "model_name": "LayoutModel",
      "state": {}
     },
     "effeda8b4b384dba88bf7bd7db4ac7bb": {
      "model_module": "@jupyter-widgets/base",
      "model_module_version": "1.0.0",
      "model_name": "LayoutModel",
      "state": {}
     },
     "f06c2272c97e4a568a239a19d63f16f7": {
      "model_module": "@jupyter-widgets/controls",
      "model_module_version": "1.0.0",
      "model_name": "VBoxModel",
      "state": {
       "_dom_classes": [
        "widget-interact"
       ],
       "children": [
        "IPY_MODEL_0d24c526306b4985a22becc495f6c056",
        "IPY_MODEL_c422e26de58c4a21bd164f475f374a78"
       ],
       "layout": "IPY_MODEL_56b823ee82b145fd8b2d3d566b2d6e6f"
      }
     },
     "f0a83508147543e3a7fb99a036155eed": {
      "model_module": "@jupyter-widgets/controls",
      "model_module_version": "1.0.0",
      "model_name": "SliderStyleModel",
      "state": {
       "description_width": ""
      }
     },
     "f0acc5ba96ce4d44ba8f0ea7a4125646": {
      "model_module": "@jupyter-widgets/base",
      "model_module_version": "1.0.0",
      "model_name": "LayoutModel",
      "state": {}
     },
     "f174dd6bb3e942c696227d2eb2a1064e": {
      "model_module": "@jupyter-widgets/base",
      "model_module_version": "1.0.0",
      "model_name": "LayoutModel",
      "state": {}
     },
     "f1921ed05eb5480fb61c11368df17d4c": {
      "model_module": "@jupyter-widgets/controls",
      "model_module_version": "1.0.0",
      "model_name": "FloatSliderModel",
      "state": {
       "description": "x",
       "layout": "IPY_MODEL_833f06740b4640208d94aca04af023ca",
       "max": 20,
       "step": 0.5,
       "style": "IPY_MODEL_1d5370924a014490b1c2eca7eb192c1e",
       "value": 5.5
      }
     },
     "f2283cd2c99b49c0a26969057df9e7e8": {
      "model_module": "@jupyter-widgets/output",
      "model_module_version": "1.0.0",
      "model_name": "OutputModel",
      "state": {
       "layout": "IPY_MODEL_1e5e89d511ca4d66a461fce649b76f4d",
       "outputs": [
        {
         "data": {
          "image/png": "iVBORw0KGgoAAAANSUhEUgAAAXYAAAD8CAYAAABjAo9vAAAABHNCSVQICAgIfAhkiAAAAAlwSFlz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\n",
          "text/plain": "<matplotlib.figure.Figure at 0x10dcfbe48>"
         },
         "metadata": {},
         "output_type": "display_data"
        }
       ]
      }
     },
     "f27377303d5f47e6acf1e3168fc0f1e5": {
      "model_module": "@jupyter-widgets/controls",
      "model_module_version": "1.0.0",
      "model_name": "DescriptionStyleModel",
      "state": {
       "description_width": ""
      }
     },
     "f29ca0d1b0804a26a6cd77c203ae1f43": {
      "model_module": "@jupyter-widgets/controls",
      "model_module_version": "1.0.0",
      "model_name": "DescriptionStyleModel",
      "state": {
       "description_width": ""
      }
     },
     "f2a8b816d6224945b5a55be697a70c61": {
      "model_module": "@jupyter-widgets/output",
      "model_module_version": "1.0.0",
      "model_name": "OutputModel",
      "state": {
       "layout": "IPY_MODEL_d6dd63fdf9464d998023b83f0384d039",
       "outputs": [
        {
         "data": {
          "text/plain": "(True, 1.0)"
         },
         "metadata": {},
         "output_type": "display_data"
        }
       ]
      }
     },
     "f2d2223b8028460d897f3defbe00705f": {
      "model_module": "@jupyter-widgets/base",
      "model_module_version": "1.0.0",
      "model_name": "LayoutModel",
      "state": {
       "height": "350px"
      }
     },
     "f2fd84d49917475082de06390b3308b8": {
      "model_module": "@jupyter-widgets/controls",
      "model_module_version": "1.0.0",
      "model_name": "VBoxModel",
      "state": {
       "_dom_classes": [
        "widget-interact"
       ],
       "children": [
        "IPY_MODEL_8f2cf00cd6424c4ab56ab8738113d552",
        "IPY_MODEL_74bc7551734c4de5b0007c3356260ae1",
        "IPY_MODEL_9d2968f59d15464080f65ce168965ed4"
       ],
       "layout": "IPY_MODEL_969575d055c544a0b4919272df6b6c9e"
      }
     },
     "f32b71d816c04072b754c4bf9a5aedc3": {
      "model_module": "@jupyter-widgets/base",
      "model_module_version": "1.0.0",
      "model_name": "LayoutModel",
      "state": {}
     },
     "f3e47bb3d68c4ea7aecdf931bc9d9c60": {
      "model_module": "@jupyter-widgets/controls",
      "model_module_version": "1.0.0",
      "model_name": "SliderStyleModel",
      "state": {
       "description_width": ""
      }
     },
     "f435e9c6d1ce4ac3b835bf357c3e5a84": {
      "model_module": "@jupyter-widgets/controls",
      "model_module_version": "1.0.0",
      "model_name": "SliderStyleModel",
      "state": {
       "description_width": ""
      }
     },
     "f43b8900323445d5aec14f48a5df2926": {
      "model_module": "@jupyter-widgets/output",
      "model_module_version": "1.0.0",
      "model_name": "OutputModel",
      "state": {
       "layout": "IPY_MODEL_c71654839265446cb33a1957336ae3cf",
       "outputs": [
        {
         "data": {
          "text/plain": "'Hi there!'"
         },
         "metadata": {},
         "output_type": "display_data"
        }
       ]
      }
     },
     "f4bd54814b4043dcb97c808e6e9de2ae": {
      "model_module": "@jupyter-widgets/controls",
      "model_module_version": "1.0.0",
      "model_name": "SliderStyleModel",
      "state": {
       "description_width": ""
      }
     },
     "f593afd5745b448f894012a9d59a0aa8": {
      "model_module": "@jupyter-widgets/controls",
      "model_module_version": "1.0.0",
      "model_name": "VBoxModel",
      "state": {
       "_dom_classes": [
        "widget-interact"
       ],
       "children": [
        "IPY_MODEL_3f51768b173941d2acb4bb3701e15ad1",
        "IPY_MODEL_016347f1b5a041928b91194ca4b56653"
       ],
       "layout": "IPY_MODEL_60b9d3571de44d45976ef4622154228e"
      }
     },
     "f5f7a268245041988de442c8e694d49f": {
      "model_module": "@jupyter-widgets/controls",
      "model_module_version": "1.0.0",
      "model_name": "VBoxModel",
      "state": {
       "_dom_classes": [
        "widget-interact"
       ],
       "children": [
        "IPY_MODEL_e2e2247292aa4237b003ec2b149b3742",
        "IPY_MODEL_7019403e8f1c4e2fb624468ac1ccfcff",
        "IPY_MODEL_d2b5175058414020b6f4cc19ef09b89e"
       ],
       "layout": "IPY_MODEL_2c9ed22204434cd0a07e1e7fa800d2fd"
      }
     },
     "f63e47d7247d4fe8b4e524cbaa44f01c": {
      "model_module": "@jupyter-widgets/base",
      "model_module_version": "1.0.0",
      "model_name": "LayoutModel",
      "state": {}
     },
     "f6492cfca3154bbeb02efee93d10d441": {
      "model_module": "@jupyter-widgets/controls",
      "model_module_version": "1.0.0",
      "model_name": "VBoxModel",
      "state": {
       "_dom_classes": [
        "widget-interact"
       ],
       "children": [
        "IPY_MODEL_92f3b09cf2444aeda25344ef465e8a61",
        "IPY_MODEL_e78b157df50948faaa865079109198f2"
       ],
       "layout": "IPY_MODEL_4024fbfbc10f42deb18e8be4ec803ec4"
      }
     },
     "f66999afba78439493772862a39d9db1": {
      "model_module": "@jupyter-widgets/base",
      "model_module_version": "1.0.0",
      "model_name": "LayoutModel",
      "state": {}
     },
     "f7add63410034d6ba409b373e7b13741": {
      "model_module": "@jupyter-widgets/controls",
      "model_module_version": "1.0.0",
      "model_name": "SliderStyleModel",
      "state": {
       "description_width": ""
      }
     },
     "f888525ec62d41ac8612409ff251f963": {
      "model_module": "@jupyter-widgets/controls",
      "model_module_version": "1.0.0",
      "model_name": "ButtonModel",
      "state": {
       "description": "Run Interact",
       "layout": "IPY_MODEL_9045d7c97da74d2a9e296cfd08549cf8",
       "style": "IPY_MODEL_31deb28220a5426e95f1f9e3e97165bf"
      }
     },
     "f8a71c8081e34c799913cd8f79442dca": {
      "model_module": "@jupyter-widgets/controls",
      "model_module_version": "1.0.0",
      "model_name": "VBoxModel",
      "state": {
       "_dom_classes": [
        "widget-interact"
       ],
       "children": [
        "IPY_MODEL_ae60d596ebdc41079be23fbd7ad44854",
        "IPY_MODEL_0da61cc18bd94a74a0ec80217af970e5",
        "IPY_MODEL_04b3b66d85a74dea9e7665d423300718"
       ],
       "layout": "IPY_MODEL_37a0d9acdfe849828a2e52da5f80539a"
      }
     },
     "f9555b50c7954d6cb5b5327bab3908d8": {
      "model_module": "@jupyter-widgets/base",
      "model_module_version": "1.0.0",
      "model_name": "LayoutModel",
      "state": {}
     },
     "f99a8d2836ef4f0591340441930ceb50": {
      "model_module": "@jupyter-widgets/base",
      "model_module_version": "1.0.0",
      "model_name": "LayoutModel",
      "state": {}
     },
     "f9b599b82268402b816a80f26457ee14": {
      "model_module": "@jupyter-widgets/controls",
      "model_module_version": "1.0.0",
      "model_name": "FloatSliderModel",
      "state": {
       "description": "b",
       "layout": "IPY_MODEL_b5a4c3554b2c4986b8c5f10fd41bbcce",
       "max": 3,
       "min": -3,
       "step": 0.5,
       "style": "IPY_MODEL_36cb3be6976a46d19954ee14388fd7a8"
      }
     },
     "fa3097d874304831b2525e93d62846fb": {
      "model_module": "@jupyter-widgets/controls",
      "model_module_version": "1.0.0",
      "model_name": "FloatSliderModel",
      "state": {
       "description": "i",
       "layout": "IPY_MODEL_0b6031e4e9d74439a9861b4be607bb64",
       "max": 10000000,
       "min": 100000,
       "step": 100000,
       "style": "IPY_MODEL_83e2186a7df348bba7c2664ba0df03b6",
       "value": 100000
      }
     },
     "fb2c25fd212f46a19c34534c7eb4f2c3": {
      "model_module": "@jupyter-widgets/controls",
      "model_module_version": "1.0.0",
      "model_name": "FloatSliderModel",
      "state": {
       "description": "i",
       "layout": "IPY_MODEL_45b1c937f15c402f9e003b3d0bc9936e",
       "max": 10000000,
       "min": 100000,
       "step": 100000,
       "style": "IPY_MODEL_17683840fc9d4d1bbb742ce2ce48830b",
       "value": 2800000
      }
     },
     "fc4a309d096d4096b20f0c6bb8182dc4": {
      "model_module": "@jupyter-widgets/base",
      "model_module_version": "1.0.0",
      "model_name": "LayoutModel",
      "state": {}
     },
     "fcd740593e444ea59488cd37cfcdc563": {
      "model_module": "@jupyter-widgets/output",
      "model_module_version": "1.0.0",
      "model_name": "OutputModel",
      "state": {
       "layout": "IPY_MODEL_be1acf4e89c8471a88135adb62eaec4c",
       "outputs": [
        {
         "data": {
          "text/plain": "'Hi there!'"
         },
         "metadata": {},
         "output_type": "display_data"
        }
       ]
      }
     },
     "fd231b6b1e6c489aa2aa1514ee53fce8": {
      "model_module": "@jupyter-widgets/controls",
      "model_module_version": "1.0.0",
      "model_name": "VBoxModel",
      "state": {
       "_dom_classes": [
        "widget-interact"
       ],
       "children": [
        "IPY_MODEL_b1cda3e279b04064ad38d4d1baffa6df",
        "IPY_MODEL_10dffd37e6174bf782219ba39821928a"
       ],
       "layout": "IPY_MODEL_5a98ae9fa2804516bf0845dcc34c30ec"
      }
     },
     "fe6a2ddd7a8a42c18b014b1285ff206c": {
      "model_module": "@jupyter-widgets/controls",
      "model_module_version": "1.0.0",
      "model_name": "SliderStyleModel",
      "state": {
       "description_width": ""
      }
     },
     "fe7658435b2044c088058db696d6f6eb": {
      "model_module": "@jupyter-widgets/base",
      "model_module_version": "1.0.0",
      "model_name": "LayoutModel",
      "state": {}
     },
     "fe8754c3eee54577b416e17502c8083c": {
      "model_module": "@jupyter-widgets/base",
      "model_module_version": "1.0.0",
      "model_name": "LayoutModel",
      "state": {}
     },
     "ff084244e3f14153af41dc18227d2650": {
      "model_module": "@jupyter-widgets/base",
      "model_module_version": "1.0.0",
      "model_name": "LayoutModel",
      "state": {}
     },
     "ff58ce8a0d93452eb9d1fc38edec1241": {
      "model_module": "@jupyter-widgets/controls",
      "model_module_version": "1.0.0",
      "model_name": "FloatSliderModel",
      "state": {
       "description": "x",
       "layout": "IPY_MODEL_ca6c96e166b949bd900b442dbb370ffc",
       "max": 10,
       "step": 0.05,
       "style": "IPY_MODEL_792d234d59e04c1c929809e32b6f461b"
      }
     },
     "ffc1de3eae2642ffa2efc23ec35a5d44": {
      "model_module": "@jupyter-widgets/controls",
      "model_module_version": "1.0.0",
      "model_name": "DropdownModel",
      "state": {
       "_options_labels": [
        "one",
        "two"
       ],
       "description": "x",
       "index": 0,
       "layout": "IPY_MODEL_93243f0dedeb4323b6ecea922c695af1",
       "style": "IPY_MODEL_0221dda3e8bb46d2bb8cda792eb338fa"
      }
     },
     "fffdaefaa32949078883ab0d364c9158": {
      "model_module": "@jupyter-widgets/base",
      "model_module_version": "1.0.0",
      "model_name": "LayoutModel",
      "state": {}
     }
    },
    "version_major": 2,
    "version_minor": 0
   }
  }
 },
 "nbformat": 4,
 "nbformat_minor": 1
}
